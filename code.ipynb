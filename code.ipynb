{
 "cells": [
  {
   "cell_type": "markdown",
   "metadata": {},
   "source": [
    "# Problem Statement"
   ]
  },
  {
   "cell_type": "markdown",
   "metadata": {},
   "source": [
    "With the increasing reliance on digital payment systems like PhonePe, understanding the dynamics of transactions, user engagement, and insurance-related data is crucial for improving services and targeting users effectively. This project aims to analyze and visualize aggregated values of payment categories, create maps for total values at state and district levels, and identify top-performing states, districts, and pin codes."
   ]
  },
  {
   "cell_type": "markdown",
   "metadata": {},
   "source": [
    "# Know your data"
   ]
  },
  {
   "cell_type": "markdown",
   "metadata": {},
   "source": [
    "### **PhonePe Pulse - Data**\n",
    "\n",
    "The Indian digital payments story has truly captured the world’s imagination. From the largest towns to the remotest villages, there is a payments revolution being driven by the penetration of mobile phones, mobile internet and state-of-art payments infrastructure built as Public Goods championed by the central bank and the government. PhonePe started in 2016 and has been a strong beneficiary of the API driven digitisation of payments in India. When we started, we were constantly looking for definitive data sources on digital payments in India without much success. As a way of giving back to the data and developer community, we decided to open the anonymised aggregate data sets that demystify the what, why and how of digital payments in India. Licensed under the [CDLA-Permissive-2.0 open data license](https://cdla.dev/permissive-2-0/), the PhonePe Pulse Dataset API is a first of its kind open data initiative in the payments space.\n",
    "\n",
    "---\n",
    "\n",
    "### **Goal**\n",
    "\n",
    "Our goal is to share this data with everyone (license below), so that you can build your own understanding, insights and visualization on how digital payments have evolved over the years in India.\n",
    "\n",
    "---\n",
    "\n",
    "### **Guide**\n",
    "\n",
    "This [data](https://github.com/PhonePe/pulse/tree/master/data) has been structured to provide details of following three sections with data cuts on **Transactions**, **Users** and **Insurance** of PhonePe Pulse – Explore tab.\n",
    "\n",
    "1. **Aggregated** – Aggregated values of various payment categories as shown under Categories section\n",
    "2. **Map** – Total values at the State and District levels.\n",
    "3. **Top** – Totals of top States / Districts / Pin Codes\n",
    "\n",
    "All the data provided in these folders is of JSON format.\n",
    "\n"
   ]
  },
  {
   "cell_type": "markdown",
   "metadata": {},
   "source": [
    "# Exploring & understanding the dataset"
   ]
  },
  {
   "cell_type": "markdown",
   "metadata": {},
   "source": [
    "Lets take a look at few samples "
   ]
  },
  {
   "cell_type": "code",
   "execution_count": 1,
   "metadata": {},
   "outputs": [],
   "source": [
    "import pandas as pd\n",
    "import os\n",
    "import json"
   ]
  },
  {
   "cell_type": "markdown",
   "metadata": {},
   "source": [
    "### Aggregated"
   ]
  },
  {
   "cell_type": "markdown",
   "metadata": {},
   "source": [
    "**Aggrerated- Insurance**"
   ]
  },
  {
   "cell_type": "code",
   "execution_count": 23,
   "metadata": {},
   "outputs": [
    {
     "name": "stdout",
     "output_type": "stream",
     "text": [
      "'country'\n"
     ]
    }
   ],
   "source": [
    "base_path = \"pulse\\\\data\\\\aggregated\\\\insurance\"\n",
    "for folder in os.listdir(base_path):\n",
    "    print(repr(folder))"
   ]
  },
  {
   "cell_type": "code",
   "execution_count": 4,
   "metadata": {},
   "outputs": [
    {
     "data": {
      "text/html": [
       "<div>\n",
       "<style scoped>\n",
       "    .dataframe tbody tr th:only-of-type {\n",
       "        vertical-align: middle;\n",
       "    }\n",
       "\n",
       "    .dataframe tbody tr th {\n",
       "        vertical-align: top;\n",
       "    }\n",
       "\n",
       "    .dataframe thead th {\n",
       "        text-align: right;\n",
       "    }\n",
       "</style>\n",
       "<table border=\"1\" class=\"dataframe\">\n",
       "  <thead>\n",
       "    <tr style=\"text-align: right;\">\n",
       "      <th></th>\n",
       "      <th>success</th>\n",
       "      <th>code</th>\n",
       "      <th>data</th>\n",
       "      <th>responseTimestamp</th>\n",
       "    </tr>\n",
       "  </thead>\n",
       "  <tbody>\n",
       "    <tr>\n",
       "      <th>from</th>\n",
       "      <td>True</td>\n",
       "      <td>SUCCESS</td>\n",
       "      <td>1609439400000</td>\n",
       "      <td>1692610964872</td>\n",
       "    </tr>\n",
       "    <tr>\n",
       "      <th>to</th>\n",
       "      <td>True</td>\n",
       "      <td>SUCCESS</td>\n",
       "      <td>1616869800000</td>\n",
       "      <td>1692610964872</td>\n",
       "    </tr>\n",
       "    <tr>\n",
       "      <th>transactionData</th>\n",
       "      <td>True</td>\n",
       "      <td>SUCCESS</td>\n",
       "      <td>[{'name': 'Insurance', 'paymentInstruments': [...</td>\n",
       "      <td>1692610964872</td>\n",
       "    </tr>\n",
       "  </tbody>\n",
       "</table>\n",
       "</div>"
      ],
      "text/plain": [
       "                 success     code  \\\n",
       "from                True  SUCCESS   \n",
       "to                  True  SUCCESS   \n",
       "transactionData     True  SUCCESS   \n",
       "\n",
       "                                                              data  \\\n",
       "from                                                 1609439400000   \n",
       "to                                                   1616869800000   \n",
       "transactionData  [{'name': 'Insurance', 'paymentInstruments': [...   \n",
       "\n",
       "                 responseTimestamp  \n",
       "from                 1692610964872  \n",
       "to                   1692610964872  \n",
       "transactionData      1692610964872  "
      ]
     },
     "execution_count": 4,
     "metadata": {},
     "output_type": "execute_result"
    }
   ],
   "source": [
    "df = pd.read_json(\"pulse\\\\data\\\\aggregated\\\\insurance\\\\country\\\\india\\\\state\\\\andaman-&-nicobar-islands\\\\2021\\\\1.json\")\n",
    "df"
   ]
  },
  {
   "cell_type": "code",
   "execution_count": 5,
   "metadata": {},
   "outputs": [],
   "source": [
    "with open(\"pulse\\\\data\\\\aggregated\\\\insurance\\\\country\\\\india\\\\state\\\\andaman-&-nicobar-islands\\\\2021\\\\1.json\",\"r\") as f:\n",
    "    data = json.load(f)"
   ]
  },
  {
   "cell_type": "code",
   "execution_count": 6,
   "metadata": {},
   "outputs": [
    {
     "data": {
      "text/plain": [
       "dict_keys(['success', 'code', 'data', 'responseTimestamp'])"
      ]
     },
     "execution_count": 6,
     "metadata": {},
     "output_type": "execute_result"
    }
   ],
   "source": [
    "data.keys()"
   ]
  },
  {
   "cell_type": "code",
   "execution_count": 7,
   "metadata": {},
   "outputs": [
    {
     "data": {
      "text/plain": [
       "dict_keys(['from', 'to', 'transactionData'])"
      ]
     },
     "execution_count": 7,
     "metadata": {},
     "output_type": "execute_result"
    }
   ],
   "source": [
    "data[\"data\"].keys()"
   ]
  },
  {
   "cell_type": "code",
   "execution_count": 12,
   "metadata": {},
   "outputs": [
    {
     "data": {
      "text/plain": [
       "{'name': 'Insurance',\n",
       " 'paymentInstruments': [{'type': 'TOTAL', 'count': 225, 'amount': 244266.0}]}"
      ]
     },
     "execution_count": 12,
     "metadata": {},
     "output_type": "execute_result"
    }
   ],
   "source": [
    "data[\"data\"][\"transactionData\"][0]"
   ]
  },
  {
   "cell_type": "code",
   "execution_count": null,
   "metadata": {},
   "outputs": [
    {
     "data": {
      "text/plain": [
       "{'type': 'TOTAL', 'count': 225, 'amount': 244266.0}"
      ]
     },
     "execution_count": 14,
     "metadata": {},
     "output_type": "execute_result"
    }
   ],
   "source": [
    "data[\"data\"][\"transactionData\"][0]['paymentInstruments'][0]\n",
    "# from here we can get the count and the total amount"
   ]
  },
  {
   "cell_type": "markdown",
   "metadata": {},
   "source": [
    "Let's open a similar file and check its transaction data\n"
   ]
  },
  {
   "cell_type": "code",
   "execution_count": 16,
   "metadata": {},
   "outputs": [
    {
     "data": {
      "text/plain": [
       "{'type': 'TOTAL', 'count': 41358, 'amount': 54951108.0}"
      ]
     },
     "execution_count": 16,
     "metadata": {},
     "output_type": "execute_result"
    }
   ],
   "source": [
    "with open(\"pulse\\\\data\\\\aggregated\\\\insurance\\\\country\\\\india\\\\state\\\\delhi\\\\2023\\\\2.json\",\"r\") as f:\n",
    "    data2 = json.load(f)\n",
    "\n",
    "data2[\"data\"][\"transactionData\"][0]['paymentInstruments'][0]"
   ]
  },
  {
   "cell_type": "code",
   "execution_count": 17,
   "metadata": {},
   "outputs": [
    {
     "data": {
      "text/plain": [
       "{'type': 'TOTAL', 'count': 8893, 'amount': 18252110.0}"
      ]
     },
     "execution_count": 17,
     "metadata": {},
     "output_type": "execute_result"
    }
   ],
   "source": [
    "with open(\"pulse\\\\data\\\\aggregated\\\\insurance\\\\country\\\\india\\\\state\\\\jammu-&-kashmir\\\\2024\\\\4.json\",\"r\") as f:\n",
    "    data3 = json.load(f)\n",
    "\n",
    "data3[\"data\"][\"transactionData\"][0]['paymentInstruments'][0]"
   ]
  },
  {
   "cell_type": "code",
   "execution_count": 14,
   "metadata": {},
   "outputs": [
    {
     "data": {
      "text/html": [
       "<div>\n",
       "<style scoped>\n",
       "    .dataframe tbody tr th:only-of-type {\n",
       "        vertical-align: middle;\n",
       "    }\n",
       "\n",
       "    .dataframe tbody tr th {\n",
       "        vertical-align: top;\n",
       "    }\n",
       "\n",
       "    .dataframe thead th {\n",
       "        text-align: right;\n",
       "    }\n",
       "</style>\n",
       "<table border=\"1\" class=\"dataframe\">\n",
       "  <thead>\n",
       "    <tr style=\"text-align: right;\">\n",
       "      <th></th>\n",
       "      <th>state</th>\n",
       "      <th>year</th>\n",
       "      <th>quarter</th>\n",
       "      <th>count</th>\n",
       "      <th>amount</th>\n",
       "    </tr>\n",
       "  </thead>\n",
       "  <tbody>\n",
       "    <tr>\n",
       "      <th>0</th>\n",
       "      <td>andaman-&amp;-nicobar-islands</td>\n",
       "      <td>2020</td>\n",
       "      <td>2</td>\n",
       "      <td>6</td>\n",
       "      <td>1360.0</td>\n",
       "    </tr>\n",
       "    <tr>\n",
       "      <th>1</th>\n",
       "      <td>andaman-&amp;-nicobar-islands</td>\n",
       "      <td>2020</td>\n",
       "      <td>3</td>\n",
       "      <td>41</td>\n",
       "      <td>15380.0</td>\n",
       "    </tr>\n",
       "    <tr>\n",
       "      <th>2</th>\n",
       "      <td>andaman-&amp;-nicobar-islands</td>\n",
       "      <td>2020</td>\n",
       "      <td>4</td>\n",
       "      <td>124</td>\n",
       "      <td>157975.0</td>\n",
       "    </tr>\n",
       "    <tr>\n",
       "      <th>3</th>\n",
       "      <td>andaman-&amp;-nicobar-islands</td>\n",
       "      <td>2021</td>\n",
       "      <td>1</td>\n",
       "      <td>225</td>\n",
       "      <td>244266.0</td>\n",
       "    </tr>\n",
       "    <tr>\n",
       "      <th>4</th>\n",
       "      <td>andaman-&amp;-nicobar-islands</td>\n",
       "      <td>2021</td>\n",
       "      <td>2</td>\n",
       "      <td>137</td>\n",
       "      <td>181504.0</td>\n",
       "    </tr>\n",
       "    <tr>\n",
       "      <th>...</th>\n",
       "      <td>...</td>\n",
       "      <td>...</td>\n",
       "      <td>...</td>\n",
       "      <td>...</td>\n",
       "      <td>...</td>\n",
       "    </tr>\n",
       "    <tr>\n",
       "      <th>679</th>\n",
       "      <td>west-bengal</td>\n",
       "      <td>2023</td>\n",
       "      <td>4</td>\n",
       "      <td>72712</td>\n",
       "      <td>100365562.0</td>\n",
       "    </tr>\n",
       "    <tr>\n",
       "      <th>680</th>\n",
       "      <td>west-bengal</td>\n",
       "      <td>2024</td>\n",
       "      <td>1</td>\n",
       "      <td>79576</td>\n",
       "      <td>104987909.0</td>\n",
       "    </tr>\n",
       "    <tr>\n",
       "      <th>681</th>\n",
       "      <td>west-bengal</td>\n",
       "      <td>2024</td>\n",
       "      <td>2</td>\n",
       "      <td>67048</td>\n",
       "      <td>89476633.0</td>\n",
       "    </tr>\n",
       "    <tr>\n",
       "      <th>682</th>\n",
       "      <td>west-bengal</td>\n",
       "      <td>2024</td>\n",
       "      <td>3</td>\n",
       "      <td>77158</td>\n",
       "      <td>107451766.0</td>\n",
       "    </tr>\n",
       "    <tr>\n",
       "      <th>683</th>\n",
       "      <td>west-bengal</td>\n",
       "      <td>2024</td>\n",
       "      <td>4</td>\n",
       "      <td>91719</td>\n",
       "      <td>120602777.0</td>\n",
       "    </tr>\n",
       "  </tbody>\n",
       "</table>\n",
       "<p>684 rows × 5 columns</p>\n",
       "</div>"
      ],
      "text/plain": [
       "                         state  year  quarter  count       amount\n",
       "0    andaman-&-nicobar-islands  2020        2      6       1360.0\n",
       "1    andaman-&-nicobar-islands  2020        3     41      15380.0\n",
       "2    andaman-&-nicobar-islands  2020        4    124     157975.0\n",
       "3    andaman-&-nicobar-islands  2021        1    225     244266.0\n",
       "4    andaman-&-nicobar-islands  2021        2    137     181504.0\n",
       "..                         ...   ...      ...    ...          ...\n",
       "679                west-bengal  2023        4  72712  100365562.0\n",
       "680                west-bengal  2024        1  79576  104987909.0\n",
       "681                west-bengal  2024        2  67048   89476633.0\n",
       "682                west-bengal  2024        3  77158  107451766.0\n",
       "683                west-bengal  2024        4  91719  120602777.0\n",
       "\n",
       "[684 rows x 5 columns]"
      ]
     },
     "execution_count": 14,
     "metadata": {},
     "output_type": "execute_result"
    }
   ],
   "source": [
    "# Root path\n",
    "base_path = \"pulse/data/aggregated/insurance/country/india/state\"\n",
    "\n",
    "# Final data container\n",
    "data_list = []\n",
    "\n",
    "# Traverse each state folder\n",
    "for state in os.listdir(base_path):\n",
    "    state_path = os.path.join(base_path, state)\n",
    "    \n",
    "    # Skip if not a directory\n",
    "    if not os.path.isdir(state_path):\n",
    "        continue\n",
    "\n",
    "    # Traverse each year folder\n",
    "    for year in os.listdir(state_path):\n",
    "        year_path = os.path.join(state_path, year)\n",
    "        \n",
    "        if not os.path.isdir(year_path):\n",
    "            continue\n",
    "\n",
    "        # Traverse each JSON file (quarter)\n",
    "        for file_name in os.listdir(year_path):\n",
    "            if file_name.endswith(\".json\"):\n",
    "                file_path = os.path.join(year_path, file_name)\n",
    "                quarter = int(file_name.replace(\".json\", \"\"))  # e.g., '2.json' -> 2\n",
    "                \n",
    "                # Read the file\n",
    "                with open(file_path, \"r\") as f:\n",
    "                    json_data = json.load(f)\n",
    "\n",
    "                # Extract count and amount\n",
    "                try:\n",
    "                    transaction = json_data[\"data\"][\"transactionData\"][0][\"paymentInstruments\"][0]\n",
    "                    count = transaction[\"count\"]\n",
    "                    amount = transaction[\"amount\"]\n",
    "                except (IndexError, KeyError):\n",
    "                    count = 0\n",
    "                    amount = 0.0\n",
    "\n",
    "                # Append to list\n",
    "                data_list.append({\n",
    "                    \"state\": state,\n",
    "                    \"year\": int(year),\n",
    "                    \"quarter\": quarter,\n",
    "                    \"count\": count,\n",
    "                    \"amount\": amount\n",
    "                })\n",
    "\n",
    "# Convert to DataFrame\n",
    "df = pd.DataFrame(data_list)\n",
    "\n",
    "df.to_csv(\"cleaned_data/aggregated_insurance.csv\", index = False)\n",
    "\n",
    "df"
   ]
  },
  {
   "cell_type": "code",
   "execution_count": 15,
   "metadata": {},
   "outputs": [
    {
     "name": "stdout",
     "output_type": "stream",
     "text": [
      "<class 'pandas.core.frame.DataFrame'>\n",
      "RangeIndex: 684 entries, 0 to 683\n",
      "Data columns (total 5 columns):\n",
      " #   Column   Non-Null Count  Dtype  \n",
      "---  ------   --------------  -----  \n",
      " 0   state    684 non-null    object \n",
      " 1   year     684 non-null    int64  \n",
      " 2   quarter  684 non-null    int64  \n",
      " 3   count    684 non-null    int64  \n",
      " 4   amount   684 non-null    float64\n",
      "dtypes: float64(1), int64(3), object(1)\n",
      "memory usage: 26.8+ KB\n"
     ]
    }
   ],
   "source": [
    "df_arregated = pd.read_csv(\"cleaned_data/aggregated_insurance.csv\")\n",
    "df_arregated.info()"
   ]
  },
  {
   "cell_type": "markdown",
   "metadata": {},
   "source": [
    "**Aggregarted-transaction**"
   ]
  },
  {
   "cell_type": "code",
   "execution_count": null,
   "metadata": {},
   "outputs": [],
   "source": [
    "with open(\"pulse\\\\data\\\\aggregated\\\\transaction\\\\country\\\\india\\\\state\\\\andaman-&-nicobar-islands\\\\2021\\\\1.json\") as f:\n",
    "    data = json.load(f)"
   ]
  },
  {
   "cell_type": "code",
   "execution_count": 32,
   "metadata": {},
   "outputs": [
    {
     "data": {
      "text/plain": [
       "[{'name': 'Peer-to-peer payments',\n",
       "  'paymentInstruments': [{'type': 'TOTAL',\n",
       "    'count': 105458,\n",
       "    'amount': 665391395.715478}]},\n",
       " {'name': 'Recharge & bill payments',\n",
       "  'paymentInstruments': [{'type': 'TOTAL',\n",
       "    'count': 84119,\n",
       "    'amount': 37160922.86506996}]},\n",
       " {'name': 'Merchant payments',\n",
       "  'paymentInstruments': [{'type': 'TOTAL',\n",
       "    'count': 53090,\n",
       "    'amount': 78606979.05751458}]},\n",
       " {'name': 'Financial Services',\n",
       "  'paymentInstruments': [{'type': 'TOTAL',\n",
       "    'count': 884,\n",
       "    'amount': 1469351.0852598653}]},\n",
       " {'name': 'Others',\n",
       "  'paymentInstruments': [{'type': 'TOTAL',\n",
       "    'count': 1201,\n",
       "    'amount': 1077918.666433228}]}]"
      ]
     },
     "execution_count": 32,
     "metadata": {},
     "output_type": "execute_result"
    }
   ],
   "source": [
    "data[\"data\"]['transactionData']"
   ]
  },
  {
   "cell_type": "code",
   "execution_count": 30,
   "metadata": {},
   "outputs": [
    {
     "data": {
      "text/plain": [
       "dict_keys(['success', 'code', 'data', 'responseTimestamp'])"
      ]
     },
     "execution_count": 30,
     "metadata": {},
     "output_type": "execute_result"
    }
   ],
   "source": [
    "data.keys()"
   ]
  },
  {
   "cell_type": "code",
   "execution_count": 33,
   "metadata": {},
   "outputs": [],
   "source": [
    "with open(\"pulse\\\\data\\\\aggregated\\\\transaction\\\\country\\\\india\\\\state\\\\nagaland\\\\2019\\\\2.json\") as f:\n",
    "    data2 = json.load(f)"
   ]
  },
  {
   "cell_type": "code",
   "execution_count": 40,
   "metadata": {},
   "outputs": [
    {
     "data": {
      "text/plain": [
       "[{'name': 'Recharge & bill payments',\n",
       "  'paymentInstruments': [{'type': 'TOTAL',\n",
       "    'count': 92492,\n",
       "    'amount': 21350211.07781426}]},\n",
       " {'name': 'Peer-to-peer payments',\n",
       "  'paymentInstruments': [{'type': 'TOTAL',\n",
       "    'count': 81065,\n",
       "    'amount': 487705354.46570444}]}]"
      ]
     },
     "execution_count": 40,
     "metadata": {},
     "output_type": "execute_result"
    }
   ],
   "source": [
    "data2['data']['transactionData'][0:2]"
   ]
  },
  {
   "cell_type": "code",
   "execution_count": 17,
   "metadata": {},
   "outputs": [
    {
     "data": {
      "text/plain": [
       "[{'name': 'Recharge & bill payments',\n",
       "  'count': 92492,\n",
       "  'amount': 21350211.07781426},\n",
       " {'name': 'Peer-to-peer payments',\n",
       "  'count': 81065,\n",
       "  'amount': 487705354.46570444},\n",
       " {'name': 'Merchant payments', 'count': 12949, 'amount': 8990954.079767609},\n",
       " {'name': 'Financial Services', 'count': 286, 'amount': 129758.00259777348},\n",
       " {'name': 'Others', 'count': 1961, 'amount': 1890404.5326202572}]"
      ]
     },
     "execution_count": 17,
     "metadata": {},
     "output_type": "execute_result"
    }
   ],
   "source": [
    "# checking the code for a sample json file\n",
    "with open(\"pulse\\\\data\\\\aggregated\\\\transaction\\\\country\\\\india\\\\state\\\\nagaland\\\\2019\\\\2.json\") as f:\n",
    "    json_data = json.load(f)\n",
    "\n",
    "data_list = []\n",
    "\n",
    "for data in json_data[\"data\"][\"transactionData\"]:\n",
    "                        name = data[\"name\"]\n",
    "                        transaction = data[\"paymentInstruments\"][0]\n",
    "                        count = transaction[\"count\"]\n",
    "                        amount = transaction[\"amount\"]\n",
    "\n",
    "                        # Append to list\n",
    "                        data_list.append({\n",
    "                            \"name\": name,\n",
    "                            \"count\": count,\n",
    "                            \"amount\": amount\n",
    "                        })\n",
    "\n",
    "data_list"
   ]
  },
  {
   "cell_type": "code",
   "execution_count": 16,
   "metadata": {},
   "outputs": [
    {
     "data": {
      "text/html": [
       "<div>\n",
       "<style scoped>\n",
       "    .dataframe tbody tr th:only-of-type {\n",
       "        vertical-align: middle;\n",
       "    }\n",
       "\n",
       "    .dataframe tbody tr th {\n",
       "        vertical-align: top;\n",
       "    }\n",
       "\n",
       "    .dataframe thead th {\n",
       "        text-align: right;\n",
       "    }\n",
       "</style>\n",
       "<table border=\"1\" class=\"dataframe\">\n",
       "  <thead>\n",
       "    <tr style=\"text-align: right;\">\n",
       "      <th></th>\n",
       "      <th>state</th>\n",
       "      <th>year</th>\n",
       "      <th>quarter</th>\n",
       "      <th>name</th>\n",
       "      <th>count</th>\n",
       "      <th>amount</th>\n",
       "    </tr>\n",
       "  </thead>\n",
       "  <tbody>\n",
       "    <tr>\n",
       "      <th>0</th>\n",
       "      <td>andaman-&amp;-nicobar-islands</td>\n",
       "      <td>2018</td>\n",
       "      <td>1</td>\n",
       "      <td>Recharge &amp; bill payments</td>\n",
       "      <td>4200</td>\n",
       "      <td>1.845307e+06</td>\n",
       "    </tr>\n",
       "    <tr>\n",
       "      <th>1</th>\n",
       "      <td>andaman-&amp;-nicobar-islands</td>\n",
       "      <td>2018</td>\n",
       "      <td>1</td>\n",
       "      <td>Peer-to-peer payments</td>\n",
       "      <td>1871</td>\n",
       "      <td>1.213866e+07</td>\n",
       "    </tr>\n",
       "    <tr>\n",
       "      <th>2</th>\n",
       "      <td>andaman-&amp;-nicobar-islands</td>\n",
       "      <td>2018</td>\n",
       "      <td>1</td>\n",
       "      <td>Merchant payments</td>\n",
       "      <td>298</td>\n",
       "      <td>4.525072e+05</td>\n",
       "    </tr>\n",
       "    <tr>\n",
       "      <th>3</th>\n",
       "      <td>andaman-&amp;-nicobar-islands</td>\n",
       "      <td>2018</td>\n",
       "      <td>1</td>\n",
       "      <td>Financial Services</td>\n",
       "      <td>33</td>\n",
       "      <td>1.060142e+04</td>\n",
       "    </tr>\n",
       "    <tr>\n",
       "      <th>4</th>\n",
       "      <td>andaman-&amp;-nicobar-islands</td>\n",
       "      <td>2018</td>\n",
       "      <td>1</td>\n",
       "      <td>Others</td>\n",
       "      <td>256</td>\n",
       "      <td>1.846899e+05</td>\n",
       "    </tr>\n",
       "    <tr>\n",
       "      <th>...</th>\n",
       "      <td>...</td>\n",
       "      <td>...</td>\n",
       "      <td>...</td>\n",
       "      <td>...</td>\n",
       "      <td>...</td>\n",
       "      <td>...</td>\n",
       "    </tr>\n",
       "    <tr>\n",
       "      <th>5029</th>\n",
       "      <td>west-bengal</td>\n",
       "      <td>2024</td>\n",
       "      <td>4</td>\n",
       "      <td>Merchant payments</td>\n",
       "      <td>655100809</td>\n",
       "      <td>3.892862e+11</td>\n",
       "    </tr>\n",
       "    <tr>\n",
       "      <th>5030</th>\n",
       "      <td>west-bengal</td>\n",
       "      <td>2024</td>\n",
       "      <td>4</td>\n",
       "      <td>Peer-to-peer payments</td>\n",
       "      <td>493217788</td>\n",
       "      <td>1.361927e+12</td>\n",
       "    </tr>\n",
       "    <tr>\n",
       "      <th>5031</th>\n",
       "      <td>west-bengal</td>\n",
       "      <td>2024</td>\n",
       "      <td>4</td>\n",
       "      <td>Recharge &amp; bill payments</td>\n",
       "      <td>76043195</td>\n",
       "      <td>5.753406e+10</td>\n",
       "    </tr>\n",
       "    <tr>\n",
       "      <th>5032</th>\n",
       "      <td>west-bengal</td>\n",
       "      <td>2024</td>\n",
       "      <td>4</td>\n",
       "      <td>Financial Services</td>\n",
       "      <td>2352084</td>\n",
       "      <td>8.472965e+08</td>\n",
       "    </tr>\n",
       "    <tr>\n",
       "      <th>5033</th>\n",
       "      <td>west-bengal</td>\n",
       "      <td>2024</td>\n",
       "      <td>4</td>\n",
       "      <td>Others</td>\n",
       "      <td>421806</td>\n",
       "      <td>5.053641e+08</td>\n",
       "    </tr>\n",
       "  </tbody>\n",
       "</table>\n",
       "<p>5034 rows × 6 columns</p>\n",
       "</div>"
      ],
      "text/plain": [
       "                          state  year  quarter                      name  \\\n",
       "0     andaman-&-nicobar-islands  2018        1  Recharge & bill payments   \n",
       "1     andaman-&-nicobar-islands  2018        1     Peer-to-peer payments   \n",
       "2     andaman-&-nicobar-islands  2018        1         Merchant payments   \n",
       "3     andaman-&-nicobar-islands  2018        1        Financial Services   \n",
       "4     andaman-&-nicobar-islands  2018        1                    Others   \n",
       "...                         ...   ...      ...                       ...   \n",
       "5029                west-bengal  2024        4         Merchant payments   \n",
       "5030                west-bengal  2024        4     Peer-to-peer payments   \n",
       "5031                west-bengal  2024        4  Recharge & bill payments   \n",
       "5032                west-bengal  2024        4        Financial Services   \n",
       "5033                west-bengal  2024        4                    Others   \n",
       "\n",
       "          count        amount  \n",
       "0          4200  1.845307e+06  \n",
       "1          1871  1.213866e+07  \n",
       "2           298  4.525072e+05  \n",
       "3            33  1.060142e+04  \n",
       "4           256  1.846899e+05  \n",
       "...         ...           ...  \n",
       "5029  655100809  3.892862e+11  \n",
       "5030  493217788  1.361927e+12  \n",
       "5031   76043195  5.753406e+10  \n",
       "5032    2352084  8.472965e+08  \n",
       "5033     421806  5.053641e+08  \n",
       "\n",
       "[5034 rows x 6 columns]"
      ]
     },
     "execution_count": 16,
     "metadata": {},
     "output_type": "execute_result"
    }
   ],
   "source": [
    "# Root path\n",
    "base_path = \"pulse/data/aggregated/transaction/country/india/state\"\n",
    "\n",
    "# Final data container\n",
    "data_list = []\n",
    "\n",
    "# Traverse each state folder\n",
    "for state in os.listdir(base_path):\n",
    "    state_path = os.path.join(base_path, state)\n",
    "    \n",
    "    # Skip if not a directory\n",
    "    if not os.path.isdir(state_path):\n",
    "        continue\n",
    "\n",
    "    # Traverse each year folder\n",
    "    for year in os.listdir(state_path):\n",
    "        year_path = os.path.join(state_path, year)\n",
    "        \n",
    "        if not os.path.isdir(year_path):\n",
    "            continue\n",
    "\n",
    "        # Traverse each JSON file (quarter)\n",
    "        for file_name in os.listdir(year_path):\n",
    "            if file_name.endswith(\".json\"):\n",
    "                file_path = os.path.join(year_path, file_name)\n",
    "                quarter = int(file_name.replace(\".json\", \"\"))  # e.g., '2.json' -> 2\n",
    "                \n",
    "                # Read the file\n",
    "                with open(file_path, \"r\") as f:\n",
    "                    json_data = json.load(f)\n",
    "\n",
    "                # Extract count and amount\n",
    "                for data in json_data[\"data\"][\"transactionData\"]:\n",
    "                    name = data[\"name\"]\n",
    "                    transaction = data[\"paymentInstruments\"][0]\n",
    "                    count = transaction[\"count\"]\n",
    "                    amount = round(transaction[\"amount\"], 2)\n",
    "\n",
    "                    # Append to list\n",
    "                    data_list.append({\n",
    "                        \"state\": state,\n",
    "                        \"year\": int(year),\n",
    "                        \"quarter\": quarter,\n",
    "                        \"name\": name,\n",
    "                        \"count\": count,\n",
    "                        \"amount\": amount\n",
    "                    })\n",
    "\n",
    "# Convert to DataFrame\n",
    "df = pd.DataFrame(data_list)\n",
    "\n",
    "df.to_csv(\"cleaned_data/aggregated_transaction.csv\", index= False)\n",
    "\n",
    "df"
   ]
  },
  {
   "cell_type": "markdown",
   "metadata": {},
   "source": [
    "**Aggregated User**"
   ]
  },
  {
   "cell_type": "code",
   "execution_count": 48,
   "metadata": {},
   "outputs": [
    {
     "data": {
      "text/plain": [
       "{'aggregated': {'registeredUsers': 66891, 'appOpens': 362497},\n",
       " 'usersByDevice': [{'brand': 'Xiaomi',\n",
       "   'count': 19602,\n",
       "   'percentage': 0.29304390725209667},\n",
       "  {'brand': 'Vivo', 'count': 10442, 'percentage': 0.1561047076587284},\n",
       "  {'brand': 'Samsung', 'count': 10090, 'percentage': 0.15084241527260767},\n",
       "  {'brand': 'Oppo', 'count': 7328, 'percentage': 0.10955135967469465},\n",
       "  {'brand': 'Realme', 'count': 3058, 'percentage': 0.04571616510442361},\n",
       "  {'brand': 'Gionee', 'count': 1735, 'percentage': 0.025937719573634718},\n",
       "  {'brand': 'Apple', 'count': 1641, 'percentage': 0.02453244831143203},\n",
       "  {'brand': 'Huawei', 'count': 1454, 'percentage': 0.021736855481305408},\n",
       "  {'brand': 'Asus', 'count': 1388, 'percentage': 0.020750175658907775},\n",
       "  {'brand': 'Lenovo', 'count': 1342, 'percentage': 0.020062489722085183},\n",
       "  {'brand': 'Others', 'count': 8811, 'percentage': 0.13172175629008387}]}"
      ]
     },
     "execution_count": 48,
     "metadata": {},
     "output_type": "execute_result"
    }
   ],
   "source": [
    "with open(\"pulse\\\\data\\\\aggregated\\\\user\\\\country\\\\india\\\\state\\\\nagaland\\\\2019\\\\2.json\") as f:\n",
    "    data = json.load(f)\n",
    "\n",
    "data['data']"
   ]
  },
  {
   "cell_type": "code",
   "execution_count": 51,
   "metadata": {},
   "outputs": [
    {
     "data": {
      "text/plain": [
       "{'aggregated': {'registeredUsers': 8609107, 'appOpens': 585808867},\n",
       " 'usersByDevice': None}"
      ]
     },
     "execution_count": 51,
     "metadata": {},
     "output_type": "execute_result"
    }
   ],
   "source": [
    "with open(\"pulse\\\\data\\\\aggregated\\\\user\\\\country\\\\india\\\\state\\\\jharkhand\\\\2023\\\\1.json\") as f:\n",
    "    data = json.load(f)\n",
    "\n",
    "data['data']"
   ]
  },
  {
   "cell_type": "code",
   "execution_count": 55,
   "metadata": {},
   "outputs": [
    {
     "data": {
      "text/plain": [
       "[{'registeredUsers': 66891,\n",
       "  'appOpens': 362497,\n",
       "  'brand': 'Xiaomi',\n",
       "  'count': 19602,\n",
       "  'percentage': 0.293},\n",
       " {'registeredUsers': 66891,\n",
       "  'appOpens': 362497,\n",
       "  'brand': 'Vivo',\n",
       "  'count': 10442,\n",
       "  'percentage': 0.156},\n",
       " {'registeredUsers': 66891,\n",
       "  'appOpens': 362497,\n",
       "  'brand': 'Samsung',\n",
       "  'count': 10090,\n",
       "  'percentage': 0.151},\n",
       " {'registeredUsers': 66891,\n",
       "  'appOpens': 362497,\n",
       "  'brand': 'Oppo',\n",
       "  'count': 7328,\n",
       "  'percentage': 0.11},\n",
       " {'registeredUsers': 66891,\n",
       "  'appOpens': 362497,\n",
       "  'brand': 'Realme',\n",
       "  'count': 3058,\n",
       "  'percentage': 0.046},\n",
       " {'registeredUsers': 66891,\n",
       "  'appOpens': 362497,\n",
       "  'brand': 'Gionee',\n",
       "  'count': 1735,\n",
       "  'percentage': 0.026},\n",
       " {'registeredUsers': 66891,\n",
       "  'appOpens': 362497,\n",
       "  'brand': 'Apple',\n",
       "  'count': 1641,\n",
       "  'percentage': 0.025},\n",
       " {'registeredUsers': 66891,\n",
       "  'appOpens': 362497,\n",
       "  'brand': 'Huawei',\n",
       "  'count': 1454,\n",
       "  'percentage': 0.022},\n",
       " {'registeredUsers': 66891,\n",
       "  'appOpens': 362497,\n",
       "  'brand': 'Asus',\n",
       "  'count': 1388,\n",
       "  'percentage': 0.021},\n",
       " {'registeredUsers': 66891,\n",
       "  'appOpens': 362497,\n",
       "  'brand': 'Lenovo',\n",
       "  'count': 1342,\n",
       "  'percentage': 0.02},\n",
       " {'registeredUsers': 66891,\n",
       "  'appOpens': 362497,\n",
       "  'brand': 'Others',\n",
       "  'count': 8811,\n",
       "  'percentage': 0.132}]"
      ]
     },
     "execution_count": 55,
     "metadata": {},
     "output_type": "execute_result"
    }
   ],
   "source": [
    "# checking the code for a sample json file\n",
    "with open(\"pulse\\\\data\\\\aggregated\\\\user\\\\country\\\\india\\\\state\\\\nagaland\\\\2019\\\\2.json\") as f:\n",
    "    json_data = json.load(f)\n",
    "\n",
    "data_list = []\n",
    "\n",
    "registeredUsers = json_data[\"data\"][\"aggregated\"][\"registeredUsers\"]\n",
    "appOpens = json_data[\"data\"][\"aggregated\"][\"appOpens\"]\n",
    "\n",
    "for data in json_data[\"data\"][\"usersByDevice\"]:\n",
    "                        brand = data[\"brand\"]\n",
    "                        count = data[\"count\"]\n",
    "                        percentage = round(data[\"percentage\"], 3)\n",
    "\n",
    "                        # Append to list\n",
    "                        data_list.append({\n",
    "                            \"registeredUsers\": registeredUsers,\n",
    "                            \"appOpens\": appOpens,\n",
    "                            \"brand\": brand,\n",
    "                            \"count\": count,\n",
    "                            \"percentage\": percentage\n",
    "                        })\n",
    "\n",
    "data_list"
   ]
  },
  {
   "cell_type": "code",
   "execution_count": 18,
   "metadata": {},
   "outputs": [
    {
     "data": {
      "text/html": [
       "<div>\n",
       "<style scoped>\n",
       "    .dataframe tbody tr th:only-of-type {\n",
       "        vertical-align: middle;\n",
       "    }\n",
       "\n",
       "    .dataframe tbody tr th {\n",
       "        vertical-align: top;\n",
       "    }\n",
       "\n",
       "    .dataframe thead th {\n",
       "        text-align: right;\n",
       "    }\n",
       "</style>\n",
       "<table border=\"1\" class=\"dataframe\">\n",
       "  <thead>\n",
       "    <tr style=\"text-align: right;\">\n",
       "      <th></th>\n",
       "      <th>state</th>\n",
       "      <th>year</th>\n",
       "      <th>quarter</th>\n",
       "      <th>registeredUsers</th>\n",
       "      <th>appOpens</th>\n",
       "      <th>brand</th>\n",
       "      <th>count</th>\n",
       "      <th>percentage</th>\n",
       "    </tr>\n",
       "  </thead>\n",
       "  <tbody>\n",
       "    <tr>\n",
       "      <th>0</th>\n",
       "      <td>andaman-&amp;-nicobar-islands</td>\n",
       "      <td>2018</td>\n",
       "      <td>1</td>\n",
       "      <td>6740</td>\n",
       "      <td>0</td>\n",
       "      <td>Xiaomi</td>\n",
       "      <td>1665</td>\n",
       "      <td>0.247</td>\n",
       "    </tr>\n",
       "    <tr>\n",
       "      <th>1</th>\n",
       "      <td>andaman-&amp;-nicobar-islands</td>\n",
       "      <td>2018</td>\n",
       "      <td>1</td>\n",
       "      <td>6740</td>\n",
       "      <td>0</td>\n",
       "      <td>Samsung</td>\n",
       "      <td>1445</td>\n",
       "      <td>0.214</td>\n",
       "    </tr>\n",
       "    <tr>\n",
       "      <th>2</th>\n",
       "      <td>andaman-&amp;-nicobar-islands</td>\n",
       "      <td>2018</td>\n",
       "      <td>1</td>\n",
       "      <td>6740</td>\n",
       "      <td>0</td>\n",
       "      <td>Vivo</td>\n",
       "      <td>982</td>\n",
       "      <td>0.146</td>\n",
       "    </tr>\n",
       "    <tr>\n",
       "      <th>3</th>\n",
       "      <td>andaman-&amp;-nicobar-islands</td>\n",
       "      <td>2018</td>\n",
       "      <td>1</td>\n",
       "      <td>6740</td>\n",
       "      <td>0</td>\n",
       "      <td>Oppo</td>\n",
       "      <td>501</td>\n",
       "      <td>0.074</td>\n",
       "    </tr>\n",
       "    <tr>\n",
       "      <th>4</th>\n",
       "      <td>andaman-&amp;-nicobar-islands</td>\n",
       "      <td>2018</td>\n",
       "      <td>1</td>\n",
       "      <td>6740</td>\n",
       "      <td>0</td>\n",
       "      <td>OnePlus</td>\n",
       "      <td>332</td>\n",
       "      <td>0.049</td>\n",
       "    </tr>\n",
       "    <tr>\n",
       "      <th>...</th>\n",
       "      <td>...</td>\n",
       "      <td>...</td>\n",
       "      <td>...</td>\n",
       "      <td>...</td>\n",
       "      <td>...</td>\n",
       "      <td>...</td>\n",
       "      <td>...</td>\n",
       "      <td>...</td>\n",
       "    </tr>\n",
       "    <tr>\n",
       "      <th>6727</th>\n",
       "      <td>west-bengal</td>\n",
       "      <td>2022</td>\n",
       "      <td>1</td>\n",
       "      <td>21919787</td>\n",
       "      <td>236131065</td>\n",
       "      <td>Lenovo</td>\n",
       "      <td>330017</td>\n",
       "      <td>0.015</td>\n",
       "    </tr>\n",
       "    <tr>\n",
       "      <th>6728</th>\n",
       "      <td>west-bengal</td>\n",
       "      <td>2022</td>\n",
       "      <td>1</td>\n",
       "      <td>21919787</td>\n",
       "      <td>236131065</td>\n",
       "      <td>Infinix</td>\n",
       "      <td>284678</td>\n",
       "      <td>0.013</td>\n",
       "    </tr>\n",
       "    <tr>\n",
       "      <th>6729</th>\n",
       "      <td>west-bengal</td>\n",
       "      <td>2022</td>\n",
       "      <td>1</td>\n",
       "      <td>21919787</td>\n",
       "      <td>236131065</td>\n",
       "      <td>Asus</td>\n",
       "      <td>280347</td>\n",
       "      <td>0.013</td>\n",
       "    </tr>\n",
       "    <tr>\n",
       "      <th>6730</th>\n",
       "      <td>west-bengal</td>\n",
       "      <td>2022</td>\n",
       "      <td>1</td>\n",
       "      <td>21919787</td>\n",
       "      <td>236131065</td>\n",
       "      <td>Apple</td>\n",
       "      <td>277752</td>\n",
       "      <td>0.013</td>\n",
       "    </tr>\n",
       "    <tr>\n",
       "      <th>6731</th>\n",
       "      <td>west-bengal</td>\n",
       "      <td>2022</td>\n",
       "      <td>1</td>\n",
       "      <td>21919787</td>\n",
       "      <td>236131065</td>\n",
       "      <td>Others</td>\n",
       "      <td>2196334</td>\n",
       "      <td>0.100</td>\n",
       "    </tr>\n",
       "  </tbody>\n",
       "</table>\n",
       "<p>6732 rows × 8 columns</p>\n",
       "</div>"
      ],
      "text/plain": [
       "                          state  year  quarter  registeredUsers   appOpens  \\\n",
       "0     andaman-&-nicobar-islands  2018        1             6740          0   \n",
       "1     andaman-&-nicobar-islands  2018        1             6740          0   \n",
       "2     andaman-&-nicobar-islands  2018        1             6740          0   \n",
       "3     andaman-&-nicobar-islands  2018        1             6740          0   \n",
       "4     andaman-&-nicobar-islands  2018        1             6740          0   \n",
       "...                         ...   ...      ...              ...        ...   \n",
       "6727                west-bengal  2022        1         21919787  236131065   \n",
       "6728                west-bengal  2022        1         21919787  236131065   \n",
       "6729                west-bengal  2022        1         21919787  236131065   \n",
       "6730                west-bengal  2022        1         21919787  236131065   \n",
       "6731                west-bengal  2022        1         21919787  236131065   \n",
       "\n",
       "        brand    count  percentage  \n",
       "0      Xiaomi     1665       0.247  \n",
       "1     Samsung     1445       0.214  \n",
       "2        Vivo      982       0.146  \n",
       "3        Oppo      501       0.074  \n",
       "4     OnePlus      332       0.049  \n",
       "...       ...      ...         ...  \n",
       "6727   Lenovo   330017       0.015  \n",
       "6728  Infinix   284678       0.013  \n",
       "6729     Asus   280347       0.013  \n",
       "6730    Apple   277752       0.013  \n",
       "6731   Others  2196334       0.100  \n",
       "\n",
       "[6732 rows x 8 columns]"
      ]
     },
     "execution_count": 18,
     "metadata": {},
     "output_type": "execute_result"
    }
   ],
   "source": [
    "# Root path\n",
    "base_path = \"pulse/data/aggregated/user/country/india/state\"\n",
    "\n",
    "# Final data container\n",
    "data_list = []\n",
    "\n",
    "# Traverse each state folder\n",
    "for state in os.listdir(base_path):\n",
    "    state_path = os.path.join(base_path, state)\n",
    "    \n",
    "    # Skip if not a directory\n",
    "    if not os.path.isdir(state_path):\n",
    "        continue\n",
    "\n",
    "    # Traverse each year folder\n",
    "    for year in os.listdir(state_path):\n",
    "        year_path = os.path.join(state_path, year)\n",
    "        \n",
    "        if not os.path.isdir(year_path):\n",
    "            continue\n",
    "\n",
    "        # Traverse each JSON file (quarter)\n",
    "        for file_name in os.listdir(year_path):\n",
    "            if file_name.endswith(\".json\"):\n",
    "                file_path = os.path.join(year_path, file_name)\n",
    "                quarter = int(file_name.replace(\".json\", \"\"))  # e.g., '2.json' -> 2\n",
    "                \n",
    "                # Read the file\n",
    "                with open(file_path, \"r\") as f:\n",
    "                    json_data = json.load(f)\n",
    "\n",
    "                registeredUsers = json_data[\"data\"][\"aggregated\"][\"registeredUsers\"]\n",
    "                appOpens = json_data[\"data\"][\"aggregated\"][\"appOpens\"]\n",
    "\n",
    "                # Extract count and amount\n",
    "                users_by_device = json_data[\"data\"].get(\"usersByDevice\")\n",
    "\n",
    "                if isinstance(users_by_device, list):\n",
    "                    for data in users_by_device:\n",
    "                        brand = data[\"brand\"]\n",
    "                        count = data[\"count\"]\n",
    "                        percentage = round(data[\"percentage\"], 3)\n",
    "\n",
    "                        # Append to list\n",
    "                        data_list.append({\n",
    "                            \"state\": state,\n",
    "                            \"year\": int(year),\n",
    "                            \"quarter\": quarter,\n",
    "                            \"registeredUsers\": registeredUsers,\n",
    "                            \"appOpens\": appOpens,\n",
    "                            \"brand\": brand,\n",
    "                            \"count\": count,\n",
    "                            \"percentage\": percentage\n",
    "                        })\n",
    "\n",
    "# Convert to DataFrame\n",
    "df = pd.DataFrame(data_list)\n",
    "\n",
    "df.to_csv(\"cleaned_data/aggregated_user.csv\", index=False)\n",
    "\n",
    "df"
   ]
  },
  {
   "cell_type": "markdown",
   "metadata": {},
   "source": [
    "We got few zeros in appOpens, we will figure out the reason for this later."
   ]
  },
  {
   "cell_type": "markdown",
   "metadata": {},
   "source": [
    "### Map"
   ]
  },
  {
   "cell_type": "markdown",
   "metadata": {},
   "source": [
    "**Map insurance**"
   ]
  },
  {
   "cell_type": "code",
   "execution_count": 10,
   "metadata": {},
   "outputs": [
    {
     "data": {
      "text/plain": [
       "{'columns': ['lat', 'lng', 'metric', 'label'],\n",
       " 'data': [[11.608883591460284,\n",
       "   92.70335751146348,\n",
       "   55.0,\n",
       "   'south andaman district'],\n",
       "  [11.654075372026998, 92.72324561226674, 36.0, 'south andaman district'],\n",
       "  [11.65388673206246, 92.74314214242402, 31.0, 'south andaman district'],\n",
       "  [11.608510584367522, 92.74314214242402, 14.0, 'south andaman district'],\n",
       "  [12.864601092312242,\n",
       "   92.87267466120473,\n",
       "   12.0,\n",
       "   'north and middle andaman district'],\n",
       "  [11.699754259379509, 92.70335751146348, 8.0, 'south andaman district'],\n",
       "  [13.243363171670177,\n",
       "   92.97255625465559,\n",
       "   7.0,\n",
       "   'north and middle andaman district'],\n",
       "  [12.921756055283542,\n",
       "   92.90261715744492,\n",
       "   7.0,\n",
       "   'north and middle andaman district'],\n",
       "  [6.995788668908931, 93.92155406855686, 5.0, 'nicobars district'],\n",
       "  [9.173490186987454, 92.81284629716966, 5.0, 'nicobars district'],\n",
       "  [12.85244885875325,\n",
       "   92.93257850390444,\n",
       "   5.0,\n",
       "   'north and middle andaman district'],\n",
       "  [13.266423214285323,\n",
       "   92.962558681057,\n",
       "   4.0,\n",
       "   'north and middle andaman district'],\n",
       "  [12.508397577459945,\n",
       "   92.90261715744492,\n",
       "   4.0,\n",
       "   'north and middle andaman district'],\n",
       "  [11.643445171159676, 92.6536741749731, 3.0, 'south andaman district'],\n",
       "  [10.558808236404156, 92.54455683800633, 3.0, 'south andaman district'],\n",
       "  [12.496506985554651,\n",
       "   92.95256319758153,\n",
       "   3.0,\n",
       "   'north and middle andaman district'],\n",
       "  [10.592387951895573, 92.54455683800633, 2.0, 'south andaman district'],\n",
       "  [12.497153347060669,\n",
       "   92.86269802142805,\n",
       "   2.0,\n",
       "   'north and middle andaman district'],\n",
       "  [11.574514311289915, 92.72324561226674, 2.0, 'south andaman district'],\n",
       "  [12.01580855217815, 93.00256150891485, 1.0, 'south andaman district'],\n",
       "  [12.841831367535296,\n",
       "   92.85272347900249,\n",
       "   1.0,\n",
       "   'north and middle andaman district'],\n",
       "  [11.631985029929629, 92.66360662053494, 1.0, 'south andaman district'],\n",
       "  [11.677741607997937, 92.63381562137643, 1.0, 'south andaman district'],\n",
       "  [12.177814253708332,\n",
       "   92.79292030900355,\n",
       "   1.0,\n",
       "   'north and middle andaman district'],\n",
       "  [12.349537376716842,\n",
       "   92.77300273029309,\n",
       "   1.0,\n",
       "   'north and middle andaman district'],\n",
       "  [11.833132220249421, 93.0325855480587, 1.0, 'south andaman district'],\n",
       "  [9.151749802225643, 92.76304709626574, 1.0, 'nicobars district'],\n",
       "  [11.597794442744068, 92.67354117766888, 1.0, 'south andaman district'],\n",
       "  [11.50664512016908, 92.70335751146348, 1.0, 'south andaman district'],\n",
       "  [9.184475772979537, 92.82281244301362, 1.0, 'nicobars district'],\n",
       "  [8.036761061390473, 93.54584892761072, 1.0, 'nicobars district'],\n",
       "  [12.004826040370471, 92.962558681057, 1.0, 'south andaman district'],\n",
       "  [13.1868642557773,\n",
       "   92.87267466120473,\n",
       "   1.0,\n",
       "   'north and middle andaman district'],\n",
       "  [11.586971835119936, 92.61396552249215, 1.0, 'south andaman district'],\n",
       "  [10.603876449242902, 92.53464978590789, 1.0, 'south andaman district'],\n",
       "  [10.514154904969311, 92.504941356271, 1.0, 'south andaman district']]}"
      ]
     },
     "execution_count": 10,
     "metadata": {},
     "output_type": "execute_result"
    }
   ],
   "source": [
    "with open('pulse/data/map/insurance/country/india/state/andaman-&-nicobar-islands/2021/1.json') as f:\n",
    "    data = json.load(f)\n",
    "\n",
    "data['data']['data']"
   ]
  },
  {
   "cell_type": "code",
   "execution_count": 13,
   "metadata": {},
   "outputs": [
    {
     "data": {
      "text/html": [
       "<div>\n",
       "<style scoped>\n",
       "    .dataframe tbody tr th:only-of-type {\n",
       "        vertical-align: middle;\n",
       "    }\n",
       "\n",
       "    .dataframe tbody tr th {\n",
       "        vertical-align: top;\n",
       "    }\n",
       "\n",
       "    .dataframe thead th {\n",
       "        text-align: right;\n",
       "    }\n",
       "</style>\n",
       "<table border=\"1\" class=\"dataframe\">\n",
       "  <thead>\n",
       "    <tr style=\"text-align: right;\">\n",
       "      <th></th>\n",
       "      <th>state</th>\n",
       "      <th>year</th>\n",
       "      <th>quarter</th>\n",
       "      <th>latitude</th>\n",
       "      <th>longitude</th>\n",
       "      <th>metric</th>\n",
       "      <th>label</th>\n",
       "    </tr>\n",
       "  </thead>\n",
       "  <tbody>\n",
       "    <tr>\n",
       "      <th>0</th>\n",
       "      <td>andaman-&amp;-nicobar-islands</td>\n",
       "      <td>2020</td>\n",
       "      <td>2</td>\n",
       "      <td>9.173490</td>\n",
       "      <td>92.812846</td>\n",
       "      <td>3.0</td>\n",
       "      <td>nicobars district</td>\n",
       "    </tr>\n",
       "    <tr>\n",
       "      <th>1</th>\n",
       "      <td>andaman-&amp;-nicobar-islands</td>\n",
       "      <td>2020</td>\n",
       "      <td>2</td>\n",
       "      <td>11.665257</td>\n",
       "      <td>92.753094</td>\n",
       "      <td>2.0</td>\n",
       "      <td>south andaman district</td>\n",
       "    </tr>\n",
       "    <tr>\n",
       "      <th>2</th>\n",
       "      <td>andaman-&amp;-nicobar-islands</td>\n",
       "      <td>2020</td>\n",
       "      <td>2</td>\n",
       "      <td>11.665446</td>\n",
       "      <td>92.733193</td>\n",
       "      <td>1.0</td>\n",
       "      <td>south andaman district</td>\n",
       "    </tr>\n",
       "    <tr>\n",
       "      <th>3</th>\n",
       "      <td>andaman-&amp;-nicobar-islands</td>\n",
       "      <td>2020</td>\n",
       "      <td>3</td>\n",
       "      <td>11.653981</td>\n",
       "      <td>92.743142</td>\n",
       "      <td>8.0</td>\n",
       "      <td>south andaman district</td>\n",
       "    </tr>\n",
       "    <tr>\n",
       "      <th>4</th>\n",
       "      <td>andaman-&amp;-nicobar-islands</td>\n",
       "      <td>2020</td>\n",
       "      <td>3</td>\n",
       "      <td>11.654075</td>\n",
       "      <td>92.723246</td>\n",
       "      <td>8.0</td>\n",
       "      <td>south andaman district</td>\n",
       "    </tr>\n",
       "    <tr>\n",
       "      <th>...</th>\n",
       "      <td>...</td>\n",
       "      <td>...</td>\n",
       "      <td>...</td>\n",
       "      <td>...</td>\n",
       "      <td>...</td>\n",
       "      <td>...</td>\n",
       "      <td>...</td>\n",
       "    </tr>\n",
       "    <tr>\n",
       "      <th>1043132</th>\n",
       "      <td>west-bengal</td>\n",
       "      <td>2024</td>\n",
       "      <td>4</td>\n",
       "      <td>22.522693</td>\n",
       "      <td>87.475255</td>\n",
       "      <td>1.0</td>\n",
       "      <td>paschim medinipur district</td>\n",
       "    </tr>\n",
       "    <tr>\n",
       "      <th>1043133</th>\n",
       "      <td>west-bengal</td>\n",
       "      <td>2024</td>\n",
       "      <td>4</td>\n",
       "      <td>22.637723</td>\n",
       "      <td>87.226997</td>\n",
       "      <td>1.0</td>\n",
       "      <td>paschim medinipur district</td>\n",
       "    </tr>\n",
       "    <tr>\n",
       "      <th>1043134</th>\n",
       "      <td>west-bengal</td>\n",
       "      <td>2024</td>\n",
       "      <td>4</td>\n",
       "      <td>23.595769</td>\n",
       "      <td>86.907310</td>\n",
       "      <td>1.0</td>\n",
       "      <td>bankura district</td>\n",
       "    </tr>\n",
       "    <tr>\n",
       "      <th>1043135</th>\n",
       "      <td>west-bengal</td>\n",
       "      <td>2024</td>\n",
       "      <td>4</td>\n",
       "      <td>26.707859</td>\n",
       "      <td>89.611038</td>\n",
       "      <td>1.0</td>\n",
       "      <td>alipurduar district</td>\n",
       "    </tr>\n",
       "    <tr>\n",
       "      <th>1043136</th>\n",
       "      <td>west-bengal</td>\n",
       "      <td>2024</td>\n",
       "      <td>4</td>\n",
       "      <td>26.754551</td>\n",
       "      <td>89.469491</td>\n",
       "      <td>1.0</td>\n",
       "      <td>alipurduar district</td>\n",
       "    </tr>\n",
       "  </tbody>\n",
       "</table>\n",
       "<p>1043137 rows × 7 columns</p>\n",
       "</div>"
      ],
      "text/plain": [
       "                             state  year  quarter   latitude  longitude  \\\n",
       "0        andaman-&-nicobar-islands  2020        2   9.173490  92.812846   \n",
       "1        andaman-&-nicobar-islands  2020        2  11.665257  92.753094   \n",
       "2        andaman-&-nicobar-islands  2020        2  11.665446  92.733193   \n",
       "3        andaman-&-nicobar-islands  2020        3  11.653981  92.743142   \n",
       "4        andaman-&-nicobar-islands  2020        3  11.654075  92.723246   \n",
       "...                            ...   ...      ...        ...        ...   \n",
       "1043132                west-bengal  2024        4  22.522693  87.475255   \n",
       "1043133                west-bengal  2024        4  22.637723  87.226997   \n",
       "1043134                west-bengal  2024        4  23.595769  86.907310   \n",
       "1043135                west-bengal  2024        4  26.707859  89.611038   \n",
       "1043136                west-bengal  2024        4  26.754551  89.469491   \n",
       "\n",
       "         metric                       label  \n",
       "0           3.0           nicobars district  \n",
       "1           2.0      south andaman district  \n",
       "2           1.0      south andaman district  \n",
       "3           8.0      south andaman district  \n",
       "4           8.0      south andaman district  \n",
       "...         ...                         ...  \n",
       "1043132     1.0  paschim medinipur district  \n",
       "1043133     1.0  paschim medinipur district  \n",
       "1043134     1.0            bankura district  \n",
       "1043135     1.0         alipurduar district  \n",
       "1043136     1.0         alipurduar district  \n",
       "\n",
       "[1043137 rows x 7 columns]"
      ]
     },
     "execution_count": 13,
     "metadata": {},
     "output_type": "execute_result"
    }
   ],
   "source": [
    "# Root path\n",
    "base_path = \"pulse/data/map/insurance/country/india/state\"\n",
    "\n",
    "# Final data container\n",
    "data_list = []\n",
    "\n",
    "# Traverse each state folder\n",
    "for state in os.listdir(base_path):\n",
    "    state_path = os.path.join(base_path, state)\n",
    "    \n",
    "    # Skip if not a directory\n",
    "    if not os.path.isdir(state_path):\n",
    "        continue\n",
    "\n",
    "    # Traverse each year folder\n",
    "    for year in os.listdir(state_path):\n",
    "        year_path = os.path.join(state_path, year)\n",
    "        \n",
    "        if not os.path.isdir(year_path):\n",
    "            continue\n",
    "\n",
    "        # Traverse each JSON file (quarter)\n",
    "        for file_name in os.listdir(year_path):\n",
    "            if file_name.endswith(\".json\"):\n",
    "                file_path = os.path.join(year_path, file_name)\n",
    "                quarter = int(file_name.replace(\".json\", \"\"))  # e.g., '2.json' -> 2\n",
    "                \n",
    "                # Read the file\n",
    "                with open(file_path, \"r\") as f:\n",
    "                    json_data = json.load(f)\n",
    "\n",
    "                # Extract count and amount\n",
    "                list__ = json_data['data']['data']['data']\n",
    "\n",
    "                for data in list__:         \n",
    "                                   \n",
    "                    lat = data[0]\n",
    "                    long = data[1]\n",
    "                    metric = data[2]\n",
    "                    label = data[3]                    \n",
    "\n",
    "                    # Append to list\n",
    "                    data_list.append({\n",
    "                        \"state\": state,\n",
    "                        \"year\": int(year),\n",
    "                        \"quarter\": quarter,\n",
    "                        \"latitude\": lat,\n",
    "                        \"longitude\": long,\n",
    "                        \"metric\": metric,\n",
    "                        \"label\": label\n",
    "                    })\n",
    "\n",
    "# Convert to DataFrame\n",
    "df = pd.DataFrame(data_list)\n",
    "\n",
    "df.to_csv(\"cleaned_data/map_insurance.csv\", index = False)\n",
    "\n",
    "df"
   ]
  },
  {
   "cell_type": "markdown",
   "metadata": {},
   "source": [
    "**Map transaction**"
   ]
  },
  {
   "cell_type": "markdown",
   "metadata": {},
   "source": [
    "district wise transaction count and amount"
   ]
  },
  {
   "cell_type": "code",
   "execution_count": 64,
   "metadata": {},
   "outputs": [
    {
     "data": {
      "text/plain": [
       "[{'name': 'tinsukia district',\n",
       "  'metric': [{'type': 'TOTAL', 'count': 196245, 'amount': 357008533.5524102}]},\n",
       " {'name': 'lakhimpur district',\n",
       "  'metric': [{'type': 'TOTAL',\n",
       "    'count': 115808,\n",
       "    'amount': 182745177.30235583}]},\n",
       " {'name': 'kamrup district',\n",
       "  'metric': [{'type': 'TOTAL', 'count': 222439, 'amount': 383883901.2477784}]},\n",
       " {'name': 'kokrajhar district',\n",
       "  'metric': [{'type': 'TOTAL', 'count': 77004, 'amount': 153786698.22127867}]}]"
      ]
     },
     "execution_count": 64,
     "metadata": {},
     "output_type": "execute_result"
    }
   ],
   "source": [
    "with open('pulse/data/map/transaction/hover/country/india/state/assam/2019/3.json') as f:\n",
    "    data = json.load(f)\n",
    "\n",
    "data['data']['hoverDataList'][0:4]"
   ]
  },
  {
   "cell_type": "code",
   "execution_count": null,
   "metadata": {},
   "outputs": [
    {
     "data": {
      "text/plain": [
       "[{'name': 'amethi district',\n",
       "  'metric': [{'type': 'TOTAL', 'count': 13049051, 'amount': 18525155339.0}]},\n",
       " {'name': 'siddharthnagar district',\n",
       "  'metric': [{'type': 'TOTAL', 'count': 19268644, 'amount': 29355182813.0}]},\n",
       " {'name': 'auraiya district',\n",
       "  'metric': [{'type': 'TOTAL', 'count': 11096392, 'amount': 14901287424.0}]},\n",
       " {'name': 'sambhal district',\n",
       "  'metric': [{'type': 'TOTAL', 'count': 17894494, 'amount': 26646326518.0}]},\n",
       " {'name': 'kanpur nagar district',\n",
       "  'metric': [{'type': 'TOTAL', 'count': 51693571, 'amount': 71093070940.0}]},\n",
       " {'name': 'aligarh district',\n",
       "  'metric': [{'type': 'TOTAL', 'count': 48000025, 'amount': 61196251661.0}]},\n",
       " {'name': 'mahoba district',\n",
       "  'metric': [{'type': 'TOTAL', 'count': 7521542, 'amount': 9472830255.0}]},\n",
       " {'name': 'lucknow district',\n",
       "  'metric': [{'type': 'TOTAL', 'count': 114911286, 'amount': 130163269528.0}]},\n",
       " {'name': 'sant kabeer nagar district',\n",
       "  'metric': [{'type': 'TOTAL', 'count': 10828658, 'amount': 16590801587.0}]},\n",
       " {'name': 'hathras district',\n",
       "  'metric': [{'type': 'TOTAL', 'count': 15176016, 'amount': 20337029479.0}]},\n",
       " {'name': 'budaun district',\n",
       "  'metric': [{'type': 'TOTAL', 'count': 17905933, 'amount': 25036653399.0}]},\n",
       " {'name': 'moradabad district',\n",
       "  'metric': [{'type': 'TOTAL', 'count': 36081117, 'amount': 52068573683.0}]},\n",
       " {'name': 'kushinagar district',\n",
       "  'metric': [{'type': 'TOTAL', 'count': 33641322, 'amount': 46921366549.0}]},\n",
       " {'name': 'baghpat district',\n",
       "  'metric': [{'type': 'TOTAL', 'count': 16925239, 'amount': 22028626917.0}]},\n",
       " {'name': 'shahjahanpur district',\n",
       "  'metric': [{'type': 'TOTAL', 'count': 14716907, 'amount': 21854431679.0}]},\n",
       " {'name': 'muzaffarnagar district',\n",
       "  'metric': [{'type': 'TOTAL', 'count': 34354883, 'amount': 46754970333.0}]},\n",
       " {'name': 'ambedkar nagar district',\n",
       "  'metric': [{'type': 'TOTAL', 'count': 15147277, 'amount': 20524822999.0}]},\n",
       " {'name': 'bahraich district',\n",
       "  'metric': [{'type': 'TOTAL', 'count': 13257249, 'amount': 19895269023.0}]},\n",
       " {'name': 'jalaun district',\n",
       "  'metric': [{'type': 'TOTAL', 'count': 15129308, 'amount': 21485296856.0}]},\n",
       " {'name': 'rampur district',\n",
       "  'metric': [{'type': 'TOTAL', 'count': 19893829, 'amount': 30217809932.0}]},\n",
       " {'name': 'ballia district',\n",
       "  'metric': [{'type': 'TOTAL', 'count': 29206978, 'amount': 39227591675.0}]},\n",
       " {'name': 'shravasti district',\n",
       "  'metric': [{'type': 'TOTAL', 'count': 2727960, 'amount': 4153370076.0}]},\n",
       " {'name': 'kasganj district',\n",
       "  'metric': [{'type': 'TOTAL', 'count': 10516204, 'amount': 13545451750.0}]},\n",
       " {'name': 'varanasi district',\n",
       "  'metric': [{'type': 'TOTAL', 'count': 53609943, 'amount': 72045558201.0}]},\n",
       " {'name': 'gautam buddha nagar district',\n",
       "  'metric': [{'type': 'TOTAL', 'count': 265595986, 'amount': 216594147530.0}]},\n",
       " {'name': 'basti district',\n",
       "  'metric': [{'type': 'TOTAL', 'count': 19453517, 'amount': 28409563904.0}]},\n",
       " {'name': 'shamli district',\n",
       "  'metric': [{'type': 'TOTAL', 'count': 16892138, 'amount': 22571647628.0}]},\n",
       " {'name': 'maharajganj district',\n",
       "  'metric': [{'type': 'TOTAL', 'count': 16959946, 'amount': 24421333972.0}]},\n",
       " {'name': 'etawah district',\n",
       "  'metric': [{'type': 'TOTAL', 'count': 15849817, 'amount': 20977484473.0}]},\n",
       " {'name': 'etah district',\n",
       "  'metric': [{'type': 'TOTAL', 'count': 14519553, 'amount': 18447443363.0}]},\n",
       " {'name': 'banda district',\n",
       "  'metric': [{'type': 'TOTAL', 'count': 8034856, 'amount': 11576956945.0}]},\n",
       " {'name': 'bijnor district',\n",
       "  'metric': [{'type': 'TOTAL', 'count': 27965625, 'amount': 40140186869.0}]},\n",
       " {'name': 'hardoi district',\n",
       "  'metric': [{'type': 'TOTAL', 'count': 14744332, 'amount': 20884462960.0}]},\n",
       " {'name': 'balrampur district',\n",
       "  'metric': [{'type': 'TOTAL', 'count': 9889183, 'amount': 14099693754.0}]},\n",
       " {'name': 'amroha district',\n",
       "  'metric': [{'type': 'TOTAL', 'count': 21766710, 'amount': 30460389787.0}]},\n",
       " {'name': 'pilibhit district',\n",
       "  'metric': [{'type': 'TOTAL', 'count': 10964860, 'amount': 15159667348.0}]},\n",
       " {'name': 'mainpuri district',\n",
       "  'metric': [{'type': 'TOTAL', 'count': 17318094, 'amount': 21349752037.0}]},\n",
       " {'name': 'kanpur dehat district',\n",
       "  'metric': [{'type': 'TOTAL', 'count': 10946937, 'amount': 16161566878.0}]},\n",
       " {'name': 'jaunpur district',\n",
       "  'metric': [{'type': 'TOTAL', 'count': 31002433, 'amount': 42940584935.0}]},\n",
       " {'name': 'kaushambi district',\n",
       "  'metric': [{'type': 'TOTAL', 'count': 6230955, 'amount': 9760099132.0}]},\n",
       " {'name': 'hapur district',\n",
       "  'metric': [{'type': 'TOTAL', 'count': 22278536, 'amount': 28043220889.0}]},\n",
       " {'name': 'hamirpur district',\n",
       "  'metric': [{'type': 'TOTAL', 'count': 8082894, 'amount': 11523623113.0}]},\n",
       " {'name': 'meerut district',\n",
       "  'metric': [{'type': 'TOTAL', 'count': 53321480, 'amount': 73554412225.0}]},\n",
       " {'name': 'mathura district',\n",
       "  'metric': [{'type': 'TOTAL', 'count': 50353355, 'amount': 63987781696.0}]},\n",
       " {'name': 'chitrakoot district',\n",
       "  'metric': [{'type': 'TOTAL', 'count': 5134070, 'amount': 7659609738.0}]},\n",
       " {'name': 'lalitpur district',\n",
       "  'metric': [{'type': 'TOTAL', 'count': 11163393, 'amount': 13842389612.0}]},\n",
       " {'name': 'mau district',\n",
       "  'metric': [{'type': 'TOTAL', 'count': 17245350, 'amount': 21888669046.0}]},\n",
       " {'name': 'mirzapur district',\n",
       "  'metric': [{'type': 'TOTAL', 'count': 14586249, 'amount': 21963423166.0}]},\n",
       " {'name': 'bulandshahr district',\n",
       "  'metric': [{'type': 'TOTAL', 'count': 41542752, 'amount': 51861635545.0}]},\n",
       " {'name': 'gonda district',\n",
       "  'metric': [{'type': 'TOTAL', 'count': 18171771, 'amount': 27209396980.0}]},\n",
       " {'name': 'jhansi district',\n",
       "  'metric': [{'type': 'TOTAL', 'count': 31182007, 'amount': 44425576065.0}]},\n",
       " {'name': 'chandauli district',\n",
       "  'metric': [{'type': 'TOTAL', 'count': 16162235, 'amount': 22932606294.0}]},\n",
       " {'name': 'bhadohi district',\n",
       "  'metric': [{'type': 'TOTAL', 'count': 8490768, 'amount': 10958305838.0}]},\n",
       " {'name': 'pratapgarh district',\n",
       "  'metric': [{'type': 'TOTAL', 'count': 19720541, 'amount': 26366948256.0}]},\n",
       " {'name': 'saharanpur district',\n",
       "  'metric': [{'type': 'TOTAL', 'count': 44738892, 'amount': 62314194165.0}]},\n",
       " {'name': 'bara banki district',\n",
       "  'metric': [{'type': 'TOTAL', 'count': 16448536, 'amount': 21590377263.0}]},\n",
       " {'name': 'bareilly district',\n",
       "  'metric': [{'type': 'TOTAL', 'count': 43016043, 'amount': 60773777855.0}]},\n",
       " {'name': 'sitapur district',\n",
       "  'metric': [{'type': 'TOTAL', 'count': 14708143, 'amount': 20139367381.0}]},\n",
       " {'name': 'sultanpur district',\n",
       "  'metric': [{'type': 'TOTAL', 'count': 15297356, 'amount': 20711672039.0}]},\n",
       " {'name': 'agra district',\n",
       "  'metric': [{'type': 'TOTAL', 'count': 64970242, 'amount': 87526694851.0}]},\n",
       " {'name': 'fatehpur district',\n",
       "  'metric': [{'type': 'TOTAL', 'count': 9873241, 'amount': 15522440665.0}]},\n",
       " {'name': 'rae bareli district',\n",
       "  'metric': [{'type': 'TOTAL', 'count': 12064645, 'amount': 16824729018.0}]},\n",
       " {'name': 'firozabad district',\n",
       "  'metric': [{'type': 'TOTAL', 'count': 24007730, 'amount': 32036303037.0}]},\n",
       " {'name': 'kheri district',\n",
       "  'metric': [{'type': 'TOTAL', 'count': 17328783, 'amount': 21858242813.0}]},\n",
       " {'name': 'gorakhpur district',\n",
       "  'metric': [{'type': 'TOTAL', 'count': 47011872, 'amount': 65415431625.0}]},\n",
       " {'name': 'unnao district',\n",
       "  'metric': [{'type': 'TOTAL', 'count': 11782074, 'amount': 17395679261.0}]},\n",
       " {'name': 'prayagraj district',\n",
       "  'metric': [{'type': 'TOTAL', 'count': 68889466, 'amount': 79935836127.0}]},\n",
       " {'name': 'sonbhadra district',\n",
       "  'metric': [{'type': 'TOTAL', 'count': 19490000, 'amount': 25777899667.0}]},\n",
       " {'name': 'ghazipur district',\n",
       "  'metric': [{'type': 'TOTAL', 'count': 29417186, 'amount': 39714789530.0}]},\n",
       " {'name': 'farrukhabad district',\n",
       "  'metric': [{'type': 'TOTAL', 'count': 14538065, 'amount': 18063244762.0}]},\n",
       " {'name': 'kannauj district',\n",
       "  'metric': [{'type': 'TOTAL', 'count': 12221267, 'amount': 15490755052.0}]},\n",
       " {'name': 'azamgarh district',\n",
       "  'metric': [{'type': 'TOTAL', 'count': 33940092, 'amount': 46249876623.0}]},\n",
       " {'name': 'ayodhya district',\n",
       "  'metric': [{'type': 'TOTAL', 'count': 23054221, 'amount': 31194104306.0}]},\n",
       " {'name': 'deoria district',\n",
       "  'metric': [{'type': 'TOTAL', 'count': 30127210, 'amount': 39689877012.0}]},\n",
       " {'name': 'ghaziabad district',\n",
       "  'metric': [{'type': 'TOTAL', 'count': 134489423, 'amount': 151784488421.0}]}]"
      ]
     },
     "execution_count": 66,
     "metadata": {},
     "output_type": "execute_result"
    }
   ],
   "source": [
    "with open('pulse/data/map/transaction/hover/country/india/state/uttar-pradesh/2024/2.json') as f:\n",
    "    data = json.load(f)\n",
    "\n",
    "data['data']['hoverDataList']"
   ]
  },
  {
   "cell_type": "code",
   "execution_count": 19,
   "metadata": {},
   "outputs": [
    {
     "data": {
      "text/html": [
       "<div>\n",
       "<style scoped>\n",
       "    .dataframe tbody tr th:only-of-type {\n",
       "        vertical-align: middle;\n",
       "    }\n",
       "\n",
       "    .dataframe tbody tr th {\n",
       "        vertical-align: top;\n",
       "    }\n",
       "\n",
       "    .dataframe thead th {\n",
       "        text-align: right;\n",
       "    }\n",
       "</style>\n",
       "<table border=\"1\" class=\"dataframe\">\n",
       "  <thead>\n",
       "    <tr style=\"text-align: right;\">\n",
       "      <th></th>\n",
       "      <th>state</th>\n",
       "      <th>year</th>\n",
       "      <th>quarter</th>\n",
       "      <th>name</th>\n",
       "      <th>count</th>\n",
       "      <th>amount</th>\n",
       "    </tr>\n",
       "  </thead>\n",
       "  <tbody>\n",
       "    <tr>\n",
       "      <th>0</th>\n",
       "      <td>andaman-&amp;-nicobar-islands</td>\n",
       "      <td>2018</td>\n",
       "      <td>1</td>\n",
       "      <td>north and middle andaman district</td>\n",
       "      <td>442</td>\n",
       "      <td>9.316631e+05</td>\n",
       "    </tr>\n",
       "    <tr>\n",
       "      <th>1</th>\n",
       "      <td>andaman-&amp;-nicobar-islands</td>\n",
       "      <td>2018</td>\n",
       "      <td>1</td>\n",
       "      <td>south andaman district</td>\n",
       "      <td>5688</td>\n",
       "      <td>1.256025e+07</td>\n",
       "    </tr>\n",
       "    <tr>\n",
       "      <th>2</th>\n",
       "      <td>andaman-&amp;-nicobar-islands</td>\n",
       "      <td>2018</td>\n",
       "      <td>1</td>\n",
       "      <td>nicobars district</td>\n",
       "      <td>528</td>\n",
       "      <td>1.139849e+06</td>\n",
       "    </tr>\n",
       "    <tr>\n",
       "      <th>3</th>\n",
       "      <td>andaman-&amp;-nicobar-islands</td>\n",
       "      <td>2018</td>\n",
       "      <td>2</td>\n",
       "      <td>north and middle andaman district</td>\n",
       "      <td>825</td>\n",
       "      <td>1.317863e+06</td>\n",
       "    </tr>\n",
       "    <tr>\n",
       "      <th>4</th>\n",
       "      <td>andaman-&amp;-nicobar-islands</td>\n",
       "      <td>2018</td>\n",
       "      <td>2</td>\n",
       "      <td>south andaman district</td>\n",
       "      <td>9395</td>\n",
       "      <td>2.394824e+07</td>\n",
       "    </tr>\n",
       "    <tr>\n",
       "      <th>...</th>\n",
       "      <td>...</td>\n",
       "      <td>...</td>\n",
       "      <td>...</td>\n",
       "      <td>...</td>\n",
       "      <td>...</td>\n",
       "      <td>...</td>\n",
       "    </tr>\n",
       "    <tr>\n",
       "      <th>20599</th>\n",
       "      <td>west-bengal</td>\n",
       "      <td>2024</td>\n",
       "      <td>4</td>\n",
       "      <td>alipurduar district</td>\n",
       "      <td>15875637</td>\n",
       "      <td>2.099251e+10</td>\n",
       "    </tr>\n",
       "    <tr>\n",
       "      <th>20600</th>\n",
       "      <td>west-bengal</td>\n",
       "      <td>2024</td>\n",
       "      <td>4</td>\n",
       "      <td>paschim bardhaman district</td>\n",
       "      <td>56616799</td>\n",
       "      <td>6.968735e+10</td>\n",
       "    </tr>\n",
       "    <tr>\n",
       "      <th>20601</th>\n",
       "      <td>west-bengal</td>\n",
       "      <td>2024</td>\n",
       "      <td>4</td>\n",
       "      <td>nadia district</td>\n",
       "      <td>65274337</td>\n",
       "      <td>1.079320e+11</td>\n",
       "    </tr>\n",
       "    <tr>\n",
       "      <th>20602</th>\n",
       "      <td>west-bengal</td>\n",
       "      <td>2024</td>\n",
       "      <td>4</td>\n",
       "      <td>birbhum district</td>\n",
       "      <td>36905213</td>\n",
       "      <td>5.778701e+10</td>\n",
       "    </tr>\n",
       "    <tr>\n",
       "      <th>20603</th>\n",
       "      <td>west-bengal</td>\n",
       "      <td>2024</td>\n",
       "      <td>4</td>\n",
       "      <td>purba medinipur district</td>\n",
       "      <td>67833775</td>\n",
       "      <td>1.142771e+11</td>\n",
       "    </tr>\n",
       "  </tbody>\n",
       "</table>\n",
       "<p>20604 rows × 6 columns</p>\n",
       "</div>"
      ],
      "text/plain": [
       "                           state  year  quarter  \\\n",
       "0      andaman-&-nicobar-islands  2018        1   \n",
       "1      andaman-&-nicobar-islands  2018        1   \n",
       "2      andaman-&-nicobar-islands  2018        1   \n",
       "3      andaman-&-nicobar-islands  2018        2   \n",
       "4      andaman-&-nicobar-islands  2018        2   \n",
       "...                          ...   ...      ...   \n",
       "20599                west-bengal  2024        4   \n",
       "20600                west-bengal  2024        4   \n",
       "20601                west-bengal  2024        4   \n",
       "20602                west-bengal  2024        4   \n",
       "20603                west-bengal  2024        4   \n",
       "\n",
       "                                    name     count        amount  \n",
       "0      north and middle andaman district       442  9.316631e+05  \n",
       "1                 south andaman district      5688  1.256025e+07  \n",
       "2                      nicobars district       528  1.139849e+06  \n",
       "3      north and middle andaman district       825  1.317863e+06  \n",
       "4                 south andaman district      9395  2.394824e+07  \n",
       "...                                  ...       ...           ...  \n",
       "20599                alipurduar district  15875637  2.099251e+10  \n",
       "20600         paschim bardhaman district  56616799  6.968735e+10  \n",
       "20601                     nadia district  65274337  1.079320e+11  \n",
       "20602                   birbhum district  36905213  5.778701e+10  \n",
       "20603           purba medinipur district  67833775  1.142771e+11  \n",
       "\n",
       "[20604 rows x 6 columns]"
      ]
     },
     "execution_count": 19,
     "metadata": {},
     "output_type": "execute_result"
    }
   ],
   "source": [
    "# Root path\n",
    "base_path = \"pulse/data/map/transaction/hover/country/india/state\"\n",
    "\n",
    "# Final data container\n",
    "data_list = []\n",
    "\n",
    "# Traverse each state folder\n",
    "for state in os.listdir(base_path):\n",
    "    state_path = os.path.join(base_path, state)\n",
    "    \n",
    "    # Skip if not a directory\n",
    "    if not os.path.isdir(state_path):\n",
    "        continue\n",
    "\n",
    "    # Traverse each year folder\n",
    "    for year in os.listdir(state_path):\n",
    "        year_path = os.path.join(state_path, year)\n",
    "        \n",
    "        if not os.path.isdir(year_path):\n",
    "            continue\n",
    "\n",
    "        # Traverse each JSON file (quarter)\n",
    "        for file_name in os.listdir(year_path):\n",
    "            if file_name.endswith(\".json\"):\n",
    "                file_path = os.path.join(year_path, file_name)\n",
    "                quarter = int(file_name.replace(\".json\", \"\"))  # e.g., '2.json' -> 2\n",
    "                \n",
    "                # Read the file\n",
    "                with open(file_path, \"r\") as f:\n",
    "                    json_data = json.load(f)\n",
    "\n",
    "                # Extract count and amount\n",
    "                users_by_hoverList = json_data[\"data\"].get('hoverDataList')\n",
    "\n",
    "                if isinstance(users_by_hoverList, list):\n",
    "                    for data in users_by_hoverList:\n",
    "                        name = data[\"name\"]\n",
    "                        count = data[\"metric\"][0][\"count\"]\n",
    "                        amount = round(data[\"metric\"][0][\"amount\"],2)\n",
    "\n",
    "                        # Append to list\n",
    "                        data_list.append({\n",
    "                            \"state\": state,\n",
    "                            \"year\": int(year),\n",
    "                            \"quarter\": quarter,\n",
    "                            \"name\": name,\n",
    "                            \"count\": count,\n",
    "                            \"amount\": amount\n",
    "                        })\n",
    "\n",
    "# Convert to DataFrame\n",
    "df = pd.DataFrame(data_list)\n",
    "\n",
    "df.to_csv(\"cleaned_data/map_transaction.csv\", index = False)\n",
    "\n",
    "df"
   ]
  },
  {
   "cell_type": "markdown",
   "metadata": {},
   "source": [
    "**Map User**"
   ]
  },
  {
   "cell_type": "markdown",
   "metadata": {},
   "source": [
    "district wise registeredUsers and appOpens"
   ]
  },
  {
   "cell_type": "code",
   "execution_count": 17,
   "metadata": {},
   "outputs": [
    {
     "data": {
      "text/plain": [
       "{'south twenty four parganas district': {'registeredUsers': 2525913,\n",
       "  'appOpens': 148514597},\n",
       " 'purba bardhaman district': {'registeredUsers': 1435548,\n",
       "  'appOpens': 84180749},\n",
       " 'uttar dinajpur district': {'registeredUsers': 922938, 'appOpens': 66212953},\n",
       " 'kalimpong district': {'registeredUsers': 78277, 'appOpens': 4244012},\n",
       " 'murshidabad district': {'registeredUsers': 2463675, 'appOpens': 165497019},\n",
       " 'paschim medinipur district': {'registeredUsers': 1522845,\n",
       "  'appOpens': 80731143},\n",
       " 'dakshin dinajpur district': {'registeredUsers': 489732,\n",
       "  'appOpens': 30374022},\n",
       " 'jalpaiguri district': {'registeredUsers': 647266, 'appOpens': 42531734},\n",
       " 'purulia district': {'registeredUsers': 809355, 'appOpens': 56448658},\n",
       " 'north twenty four parganas district': {'registeredUsers': 5085095,\n",
       "  'appOpens': 234840305},\n",
       " 'bankura district': {'registeredUsers': 1017304, 'appOpens': 49393224},\n",
       " 'jhargram district': {'registeredUsers': 282208, 'appOpens': 14361554},\n",
       " 'darjeeling district': {'registeredUsers': 881187, 'appOpens': 56941907},\n",
       " 'cooch behar district': {'registeredUsers': 932485, 'appOpens': 53702834},\n",
       " 'malda district': {'registeredUsers': 1444985, 'appOpens': 122226269},\n",
       " 'howrah district': {'registeredUsers': 2140752, 'appOpens': 116704834},\n",
       " 'hooghly district': {'registeredUsers': 1957356, 'appOpens': 96383119},\n",
       " 'kolkata district': {'registeredUsers': 3476288, 'appOpens': 178709399},\n",
       " 'alipurduar district': {'registeredUsers': 475688, 'appOpens': 31842355},\n",
       " 'paschim bardhaman district': {'registeredUsers': 1468252,\n",
       "  'appOpens': 80543469},\n",
       " 'nadia district': {'registeredUsers': 1861738, 'appOpens': 98740305},\n",
       " 'birbhum district': {'registeredUsers': 1114220, 'appOpens': 73465525},\n",
       " 'purba medinipur district': {'registeredUsers': 1717074,\n",
       "  'appOpens': 108350777}}"
      ]
     },
     "execution_count": 17,
     "metadata": {},
     "output_type": "execute_result"
    }
   ],
   "source": [
    "with open('pulse/data/map/user/hover/country/india/state/bihar/2021/2.json') as f:\n",
    "    data = json.load(f)\n",
    "\n",
    "json_data['data']['hoverData']"
   ]
  },
  {
   "cell_type": "code",
   "execution_count": 20,
   "metadata": {},
   "outputs": [
    {
     "data": {
      "text/html": [
       "<div>\n",
       "<style scoped>\n",
       "    .dataframe tbody tr th:only-of-type {\n",
       "        vertical-align: middle;\n",
       "    }\n",
       "\n",
       "    .dataframe tbody tr th {\n",
       "        vertical-align: top;\n",
       "    }\n",
       "\n",
       "    .dataframe thead th {\n",
       "        text-align: right;\n",
       "    }\n",
       "</style>\n",
       "<table border=\"1\" class=\"dataframe\">\n",
       "  <thead>\n",
       "    <tr style=\"text-align: right;\">\n",
       "      <th></th>\n",
       "      <th>state</th>\n",
       "      <th>year</th>\n",
       "      <th>quarter</th>\n",
       "      <th>name</th>\n",
       "      <th>count</th>\n",
       "      <th>amount</th>\n",
       "    </tr>\n",
       "  </thead>\n",
       "  <tbody>\n",
       "    <tr>\n",
       "      <th>0</th>\n",
       "      <td>andaman-&amp;-nicobar-islands</td>\n",
       "      <td>2018</td>\n",
       "      <td>1</td>\n",
       "      <td>north and middle andaman district</td>\n",
       "      <td>632</td>\n",
       "      <td>0</td>\n",
       "    </tr>\n",
       "    <tr>\n",
       "      <th>1</th>\n",
       "      <td>andaman-&amp;-nicobar-islands</td>\n",
       "      <td>2018</td>\n",
       "      <td>1</td>\n",
       "      <td>south andaman district</td>\n",
       "      <td>5846</td>\n",
       "      <td>0</td>\n",
       "    </tr>\n",
       "    <tr>\n",
       "      <th>2</th>\n",
       "      <td>andaman-&amp;-nicobar-islands</td>\n",
       "      <td>2018</td>\n",
       "      <td>1</td>\n",
       "      <td>nicobars district</td>\n",
       "      <td>262</td>\n",
       "      <td>0</td>\n",
       "    </tr>\n",
       "    <tr>\n",
       "      <th>3</th>\n",
       "      <td>andaman-&amp;-nicobar-islands</td>\n",
       "      <td>2018</td>\n",
       "      <td>2</td>\n",
       "      <td>north and middle andaman district</td>\n",
       "      <td>911</td>\n",
       "      <td>0</td>\n",
       "    </tr>\n",
       "    <tr>\n",
       "      <th>4</th>\n",
       "      <td>andaman-&amp;-nicobar-islands</td>\n",
       "      <td>2018</td>\n",
       "      <td>2</td>\n",
       "      <td>south andaman district</td>\n",
       "      <td>8143</td>\n",
       "      <td>0</td>\n",
       "    </tr>\n",
       "    <tr>\n",
       "      <th>...</th>\n",
       "      <td>...</td>\n",
       "      <td>...</td>\n",
       "      <td>...</td>\n",
       "      <td>...</td>\n",
       "      <td>...</td>\n",
       "      <td>...</td>\n",
       "    </tr>\n",
       "    <tr>\n",
       "      <th>20603</th>\n",
       "      <td>west-bengal</td>\n",
       "      <td>2024</td>\n",
       "      <td>4</td>\n",
       "      <td>alipurduar district</td>\n",
       "      <td>475688</td>\n",
       "      <td>31842355</td>\n",
       "    </tr>\n",
       "    <tr>\n",
       "      <th>20604</th>\n",
       "      <td>west-bengal</td>\n",
       "      <td>2024</td>\n",
       "      <td>4</td>\n",
       "      <td>paschim bardhaman district</td>\n",
       "      <td>1468252</td>\n",
       "      <td>80543469</td>\n",
       "    </tr>\n",
       "    <tr>\n",
       "      <th>20605</th>\n",
       "      <td>west-bengal</td>\n",
       "      <td>2024</td>\n",
       "      <td>4</td>\n",
       "      <td>nadia district</td>\n",
       "      <td>1861738</td>\n",
       "      <td>98740305</td>\n",
       "    </tr>\n",
       "    <tr>\n",
       "      <th>20606</th>\n",
       "      <td>west-bengal</td>\n",
       "      <td>2024</td>\n",
       "      <td>4</td>\n",
       "      <td>birbhum district</td>\n",
       "      <td>1114220</td>\n",
       "      <td>73465525</td>\n",
       "    </tr>\n",
       "    <tr>\n",
       "      <th>20607</th>\n",
       "      <td>west-bengal</td>\n",
       "      <td>2024</td>\n",
       "      <td>4</td>\n",
       "      <td>purba medinipur district</td>\n",
       "      <td>1717074</td>\n",
       "      <td>108350777</td>\n",
       "    </tr>\n",
       "  </tbody>\n",
       "</table>\n",
       "<p>20608 rows × 6 columns</p>\n",
       "</div>"
      ],
      "text/plain": [
       "                           state  year  quarter  \\\n",
       "0      andaman-&-nicobar-islands  2018        1   \n",
       "1      andaman-&-nicobar-islands  2018        1   \n",
       "2      andaman-&-nicobar-islands  2018        1   \n",
       "3      andaman-&-nicobar-islands  2018        2   \n",
       "4      andaman-&-nicobar-islands  2018        2   \n",
       "...                          ...   ...      ...   \n",
       "20603                west-bengal  2024        4   \n",
       "20604                west-bengal  2024        4   \n",
       "20605                west-bengal  2024        4   \n",
       "20606                west-bengal  2024        4   \n",
       "20607                west-bengal  2024        4   \n",
       "\n",
       "                                    name    count     amount  \n",
       "0      north and middle andaman district      632          0  \n",
       "1                 south andaman district     5846          0  \n",
       "2                      nicobars district      262          0  \n",
       "3      north and middle andaman district      911          0  \n",
       "4                 south andaman district     8143          0  \n",
       "...                                  ...      ...        ...  \n",
       "20603                alipurduar district   475688   31842355  \n",
       "20604         paschim bardhaman district  1468252   80543469  \n",
       "20605                     nadia district  1861738   98740305  \n",
       "20606                   birbhum district  1114220   73465525  \n",
       "20607           purba medinipur district  1717074  108350777  \n",
       "\n",
       "[20608 rows x 6 columns]"
      ]
     },
     "execution_count": 20,
     "metadata": {},
     "output_type": "execute_result"
    }
   ],
   "source": [
    "# Root path\n",
    "base_path = \"pulse/data/map/user/hover/country/india/state\"\n",
    "\n",
    "# Final data container\n",
    "data_list = []\n",
    "\n",
    "# Traverse each state folder\n",
    "for state in os.listdir(base_path):\n",
    "    state_path = os.path.join(base_path, state)\n",
    "    \n",
    "    # Skip if not a directory\n",
    "    if not os.path.isdir(state_path):\n",
    "        continue\n",
    "\n",
    "    # Traverse each year folder\n",
    "    for year in os.listdir(state_path):\n",
    "        year_path = os.path.join(state_path, year)\n",
    "        \n",
    "        if not os.path.isdir(year_path):\n",
    "            continue\n",
    "\n",
    "        # Traverse each JSON file (quarter)\n",
    "        for file_name in os.listdir(year_path):\n",
    "            if file_name.endswith(\".json\"):\n",
    "                file_path = os.path.join(year_path, file_name)\n",
    "                quarter = int(file_name.replace(\".json\", \"\"))  # e.g., '2.json' -> 2\n",
    "                \n",
    "                # Read the file\n",
    "                with open(file_path, \"r\") as f:\n",
    "                    json_data = json.load(f)\n",
    "\n",
    "                # Extract count and amount\n",
    "                dict = json_data['data']['hoverData']\n",
    "\n",
    "               \n",
    "                for data in list(dict):                        \n",
    "                    count = dict[data]['registeredUsers']\n",
    "                    amount = dict[data]['appOpens']\n",
    "\n",
    "                    # Append to list\n",
    "                    data_list.append({\n",
    "                        \"state\": state,\n",
    "                        \"year\": int(year),\n",
    "                        \"quarter\": quarter,\n",
    "                        \"name\": data,\n",
    "                        \"count\": count,\n",
    "                        \"amount\": amount\n",
    "                    })\n",
    "\n",
    "# Convert to DataFrame\n",
    "df = pd.DataFrame(data_list)\n",
    "\n",
    "df.to_csv(\"cleaned_data/map_user.csv\", index = False)\n",
    "\n",
    "df"
   ]
  },
  {
   "cell_type": "markdown",
   "metadata": {},
   "source": [
    "### Top"
   ]
  },
  {
   "cell_type": "markdown",
   "metadata": {},
   "source": [
    "**Top insurance**"
   ]
  },
  {
   "cell_type": "code",
   "execution_count": 28,
   "metadata": {},
   "outputs": [
    {
     "data": {
      "text/plain": [
       "[{'entityName': '201301',\n",
       "  'metric': {'type': 'TOTAL', 'count': 1052, 'amount': 1180961.0}},\n",
       " {'entityName': '201009',\n",
       "  'metric': {'type': 'TOTAL', 'count': 908, 'amount': 1067794.0}},\n",
       " {'entityName': '203001',\n",
       "  'metric': {'type': 'TOTAL', 'count': 744, 'amount': 619403.0}},\n",
       " {'entityName': '201102',\n",
       "  'metric': {'type': 'TOTAL', 'count': 698, 'amount': 954233.0}},\n",
       " {'entityName': '201318',\n",
       "  'metric': {'type': 'TOTAL', 'count': 563, 'amount': 798727.0}},\n",
       " {'entityName': '250001',\n",
       "  'metric': {'type': 'TOTAL', 'count': 563, 'amount': 942915.0}},\n",
       " {'entityName': '201307',\n",
       "  'metric': {'type': 'TOTAL', 'count': 552, 'amount': 737200.0}},\n",
       " {'entityName': '201303',\n",
       "  'metric': {'type': 'TOTAL', 'count': 474, 'amount': 553387.0}},\n",
       " {'entityName': '201003',\n",
       "  'metric': {'type': 'TOTAL', 'count': 457, 'amount': 703503.0}},\n",
       " {'entityName': '247001',\n",
       "  'metric': {'type': 'TOTAL', 'count': 433, 'amount': 765977.0}}]"
      ]
     },
     "execution_count": 28,
     "metadata": {},
     "output_type": "execute_result"
    }
   ],
   "source": [
    "with open('pulse/data/top/insurance/country/india/state/uttar-pradesh/2022/1.json') as f:\n",
    "    data = json.load(f)\n",
    "\n",
    "data['data']['pincodes']"
   ]
  },
  {
   "cell_type": "markdown",
   "metadata": {},
   "source": [
    "***In top insurance, we have distict and pincode level, lets create 2 separate dataframes for them.***"
   ]
  },
  {
   "cell_type": "markdown",
   "metadata": {},
   "source": [
    "for top insurance district:"
   ]
  },
  {
   "cell_type": "code",
   "execution_count": 21,
   "metadata": {},
   "outputs": [
    {
     "data": {
      "text/html": [
       "<div>\n",
       "<style scoped>\n",
       "    .dataframe tbody tr th:only-of-type {\n",
       "        vertical-align: middle;\n",
       "    }\n",
       "\n",
       "    .dataframe tbody tr th {\n",
       "        vertical-align: top;\n",
       "    }\n",
       "\n",
       "    .dataframe thead th {\n",
       "        text-align: right;\n",
       "    }\n",
       "</style>\n",
       "<table border=\"1\" class=\"dataframe\">\n",
       "  <thead>\n",
       "    <tr style=\"text-align: right;\">\n",
       "      <th></th>\n",
       "      <th>state</th>\n",
       "      <th>year</th>\n",
       "      <th>quarter</th>\n",
       "      <th>districtName</th>\n",
       "      <th>count</th>\n",
       "      <th>amount</th>\n",
       "    </tr>\n",
       "  </thead>\n",
       "  <tbody>\n",
       "    <tr>\n",
       "      <th>0</th>\n",
       "      <td>andaman-&amp;-nicobar-islands</td>\n",
       "      <td>2020</td>\n",
       "      <td>2</td>\n",
       "      <td>nicobars</td>\n",
       "      <td>3</td>\n",
       "      <td>565.0</td>\n",
       "    </tr>\n",
       "    <tr>\n",
       "      <th>1</th>\n",
       "      <td>andaman-&amp;-nicobar-islands</td>\n",
       "      <td>2020</td>\n",
       "      <td>2</td>\n",
       "      <td>south andaman</td>\n",
       "      <td>3</td>\n",
       "      <td>795.0</td>\n",
       "    </tr>\n",
       "    <tr>\n",
       "      <th>2</th>\n",
       "      <td>andaman-&amp;-nicobar-islands</td>\n",
       "      <td>2020</td>\n",
       "      <td>3</td>\n",
       "      <td>south andaman</td>\n",
       "      <td>35</td>\n",
       "      <td>13651.0</td>\n",
       "    </tr>\n",
       "    <tr>\n",
       "      <th>3</th>\n",
       "      <td>andaman-&amp;-nicobar-islands</td>\n",
       "      <td>2020</td>\n",
       "      <td>3</td>\n",
       "      <td>nicobars</td>\n",
       "      <td>5</td>\n",
       "      <td>1448.0</td>\n",
       "    </tr>\n",
       "    <tr>\n",
       "      <th>4</th>\n",
       "      <td>andaman-&amp;-nicobar-islands</td>\n",
       "      <td>2020</td>\n",
       "      <td>3</td>\n",
       "      <td>north and middle andaman</td>\n",
       "      <td>1</td>\n",
       "      <td>281.0</td>\n",
       "    </tr>\n",
       "    <tr>\n",
       "      <th>...</th>\n",
       "      <td>...</td>\n",
       "      <td>...</td>\n",
       "      <td>...</td>\n",
       "      <td>...</td>\n",
       "      <td>...</td>\n",
       "      <td>...</td>\n",
       "    </tr>\n",
       "    <tr>\n",
       "      <th>5603</th>\n",
       "      <td>west-bengal</td>\n",
       "      <td>2024</td>\n",
       "      <td>4</td>\n",
       "      <td>paschim bardhaman</td>\n",
       "      <td>4945</td>\n",
       "      <td>7005851.0</td>\n",
       "    </tr>\n",
       "    <tr>\n",
       "      <th>5604</th>\n",
       "      <td>west-bengal</td>\n",
       "      <td>2024</td>\n",
       "      <td>4</td>\n",
       "      <td>paschim medinipur</td>\n",
       "      <td>4155</td>\n",
       "      <td>5405054.0</td>\n",
       "    </tr>\n",
       "    <tr>\n",
       "      <th>5605</th>\n",
       "      <td>west-bengal</td>\n",
       "      <td>2024</td>\n",
       "      <td>4</td>\n",
       "      <td>malda</td>\n",
       "      <td>4042</td>\n",
       "      <td>4902098.0</td>\n",
       "    </tr>\n",
       "    <tr>\n",
       "      <th>5606</th>\n",
       "      <td>west-bengal</td>\n",
       "      <td>2024</td>\n",
       "      <td>4</td>\n",
       "      <td>nadia</td>\n",
       "      <td>3807</td>\n",
       "      <td>5031294.0</td>\n",
       "    </tr>\n",
       "    <tr>\n",
       "      <th>5607</th>\n",
       "      <td>west-bengal</td>\n",
       "      <td>2024</td>\n",
       "      <td>4</td>\n",
       "      <td>purba bardhaman</td>\n",
       "      <td>3595</td>\n",
       "      <td>4482879.0</td>\n",
       "    </tr>\n",
       "  </tbody>\n",
       "</table>\n",
       "<p>5608 rows × 6 columns</p>\n",
       "</div>"
      ],
      "text/plain": [
       "                          state  year  quarter              districtName  \\\n",
       "0     andaman-&-nicobar-islands  2020        2                  nicobars   \n",
       "1     andaman-&-nicobar-islands  2020        2             south andaman   \n",
       "2     andaman-&-nicobar-islands  2020        3             south andaman   \n",
       "3     andaman-&-nicobar-islands  2020        3                  nicobars   \n",
       "4     andaman-&-nicobar-islands  2020        3  north and middle andaman   \n",
       "...                         ...   ...      ...                       ...   \n",
       "5603                west-bengal  2024        4         paschim bardhaman   \n",
       "5604                west-bengal  2024        4         paschim medinipur   \n",
       "5605                west-bengal  2024        4                     malda   \n",
       "5606                west-bengal  2024        4                     nadia   \n",
       "5607                west-bengal  2024        4           purba bardhaman   \n",
       "\n",
       "      count     amount  \n",
       "0         3      565.0  \n",
       "1         3      795.0  \n",
       "2        35    13651.0  \n",
       "3         5     1448.0  \n",
       "4         1      281.0  \n",
       "...     ...        ...  \n",
       "5603   4945  7005851.0  \n",
       "5604   4155  5405054.0  \n",
       "5605   4042  4902098.0  \n",
       "5606   3807  5031294.0  \n",
       "5607   3595  4482879.0  \n",
       "\n",
       "[5608 rows x 6 columns]"
      ]
     },
     "execution_count": 21,
     "metadata": {},
     "output_type": "execute_result"
    }
   ],
   "source": [
    "# Root path\n",
    "base_path = \"pulse/data/top/insurance/country/india/state\"\n",
    "\n",
    "# Final data container\n",
    "data_list = []\n",
    "\n",
    "# Traverse each state folder\n",
    "for state in os.listdir(base_path):\n",
    "    state_path = os.path.join(base_path, state)\n",
    "    \n",
    "    # Skip if not a directory\n",
    "    if not os.path.isdir(state_path):\n",
    "        continue\n",
    "\n",
    "    # Traverse each year folder\n",
    "    for year in os.listdir(state_path):\n",
    "        year_path = os.path.join(state_path, year)\n",
    "        \n",
    "        if not os.path.isdir(year_path):\n",
    "            continue\n",
    "\n",
    "        # Traverse each JSON file (quarter)\n",
    "        for file_name in os.listdir(year_path):\n",
    "            if file_name.endswith(\".json\"):\n",
    "                file_path = os.path.join(year_path, file_name)\n",
    "                quarter = int(file_name.replace(\".json\", \"\"))  # e.g., '2.json' -> 2\n",
    "                \n",
    "                # Read the file\n",
    "                with open(file_path, \"r\") as f:\n",
    "                    json_data = json.load(f)\n",
    "\n",
    "                # Extract count and amount\n",
    "                dict = json_data['data']['districts']\n",
    "               \n",
    "                for data in dict:    \n",
    "                    district = data['entityName']                    \n",
    "                    count = data['metric']['count']\n",
    "                    amount = data['metric']['amount']\n",
    "                    # Append to list\n",
    "                    data_list.append({\n",
    "                        \"state\": state,\n",
    "                        \"year\": int(year),\n",
    "                        \"quarter\": quarter,\n",
    "                        \"districtName\": district,\n",
    "                        \"count\": count,\n",
    "                        \"amount\": amount\n",
    "                    })\n",
    "\n",
    "# Convert to DataFrame\n",
    "df = pd.DataFrame(data_list)\n",
    "\n",
    "df.to_csv(\"cleaned_data/top_insurance_district.csv\", index = False)\n",
    "\n",
    "df"
   ]
  },
  {
   "cell_type": "markdown",
   "metadata": {},
   "source": [
    "for top insurance pincode"
   ]
  },
  {
   "cell_type": "code",
   "execution_count": 22,
   "metadata": {},
   "outputs": [
    {
     "data": {
      "text/html": [
       "<div>\n",
       "<style scoped>\n",
       "    .dataframe tbody tr th:only-of-type {\n",
       "        vertical-align: middle;\n",
       "    }\n",
       "\n",
       "    .dataframe tbody tr th {\n",
       "        vertical-align: top;\n",
       "    }\n",
       "\n",
       "    .dataframe thead th {\n",
       "        text-align: right;\n",
       "    }\n",
       "</style>\n",
       "<table border=\"1\" class=\"dataframe\">\n",
       "  <thead>\n",
       "    <tr style=\"text-align: right;\">\n",
       "      <th></th>\n",
       "      <th>state</th>\n",
       "      <th>year</th>\n",
       "      <th>quarter</th>\n",
       "      <th>pincode</th>\n",
       "      <th>count</th>\n",
       "      <th>amount</th>\n",
       "    </tr>\n",
       "  </thead>\n",
       "  <tbody>\n",
       "    <tr>\n",
       "      <th>0</th>\n",
       "      <td>andaman-&amp;-nicobar-islands</td>\n",
       "      <td>2020</td>\n",
       "      <td>2</td>\n",
       "      <td>744301</td>\n",
       "      <td>3</td>\n",
       "      <td>565.0</td>\n",
       "    </tr>\n",
       "    <tr>\n",
       "      <th>1</th>\n",
       "      <td>andaman-&amp;-nicobar-islands</td>\n",
       "      <td>2020</td>\n",
       "      <td>2</td>\n",
       "      <td>744104</td>\n",
       "      <td>2</td>\n",
       "      <td>513.0</td>\n",
       "    </tr>\n",
       "    <tr>\n",
       "      <th>2</th>\n",
       "      <td>andaman-&amp;-nicobar-islands</td>\n",
       "      <td>2020</td>\n",
       "      <td>2</td>\n",
       "      <td>744101</td>\n",
       "      <td>1</td>\n",
       "      <td>282.0</td>\n",
       "    </tr>\n",
       "    <tr>\n",
       "      <th>3</th>\n",
       "      <td>andaman-&amp;-nicobar-islands</td>\n",
       "      <td>2020</td>\n",
       "      <td>3</td>\n",
       "      <td>744112</td>\n",
       "      <td>9</td>\n",
       "      <td>3432.0</td>\n",
       "    </tr>\n",
       "    <tr>\n",
       "      <th>4</th>\n",
       "      <td>andaman-&amp;-nicobar-islands</td>\n",
       "      <td>2020</td>\n",
       "      <td>3</td>\n",
       "      <td>744105</td>\n",
       "      <td>7</td>\n",
       "      <td>3948.0</td>\n",
       "    </tr>\n",
       "    <tr>\n",
       "      <th>...</th>\n",
       "      <td>...</td>\n",
       "      <td>...</td>\n",
       "      <td>...</td>\n",
       "      <td>...</td>\n",
       "      <td>...</td>\n",
       "      <td>...</td>\n",
       "    </tr>\n",
       "    <tr>\n",
       "      <th>6663</th>\n",
       "      <td>west-bengal</td>\n",
       "      <td>2024</td>\n",
       "      <td>4</td>\n",
       "      <td>711101</td>\n",
       "      <td>713</td>\n",
       "      <td>750354.0</td>\n",
       "    </tr>\n",
       "    <tr>\n",
       "      <th>6664</th>\n",
       "      <td>west-bengal</td>\n",
       "      <td>2024</td>\n",
       "      <td>4</td>\n",
       "      <td>700091</td>\n",
       "      <td>642</td>\n",
       "      <td>969634.0</td>\n",
       "    </tr>\n",
       "    <tr>\n",
       "      <th>6665</th>\n",
       "      <td>west-bengal</td>\n",
       "      <td>2024</td>\n",
       "      <td>4</td>\n",
       "      <td>700150</td>\n",
       "      <td>627</td>\n",
       "      <td>761501.0</td>\n",
       "    </tr>\n",
       "    <tr>\n",
       "      <th>6666</th>\n",
       "      <td>west-bengal</td>\n",
       "      <td>2024</td>\n",
       "      <td>4</td>\n",
       "      <td>700039</td>\n",
       "      <td>619</td>\n",
       "      <td>787836.0</td>\n",
       "    </tr>\n",
       "    <tr>\n",
       "      <th>6667</th>\n",
       "      <td>west-bengal</td>\n",
       "      <td>2024</td>\n",
       "      <td>4</td>\n",
       "      <td>700156</td>\n",
       "      <td>574</td>\n",
       "      <td>888613.0</td>\n",
       "    </tr>\n",
       "  </tbody>\n",
       "</table>\n",
       "<p>6668 rows × 6 columns</p>\n",
       "</div>"
      ],
      "text/plain": [
       "                          state  year  quarter pincode  count    amount\n",
       "0     andaman-&-nicobar-islands  2020        2  744301      3     565.0\n",
       "1     andaman-&-nicobar-islands  2020        2  744104      2     513.0\n",
       "2     andaman-&-nicobar-islands  2020        2  744101      1     282.0\n",
       "3     andaman-&-nicobar-islands  2020        3  744112      9    3432.0\n",
       "4     andaman-&-nicobar-islands  2020        3  744105      7    3948.0\n",
       "...                         ...   ...      ...     ...    ...       ...\n",
       "6663                west-bengal  2024        4  711101    713  750354.0\n",
       "6664                west-bengal  2024        4  700091    642  969634.0\n",
       "6665                west-bengal  2024        4  700150    627  761501.0\n",
       "6666                west-bengal  2024        4  700039    619  787836.0\n",
       "6667                west-bengal  2024        4  700156    574  888613.0\n",
       "\n",
       "[6668 rows x 6 columns]"
      ]
     },
     "execution_count": 22,
     "metadata": {},
     "output_type": "execute_result"
    }
   ],
   "source": [
    "# Root path\n",
    "base_path = \"pulse/data/top/insurance/country/india/state\"\n",
    "\n",
    "# Final data container\n",
    "data_list = []\n",
    "\n",
    "# Traverse each state folder\n",
    "for state in os.listdir(base_path):\n",
    "    state_path = os.path.join(base_path, state)\n",
    "    \n",
    "    # Skip if not a directory\n",
    "    if not os.path.isdir(state_path):\n",
    "        continue\n",
    "\n",
    "    # Traverse each year folder\n",
    "    for year in os.listdir(state_path):\n",
    "        year_path = os.path.join(state_path, year)\n",
    "        \n",
    "        if not os.path.isdir(year_path):\n",
    "            continue\n",
    "\n",
    "        # Traverse each JSON file (quarter)\n",
    "        for file_name in os.listdir(year_path):\n",
    "            if file_name.endswith(\".json\"):\n",
    "                file_path = os.path.join(year_path, file_name)\n",
    "                quarter = int(file_name.replace(\".json\", \"\"))  # e.g., '2.json' -> 2\n",
    "                \n",
    "                # Read the file\n",
    "                with open(file_path, \"r\") as f:\n",
    "                    json_data = json.load(f)\n",
    "\n",
    "                # Extract count and amount\n",
    "                dict = json_data['data']['pincodes']\n",
    "               \n",
    "                for data in dict:    \n",
    "                    pincode = data['entityName']                    \n",
    "                    count = data['metric']['count']\n",
    "                    amount = data['metric']['amount']\n",
    "                    # Append to list\n",
    "                    data_list.append({\n",
    "                        \"state\": state,\n",
    "                        \"year\": int(year),\n",
    "                        \"quarter\": quarter,\n",
    "                        \"pincode\": pincode,\n",
    "                        \"count\": count,\n",
    "                        \"amount\": amount\n",
    "                    })\n",
    "\n",
    "# Convert to DataFrame\n",
    "df = pd.DataFrame(data_list)\n",
    "\n",
    "df.to_csv(\"cleaned_data/top_insurance_pincode.csv\", index= False)\n",
    "\n",
    "df"
   ]
  },
  {
   "cell_type": "markdown",
   "metadata": {},
   "source": [
    "**Top transaction**"
   ]
  },
  {
   "cell_type": "code",
   "execution_count": 21,
   "metadata": {},
   "outputs": [
    {
     "data": {
      "text/plain": [
       "{'states': None,\n",
       " 'districts': [{'entityName': 'lucknow',\n",
       "   'metric': {'type': 'TOTAL',\n",
       "    'count': 79740953,\n",
       "    'amount': 132456458141.91397}},\n",
       "  {'entityName': 'gautam buddha nagar',\n",
       "   'metric': {'type': 'TOTAL',\n",
       "    'count': 58229149,\n",
       "    'amount': 74371363420.47153}},\n",
       "  {'entityName': 'ghaziabad',\n",
       "   'metric': {'type': 'TOTAL',\n",
       "    'count': 30948888,\n",
       "    'amount': 50571013176.64976}},\n",
       "  {'entityName': 'meerut',\n",
       "   'metric': {'type': 'TOTAL',\n",
       "    'count': 17966278,\n",
       "    'amount': 32377627599.030327}},\n",
       "  {'entityName': 'prayagraj',\n",
       "   'metric': {'type': 'TOTAL',\n",
       "    'count': 16566417,\n",
       "    'amount': 28293055160.255882}},\n",
       "  {'entityName': 'kanpur nagar',\n",
       "   'metric': {'type': 'TOTAL',\n",
       "    'count': 14902263,\n",
       "    'amount': 27612832763.662384}},\n",
       "  {'entityName': 'agra',\n",
       "   'metric': {'type': 'TOTAL',\n",
       "    'count': 14010919,\n",
       "    'amount': 26233858697.697464}},\n",
       "  {'entityName': 'varanasi',\n",
       "   'metric': {'type': 'TOTAL',\n",
       "    'count': 13246317,\n",
       "    'amount': 24155800509.84869}},\n",
       "  {'entityName': 'gorakhpur',\n",
       "   'metric': {'type': 'TOTAL',\n",
       "    'count': 10758812,\n",
       "    'amount': 22861881939.64662}},\n",
       "  {'entityName': 'aligarh',\n",
       "   'metric': {'type': 'TOTAL',\n",
       "    'count': 9297702,\n",
       "    'amount': 17226202534.103092}}],\n",
       " 'pincodes': [{'entityName': '226004',\n",
       "   'metric': {'type': 'TOTAL', 'count': 52902770, 'amount': 91187788842.3486}},\n",
       "  {'entityName': '201301',\n",
       "   'metric': {'type': 'TOTAL',\n",
       "    'count': 19346053,\n",
       "    'amount': 25597616522.579697}},\n",
       "  {'entityName': '250001',\n",
       "   'metric': {'type': 'TOTAL',\n",
       "    'count': 10515641,\n",
       "    'amount': 17803919099.629593}},\n",
       "  {'entityName': '201307',\n",
       "   'metric': {'type': 'TOTAL', 'count': 5880421, 'amount': 6890114375.000891}},\n",
       "  {'entityName': '201318',\n",
       "   'metric': {'type': 'TOTAL', 'count': 5596873, 'amount': 7902989227.013297}},\n",
       "  {'entityName': '201009',\n",
       "   'metric': {'type': 'TOTAL', 'count': 5241638, 'amount': 7700103807.717194}},\n",
       "  {'entityName': '201102',\n",
       "   'metric': {'type': 'TOTAL', 'count': 4774119, 'amount': 8400619969.323137}},\n",
       "  {'entityName': '201308',\n",
       "   'metric': {'type': 'TOTAL', 'count': 4453303, 'amount': 5374686911.060018}},\n",
       "  {'entityName': '201304',\n",
       "   'metric': {'type': 'TOTAL', 'count': 4208815, 'amount': 5002058162.368197}},\n",
       "  {'entityName': '247001',\n",
       "   'metric': {'type': 'TOTAL',\n",
       "    'count': 4036667,\n",
       "    'amount': 8074784575.0359955}}]}"
      ]
     },
     "execution_count": 21,
     "metadata": {},
     "output_type": "execute_result"
    }
   ],
   "source": [
    "with open('pulse/data/top/transaction/country/india/state/uttar-pradesh/2022/1.json') as f:\n",
    "    data = json.load(f)\n",
    "\n",
    "data['data']"
   ]
  },
  {
   "cell_type": "markdown",
   "metadata": {},
   "source": [
    "for top transaction district"
   ]
  },
  {
   "cell_type": "code",
   "execution_count": 23,
   "metadata": {},
   "outputs": [
    {
     "data": {
      "text/html": [
       "<div>\n",
       "<style scoped>\n",
       "    .dataframe tbody tr th:only-of-type {\n",
       "        vertical-align: middle;\n",
       "    }\n",
       "\n",
       "    .dataframe tbody tr th {\n",
       "        vertical-align: top;\n",
       "    }\n",
       "\n",
       "    .dataframe thead th {\n",
       "        text-align: right;\n",
       "    }\n",
       "</style>\n",
       "<table border=\"1\" class=\"dataframe\">\n",
       "  <thead>\n",
       "    <tr style=\"text-align: right;\">\n",
       "      <th></th>\n",
       "      <th>state</th>\n",
       "      <th>year</th>\n",
       "      <th>quarter</th>\n",
       "      <th>districtName</th>\n",
       "      <th>count</th>\n",
       "      <th>amount</th>\n",
       "    </tr>\n",
       "  </thead>\n",
       "  <tbody>\n",
       "    <tr>\n",
       "      <th>0</th>\n",
       "      <td>andaman-&amp;-nicobar-islands</td>\n",
       "      <td>2018</td>\n",
       "      <td>1</td>\n",
       "      <td>south andaman</td>\n",
       "      <td>5688</td>\n",
       "      <td>1.256025e+07</td>\n",
       "    </tr>\n",
       "    <tr>\n",
       "      <th>1</th>\n",
       "      <td>andaman-&amp;-nicobar-islands</td>\n",
       "      <td>2018</td>\n",
       "      <td>1</td>\n",
       "      <td>nicobars</td>\n",
       "      <td>528</td>\n",
       "      <td>1.139849e+06</td>\n",
       "    </tr>\n",
       "    <tr>\n",
       "      <th>2</th>\n",
       "      <td>andaman-&amp;-nicobar-islands</td>\n",
       "      <td>2018</td>\n",
       "      <td>1</td>\n",
       "      <td>north and middle andaman</td>\n",
       "      <td>442</td>\n",
       "      <td>9.316631e+05</td>\n",
       "    </tr>\n",
       "    <tr>\n",
       "      <th>3</th>\n",
       "      <td>andaman-&amp;-nicobar-islands</td>\n",
       "      <td>2018</td>\n",
       "      <td>2</td>\n",
       "      <td>south andaman</td>\n",
       "      <td>9395</td>\n",
       "      <td>2.394824e+07</td>\n",
       "    </tr>\n",
       "    <tr>\n",
       "      <th>4</th>\n",
       "      <td>andaman-&amp;-nicobar-islands</td>\n",
       "      <td>2018</td>\n",
       "      <td>2</td>\n",
       "      <td>nicobars</td>\n",
       "      <td>1120</td>\n",
       "      <td>3.072437e+06</td>\n",
       "    </tr>\n",
       "    <tr>\n",
       "      <th>...</th>\n",
       "      <td>...</td>\n",
       "      <td>...</td>\n",
       "      <td>...</td>\n",
       "      <td>...</td>\n",
       "      <td>...</td>\n",
       "      <td>...</td>\n",
       "    </tr>\n",
       "    <tr>\n",
       "      <th>8291</th>\n",
       "      <td>west-bengal</td>\n",
       "      <td>2024</td>\n",
       "      <td>4</td>\n",
       "      <td>howrah</td>\n",
       "      <td>67496284</td>\n",
       "      <td>1.025764e+11</td>\n",
       "    </tr>\n",
       "    <tr>\n",
       "      <th>8292</th>\n",
       "      <td>west-bengal</td>\n",
       "      <td>2024</td>\n",
       "      <td>4</td>\n",
       "      <td>nadia</td>\n",
       "      <td>65274337</td>\n",
       "      <td>1.079320e+11</td>\n",
       "    </tr>\n",
       "    <tr>\n",
       "      <th>8293</th>\n",
       "      <td>west-bengal</td>\n",
       "      <td>2024</td>\n",
       "      <td>4</td>\n",
       "      <td>malda</td>\n",
       "      <td>63424613</td>\n",
       "      <td>1.024212e+11</td>\n",
       "    </tr>\n",
       "    <tr>\n",
       "      <th>8294</th>\n",
       "      <td>west-bengal</td>\n",
       "      <td>2024</td>\n",
       "      <td>4</td>\n",
       "      <td>hooghly</td>\n",
       "      <td>59676576</td>\n",
       "      <td>9.071383e+10</td>\n",
       "    </tr>\n",
       "    <tr>\n",
       "      <th>8295</th>\n",
       "      <td>west-bengal</td>\n",
       "      <td>2024</td>\n",
       "      <td>4</td>\n",
       "      <td>paschim medinipur</td>\n",
       "      <td>58238212</td>\n",
       "      <td>8.431774e+10</td>\n",
       "    </tr>\n",
       "  </tbody>\n",
       "</table>\n",
       "<p>8296 rows × 6 columns</p>\n",
       "</div>"
      ],
      "text/plain": [
       "                          state  year  quarter              districtName  \\\n",
       "0     andaman-&-nicobar-islands  2018        1             south andaman   \n",
       "1     andaman-&-nicobar-islands  2018        1                  nicobars   \n",
       "2     andaman-&-nicobar-islands  2018        1  north and middle andaman   \n",
       "3     andaman-&-nicobar-islands  2018        2             south andaman   \n",
       "4     andaman-&-nicobar-islands  2018        2                  nicobars   \n",
       "...                         ...   ...      ...                       ...   \n",
       "8291                west-bengal  2024        4                    howrah   \n",
       "8292                west-bengal  2024        4                     nadia   \n",
       "8293                west-bengal  2024        4                     malda   \n",
       "8294                west-bengal  2024        4                   hooghly   \n",
       "8295                west-bengal  2024        4         paschim medinipur   \n",
       "\n",
       "         count        amount  \n",
       "0         5688  1.256025e+07  \n",
       "1          528  1.139849e+06  \n",
       "2          442  9.316631e+05  \n",
       "3         9395  2.394824e+07  \n",
       "4         1120  3.072437e+06  \n",
       "...        ...           ...  \n",
       "8291  67496284  1.025764e+11  \n",
       "8292  65274337  1.079320e+11  \n",
       "8293  63424613  1.024212e+11  \n",
       "8294  59676576  9.071383e+10  \n",
       "8295  58238212  8.431774e+10  \n",
       "\n",
       "[8296 rows x 6 columns]"
      ]
     },
     "execution_count": 23,
     "metadata": {},
     "output_type": "execute_result"
    }
   ],
   "source": [
    "# Root path\n",
    "base_path = \"pulse/data/top/transaction/country/india/state\"\n",
    "\n",
    "# Final data container\n",
    "data_list = []\n",
    "\n",
    "# Traverse each state folder\n",
    "for state in os.listdir(base_path):\n",
    "    state_path = os.path.join(base_path, state)\n",
    "    \n",
    "    # Skip if not a directory\n",
    "    if not os.path.isdir(state_path):\n",
    "        continue\n",
    "\n",
    "    # Traverse each year folder\n",
    "    for year in os.listdir(state_path):\n",
    "        year_path = os.path.join(state_path, year)\n",
    "        \n",
    "        if not os.path.isdir(year_path):\n",
    "            continue\n",
    "\n",
    "        # Traverse each JSON file (quarter)\n",
    "        for file_name in os.listdir(year_path):\n",
    "            if file_name.endswith(\".json\"):\n",
    "                file_path = os.path.join(year_path, file_name)\n",
    "                quarter = int(file_name.replace(\".json\", \"\"))  # e.g., '2.json' -> 2\n",
    "                \n",
    "                # Read the file\n",
    "                with open(file_path, \"r\") as f:\n",
    "                    json_data = json.load(f)\n",
    "\n",
    "                # Extract count and amount\n",
    "                dict = json_data['data']['districts']\n",
    "               \n",
    "                for data in dict:    \n",
    "                    district = data['entityName']                    \n",
    "                    count = data['metric']['count']\n",
    "                    amount = round(data['metric']['amount'],2)\n",
    "                    # Append to list\n",
    "                    data_list.append({\n",
    "                        \"state\": state,\n",
    "                        \"year\": int(year),\n",
    "                        \"quarter\": quarter,\n",
    "                        \"districtName\": district,\n",
    "                        \"count\": count,\n",
    "                        \"amount\": amount\n",
    "                    })\n",
    "\n",
    "# Convert to DataFrame\n",
    "df = pd.DataFrame(data_list)\n",
    "\n",
    "df.to_csv(\"cleaned_data/top_transaction_district.csv\", index = False)\n",
    "\n",
    "df"
   ]
  },
  {
   "cell_type": "markdown",
   "metadata": {},
   "source": [
    "for top transaction pincode"
   ]
  },
  {
   "cell_type": "code",
   "execution_count": 24,
   "metadata": {},
   "outputs": [
    {
     "data": {
      "text/html": [
       "<div>\n",
       "<style scoped>\n",
       "    .dataframe tbody tr th:only-of-type {\n",
       "        vertical-align: middle;\n",
       "    }\n",
       "\n",
       "    .dataframe tbody tr th {\n",
       "        vertical-align: top;\n",
       "    }\n",
       "\n",
       "    .dataframe thead th {\n",
       "        text-align: right;\n",
       "    }\n",
       "</style>\n",
       "<table border=\"1\" class=\"dataframe\">\n",
       "  <thead>\n",
       "    <tr style=\"text-align: right;\">\n",
       "      <th></th>\n",
       "      <th>state</th>\n",
       "      <th>year</th>\n",
       "      <th>quarter</th>\n",
       "      <th>pincode</th>\n",
       "      <th>count</th>\n",
       "      <th>amount</th>\n",
       "    </tr>\n",
       "  </thead>\n",
       "  <tbody>\n",
       "    <tr>\n",
       "      <th>0</th>\n",
       "      <td>andaman-&amp;-nicobar-islands</td>\n",
       "      <td>2018</td>\n",
       "      <td>1</td>\n",
       "      <td>744101</td>\n",
       "      <td>1622</td>\n",
       "      <td>2.769298e+06</td>\n",
       "    </tr>\n",
       "    <tr>\n",
       "      <th>1</th>\n",
       "      <td>andaman-&amp;-nicobar-islands</td>\n",
       "      <td>2018</td>\n",
       "      <td>1</td>\n",
       "      <td>744103</td>\n",
       "      <td>1223</td>\n",
       "      <td>2.238042e+06</td>\n",
       "    </tr>\n",
       "    <tr>\n",
       "      <th>2</th>\n",
       "      <td>andaman-&amp;-nicobar-islands</td>\n",
       "      <td>2018</td>\n",
       "      <td>1</td>\n",
       "      <td>744102</td>\n",
       "      <td>969</td>\n",
       "      <td>3.519060e+06</td>\n",
       "    </tr>\n",
       "    <tr>\n",
       "      <th>3</th>\n",
       "      <td>andaman-&amp;-nicobar-islands</td>\n",
       "      <td>2018</td>\n",
       "      <td>1</td>\n",
       "      <td>744105</td>\n",
       "      <td>685</td>\n",
       "      <td>1.298561e+06</td>\n",
       "    </tr>\n",
       "    <tr>\n",
       "      <th>4</th>\n",
       "      <td>andaman-&amp;-nicobar-islands</td>\n",
       "      <td>2018</td>\n",
       "      <td>1</td>\n",
       "      <td>744104</td>\n",
       "      <td>340</td>\n",
       "      <td>1.039715e+06</td>\n",
       "    </tr>\n",
       "    <tr>\n",
       "      <th>...</th>\n",
       "      <td>...</td>\n",
       "      <td>...</td>\n",
       "      <td>...</td>\n",
       "      <td>...</td>\n",
       "      <td>...</td>\n",
       "      <td>...</td>\n",
       "    </tr>\n",
       "    <tr>\n",
       "      <th>9994</th>\n",
       "      <td>west-bengal</td>\n",
       "      <td>2024</td>\n",
       "      <td>4</td>\n",
       "      <td>711101</td>\n",
       "      <td>6753348</td>\n",
       "      <td>1.049483e+10</td>\n",
       "    </tr>\n",
       "    <tr>\n",
       "      <th>9995</th>\n",
       "      <td>west-bengal</td>\n",
       "      <td>2024</td>\n",
       "      <td>4</td>\n",
       "      <td>700059</td>\n",
       "      <td>6662715</td>\n",
       "      <td>8.009476e+09</td>\n",
       "    </tr>\n",
       "    <tr>\n",
       "      <th>9996</th>\n",
       "      <td>west-bengal</td>\n",
       "      <td>2024</td>\n",
       "      <td>4</td>\n",
       "      <td>700039</td>\n",
       "      <td>6575693</td>\n",
       "      <td>9.018748e+09</td>\n",
       "    </tr>\n",
       "    <tr>\n",
       "      <th>9997</th>\n",
       "      <td>west-bengal</td>\n",
       "      <td>2024</td>\n",
       "      <td>4</td>\n",
       "      <td>734001</td>\n",
       "      <td>6432082</td>\n",
       "      <td>8.996529e+09</td>\n",
       "    </tr>\n",
       "    <tr>\n",
       "      <th>9998</th>\n",
       "      <td>west-bengal</td>\n",
       "      <td>2024</td>\n",
       "      <td>4</td>\n",
       "      <td>733134</td>\n",
       "      <td>6313560</td>\n",
       "      <td>1.050259e+10</td>\n",
       "    </tr>\n",
       "  </tbody>\n",
       "</table>\n",
       "<p>9999 rows × 6 columns</p>\n",
       "</div>"
      ],
      "text/plain": [
       "                          state  year  quarter pincode    count        amount\n",
       "0     andaman-&-nicobar-islands  2018        1  744101     1622  2.769298e+06\n",
       "1     andaman-&-nicobar-islands  2018        1  744103     1223  2.238042e+06\n",
       "2     andaman-&-nicobar-islands  2018        1  744102      969  3.519060e+06\n",
       "3     andaman-&-nicobar-islands  2018        1  744105      685  1.298561e+06\n",
       "4     andaman-&-nicobar-islands  2018        1  744104      340  1.039715e+06\n",
       "...                         ...   ...      ...     ...      ...           ...\n",
       "9994                west-bengal  2024        4  711101  6753348  1.049483e+10\n",
       "9995                west-bengal  2024        4  700059  6662715  8.009476e+09\n",
       "9996                west-bengal  2024        4  700039  6575693  9.018748e+09\n",
       "9997                west-bengal  2024        4  734001  6432082  8.996529e+09\n",
       "9998                west-bengal  2024        4  733134  6313560  1.050259e+10\n",
       "\n",
       "[9999 rows x 6 columns]"
      ]
     },
     "execution_count": 24,
     "metadata": {},
     "output_type": "execute_result"
    }
   ],
   "source": [
    "# Root path\n",
    "base_path = \"pulse/data/top/transaction/country/india/state\"\n",
    "\n",
    "# Final data container\n",
    "data_list = []\n",
    "\n",
    "# Traverse each state folder\n",
    "for state in os.listdir(base_path):\n",
    "    state_path = os.path.join(base_path, state)\n",
    "    \n",
    "    # Skip if not a directory\n",
    "    if not os.path.isdir(state_path):\n",
    "        continue\n",
    "\n",
    "    # Traverse each year folder\n",
    "    for year in os.listdir(state_path):\n",
    "        year_path = os.path.join(state_path, year)\n",
    "        \n",
    "        if not os.path.isdir(year_path):\n",
    "            continue\n",
    "\n",
    "        # Traverse each JSON file (quarter)\n",
    "        for file_name in os.listdir(year_path):\n",
    "            if file_name.endswith(\".json\"):\n",
    "                file_path = os.path.join(year_path, file_name)\n",
    "                quarter = int(file_name.replace(\".json\", \"\"))  # e.g., '2.json' -> 2\n",
    "                \n",
    "                # Read the file\n",
    "                with open(file_path, \"r\") as f:\n",
    "                    json_data = json.load(f)\n",
    "\n",
    "                # Extract count and amount\n",
    "                dict = json_data['data']['pincodes']\n",
    "               \n",
    "                for data in dict:    \n",
    "                    pincode = data['entityName']                    \n",
    "                    count = data['metric']['count']\n",
    "                    amount = round(data['metric']['amount'],2)\n",
    "                    # Append to list\n",
    "                    data_list.append({\n",
    "                        \"state\": state,\n",
    "                        \"year\": int(year),\n",
    "                        \"quarter\": quarter,\n",
    "                        \"pincode\": pincode,\n",
    "                        \"count\": count,\n",
    "                        \"amount\": amount\n",
    "                    })\n",
    "\n",
    "# Convert to DataFrame\n",
    "df = pd.DataFrame(data_list)\n",
    "\n",
    "df.to_csv(\"cleaned_data/top_transaction_pincode.csv\", index = False)\n",
    "\n",
    "df"
   ]
  },
  {
   "cell_type": "markdown",
   "metadata": {},
   "source": [
    "**Top user**"
   ]
  },
  {
   "cell_type": "code",
   "execution_count": 39,
   "metadata": {},
   "outputs": [
    {
     "data": {
      "text/plain": [
       "[{'name': '201301', 'registeredUsers': 698600},\n",
       " {'name': '201009', 'registeredUsers': 385906},\n",
       " {'name': '201102', 'registeredUsers': 342842},\n",
       " {'name': '201307', 'registeredUsers': 312146},\n",
       " {'name': '201318', 'registeredUsers': 295067},\n",
       " {'name': '250001', 'registeredUsers': 282898},\n",
       " {'name': '247001', 'registeredUsers': 281578},\n",
       " {'name': '211002', 'registeredUsers': 269413},\n",
       " {'name': '244001', 'registeredUsers': 256505},\n",
       " {'name': '202001', 'registeredUsers': 249614}]"
      ]
     },
     "execution_count": 39,
     "metadata": {},
     "output_type": "execute_result"
    }
   ],
   "source": [
    "with open('pulse/data/top/user/country/india/state/uttar-pradesh/2022/1.json') as f:\n",
    "    data = json.load(f)\n",
    "\n",
    "data['data']['pincodes']"
   ]
  },
  {
   "cell_type": "code",
   "execution_count": 25,
   "metadata": {},
   "outputs": [
    {
     "data": {
      "text/html": [
       "<div>\n",
       "<style scoped>\n",
       "    .dataframe tbody tr th:only-of-type {\n",
       "        vertical-align: middle;\n",
       "    }\n",
       "\n",
       "    .dataframe tbody tr th {\n",
       "        vertical-align: top;\n",
       "    }\n",
       "\n",
       "    .dataframe thead th {\n",
       "        text-align: right;\n",
       "    }\n",
       "</style>\n",
       "<table border=\"1\" class=\"dataframe\">\n",
       "  <thead>\n",
       "    <tr style=\"text-align: right;\">\n",
       "      <th></th>\n",
       "      <th>state</th>\n",
       "      <th>year</th>\n",
       "      <th>quarter</th>\n",
       "      <th>districtName</th>\n",
       "      <th>registeredUsers</th>\n",
       "    </tr>\n",
       "  </thead>\n",
       "  <tbody>\n",
       "    <tr>\n",
       "      <th>0</th>\n",
       "      <td>andaman-&amp;-nicobar-islands</td>\n",
       "      <td>2018</td>\n",
       "      <td>1</td>\n",
       "      <td>south andaman</td>\n",
       "      <td>5846</td>\n",
       "    </tr>\n",
       "    <tr>\n",
       "      <th>1</th>\n",
       "      <td>andaman-&amp;-nicobar-islands</td>\n",
       "      <td>2018</td>\n",
       "      <td>1</td>\n",
       "      <td>north and middle andaman</td>\n",
       "      <td>632</td>\n",
       "    </tr>\n",
       "    <tr>\n",
       "      <th>2</th>\n",
       "      <td>andaman-&amp;-nicobar-islands</td>\n",
       "      <td>2018</td>\n",
       "      <td>1</td>\n",
       "      <td>nicobars</td>\n",
       "      <td>262</td>\n",
       "    </tr>\n",
       "    <tr>\n",
       "      <th>3</th>\n",
       "      <td>andaman-&amp;-nicobar-islands</td>\n",
       "      <td>2018</td>\n",
       "      <td>2</td>\n",
       "      <td>south andaman</td>\n",
       "      <td>8143</td>\n",
       "    </tr>\n",
       "    <tr>\n",
       "      <th>4</th>\n",
       "      <td>andaman-&amp;-nicobar-islands</td>\n",
       "      <td>2018</td>\n",
       "      <td>2</td>\n",
       "      <td>north and middle andaman</td>\n",
       "      <td>911</td>\n",
       "    </tr>\n",
       "    <tr>\n",
       "      <th>...</th>\n",
       "      <td>...</td>\n",
       "      <td>...</td>\n",
       "      <td>...</td>\n",
       "      <td>...</td>\n",
       "      <td>...</td>\n",
       "    </tr>\n",
       "    <tr>\n",
       "      <th>8291</th>\n",
       "      <td>west-bengal</td>\n",
       "      <td>2024</td>\n",
       "      <td>4</td>\n",
       "      <td>hooghly</td>\n",
       "      <td>1957356</td>\n",
       "    </tr>\n",
       "    <tr>\n",
       "      <th>8292</th>\n",
       "      <td>west-bengal</td>\n",
       "      <td>2024</td>\n",
       "      <td>4</td>\n",
       "      <td>nadia</td>\n",
       "      <td>1861738</td>\n",
       "    </tr>\n",
       "    <tr>\n",
       "      <th>8293</th>\n",
       "      <td>west-bengal</td>\n",
       "      <td>2024</td>\n",
       "      <td>4</td>\n",
       "      <td>purba medinipur</td>\n",
       "      <td>1717074</td>\n",
       "    </tr>\n",
       "    <tr>\n",
       "      <th>8294</th>\n",
       "      <td>west-bengal</td>\n",
       "      <td>2024</td>\n",
       "      <td>4</td>\n",
       "      <td>paschim medinipur</td>\n",
       "      <td>1522845</td>\n",
       "    </tr>\n",
       "    <tr>\n",
       "      <th>8295</th>\n",
       "      <td>west-bengal</td>\n",
       "      <td>2024</td>\n",
       "      <td>4</td>\n",
       "      <td>paschim bardhaman</td>\n",
       "      <td>1468252</td>\n",
       "    </tr>\n",
       "  </tbody>\n",
       "</table>\n",
       "<p>8296 rows × 5 columns</p>\n",
       "</div>"
      ],
      "text/plain": [
       "                          state  year  quarter              districtName  \\\n",
       "0     andaman-&-nicobar-islands  2018        1             south andaman   \n",
       "1     andaman-&-nicobar-islands  2018        1  north and middle andaman   \n",
       "2     andaman-&-nicobar-islands  2018        1                  nicobars   \n",
       "3     andaman-&-nicobar-islands  2018        2             south andaman   \n",
       "4     andaman-&-nicobar-islands  2018        2  north and middle andaman   \n",
       "...                         ...   ...      ...                       ...   \n",
       "8291                west-bengal  2024        4                   hooghly   \n",
       "8292                west-bengal  2024        4                     nadia   \n",
       "8293                west-bengal  2024        4           purba medinipur   \n",
       "8294                west-bengal  2024        4         paschim medinipur   \n",
       "8295                west-bengal  2024        4         paschim bardhaman   \n",
       "\n",
       "      registeredUsers  \n",
       "0                5846  \n",
       "1                 632  \n",
       "2                 262  \n",
       "3                8143  \n",
       "4                 911  \n",
       "...               ...  \n",
       "8291          1957356  \n",
       "8292          1861738  \n",
       "8293          1717074  \n",
       "8294          1522845  \n",
       "8295          1468252  \n",
       "\n",
       "[8296 rows x 5 columns]"
      ]
     },
     "execution_count": 25,
     "metadata": {},
     "output_type": "execute_result"
    }
   ],
   "source": [
    "# Root path\n",
    "base_path = \"pulse/data/top/user/country/india/state\"\n",
    "\n",
    "# Final data container\n",
    "data_list = []\n",
    "\n",
    "# Traverse each state folder\n",
    "for state in os.listdir(base_path):\n",
    "    state_path = os.path.join(base_path, state)\n",
    "    \n",
    "    # Skip if not a directory\n",
    "    if not os.path.isdir(state_path):\n",
    "        continue\n",
    "\n",
    "    # Traverse each year folder\n",
    "    for year in os.listdir(state_path):\n",
    "        year_path = os.path.join(state_path, year)\n",
    "        \n",
    "        if not os.path.isdir(year_path):\n",
    "            continue\n",
    "\n",
    "        # Traverse each JSON file (quarter)\n",
    "        for file_name in os.listdir(year_path):\n",
    "            if file_name.endswith(\".json\"):\n",
    "                file_path = os.path.join(year_path, file_name)\n",
    "                quarter = int(file_name.replace(\".json\", \"\"))  # e.g., '2.json' -> 2\n",
    "                \n",
    "                # Read the file\n",
    "                with open(file_path, \"r\") as f:\n",
    "                    json_data = json.load(f)\n",
    "\n",
    "                # Extract count and amount\n",
    "                dict = json_data['data']['districts']\n",
    "               \n",
    "                for data in dict:    \n",
    "                    district = data['name']        \n",
    "                    registeredUsers = data['registeredUsers']          \n",
    "                    \n",
    "                    # Append to list\n",
    "                    data_list.append({\n",
    "                        \"state\": state,\n",
    "                        \"year\": int(year),\n",
    "                        \"quarter\": quarter,\n",
    "                        \"districtName\": district,\n",
    "                        \"registeredUsers\": registeredUsers\n",
    "                    })\n",
    "\n",
    "# Convert to DataFrame\n",
    "df = pd.DataFrame(data_list)\n",
    "\n",
    "df.to_csv(\"cleaned_data/top_user_district.csv\", index=False)\n",
    "\n",
    "df"
   ]
  },
  {
   "cell_type": "markdown",
   "metadata": {},
   "source": [
    "for top user pincodes"
   ]
  },
  {
   "cell_type": "code",
   "execution_count": 26,
   "metadata": {},
   "outputs": [
    {
     "data": {
      "text/html": [
       "<div>\n",
       "<style scoped>\n",
       "    .dataframe tbody tr th:only-of-type {\n",
       "        vertical-align: middle;\n",
       "    }\n",
       "\n",
       "    .dataframe tbody tr th {\n",
       "        vertical-align: top;\n",
       "    }\n",
       "\n",
       "    .dataframe thead th {\n",
       "        text-align: right;\n",
       "    }\n",
       "</style>\n",
       "<table border=\"1\" class=\"dataframe\">\n",
       "  <thead>\n",
       "    <tr style=\"text-align: right;\">\n",
       "      <th></th>\n",
       "      <th>state</th>\n",
       "      <th>year</th>\n",
       "      <th>quarter</th>\n",
       "      <th>pincode</th>\n",
       "      <th>registeredUsers</th>\n",
       "    </tr>\n",
       "  </thead>\n",
       "  <tbody>\n",
       "    <tr>\n",
       "      <th>0</th>\n",
       "      <td>andaman-&amp;-nicobar-islands</td>\n",
       "      <td>2018</td>\n",
       "      <td>1</td>\n",
       "      <td>744103</td>\n",
       "      <td>1608</td>\n",
       "    </tr>\n",
       "    <tr>\n",
       "      <th>1</th>\n",
       "      <td>andaman-&amp;-nicobar-islands</td>\n",
       "      <td>2018</td>\n",
       "      <td>1</td>\n",
       "      <td>744101</td>\n",
       "      <td>1108</td>\n",
       "    </tr>\n",
       "    <tr>\n",
       "      <th>2</th>\n",
       "      <td>andaman-&amp;-nicobar-islands</td>\n",
       "      <td>2018</td>\n",
       "      <td>1</td>\n",
       "      <td>744105</td>\n",
       "      <td>1075</td>\n",
       "    </tr>\n",
       "    <tr>\n",
       "      <th>3</th>\n",
       "      <td>andaman-&amp;-nicobar-islands</td>\n",
       "      <td>2018</td>\n",
       "      <td>1</td>\n",
       "      <td>744102</td>\n",
       "      <td>1006</td>\n",
       "    </tr>\n",
       "    <tr>\n",
       "      <th>4</th>\n",
       "      <td>andaman-&amp;-nicobar-islands</td>\n",
       "      <td>2018</td>\n",
       "      <td>1</td>\n",
       "      <td>744104</td>\n",
       "      <td>272</td>\n",
       "    </tr>\n",
       "    <tr>\n",
       "      <th>...</th>\n",
       "      <td>...</td>\n",
       "      <td>...</td>\n",
       "      <td>...</td>\n",
       "      <td>...</td>\n",
       "      <td>...</td>\n",
       "    </tr>\n",
       "    <tr>\n",
       "      <th>9995</th>\n",
       "      <td>west-bengal</td>\n",
       "      <td>2024</td>\n",
       "      <td>4</td>\n",
       "      <td>733134</td>\n",
       "      <td>169596</td>\n",
       "    </tr>\n",
       "    <tr>\n",
       "      <th>9996</th>\n",
       "      <td>west-bengal</td>\n",
       "      <td>2024</td>\n",
       "      <td>4</td>\n",
       "      <td>700059</td>\n",
       "      <td>169448</td>\n",
       "    </tr>\n",
       "    <tr>\n",
       "      <th>9997</th>\n",
       "      <td>west-bengal</td>\n",
       "      <td>2024</td>\n",
       "      <td>4</td>\n",
       "      <td>711302</td>\n",
       "      <td>146034</td>\n",
       "    </tr>\n",
       "    <tr>\n",
       "      <th>9998</th>\n",
       "      <td>west-bengal</td>\n",
       "      <td>2024</td>\n",
       "      <td>4</td>\n",
       "      <td>700150</td>\n",
       "      <td>142151</td>\n",
       "    </tr>\n",
       "    <tr>\n",
       "      <th>9999</th>\n",
       "      <td>west-bengal</td>\n",
       "      <td>2024</td>\n",
       "      <td>4</td>\n",
       "      <td>711106</td>\n",
       "      <td>142077</td>\n",
       "    </tr>\n",
       "  </tbody>\n",
       "</table>\n",
       "<p>10000 rows × 5 columns</p>\n",
       "</div>"
      ],
      "text/plain": [
       "                          state  year  quarter pincode  registeredUsers\n",
       "0     andaman-&-nicobar-islands  2018        1  744103             1608\n",
       "1     andaman-&-nicobar-islands  2018        1  744101             1108\n",
       "2     andaman-&-nicobar-islands  2018        1  744105             1075\n",
       "3     andaman-&-nicobar-islands  2018        1  744102             1006\n",
       "4     andaman-&-nicobar-islands  2018        1  744104              272\n",
       "...                         ...   ...      ...     ...              ...\n",
       "9995                west-bengal  2024        4  733134           169596\n",
       "9996                west-bengal  2024        4  700059           169448\n",
       "9997                west-bengal  2024        4  711302           146034\n",
       "9998                west-bengal  2024        4  700150           142151\n",
       "9999                west-bengal  2024        4  711106           142077\n",
       "\n",
       "[10000 rows x 5 columns]"
      ]
     },
     "execution_count": 26,
     "metadata": {},
     "output_type": "execute_result"
    }
   ],
   "source": [
    "# Root path\n",
    "base_path = \"pulse/data/top/user/country/india/state\"\n",
    "\n",
    "# Final data container\n",
    "data_list = []\n",
    "\n",
    "# Traverse each state folder\n",
    "for state in os.listdir(base_path):\n",
    "    state_path = os.path.join(base_path, state)\n",
    "    \n",
    "    # Skip if not a directory\n",
    "    if not os.path.isdir(state_path):\n",
    "        continue\n",
    "\n",
    "    # Traverse each year folder\n",
    "    for year in os.listdir(state_path):\n",
    "        year_path = os.path.join(state_path, year)\n",
    "        \n",
    "        if not os.path.isdir(year_path):\n",
    "            continue\n",
    "\n",
    "        # Traverse each JSON file (quarter)\n",
    "        for file_name in os.listdir(year_path):\n",
    "            if file_name.endswith(\".json\"):\n",
    "                file_path = os.path.join(year_path, file_name)\n",
    "                quarter = int(file_name.replace(\".json\", \"\"))  # e.g., '2.json' -> 2\n",
    "                \n",
    "                # Read the file\n",
    "                with open(file_path, \"r\") as f:\n",
    "                    json_data = json.load(f)\n",
    "\n",
    "                # Extract count and amount\n",
    "                dict = json_data['data']['pincodes']\n",
    "               \n",
    "                for data in dict:    \n",
    "                    pincode = data['name']        \n",
    "                    registeredUsers = data['registeredUsers']          \n",
    "                    \n",
    "                    # Append to list\n",
    "                    data_list.append({\n",
    "                        \"state\": state,\n",
    "                        \"year\": int(year),\n",
    "                        \"quarter\": quarter,\n",
    "                        \"pincode\": pincode,\n",
    "                        \"registeredUsers\":registeredUsers\n",
    "                    })\n",
    "\n",
    "# Convert to DataFrame\n",
    "df = pd.DataFrame(data_list)\n",
    "\n",
    "df.to_csv(\"cleaned_data/top_user_pincode.csv\", index = False)\n",
    "\n",
    "df"
   ]
  },
  {
   "cell_type": "markdown",
   "metadata": {},
   "source": [
    "# Visualizations"
   ]
  },
  {
   "cell_type": "code",
   "execution_count": null,
   "metadata": {},
   "outputs": [],
   "source": [
    "%pip install plotly\n",
    "%pip install nbformat\n",
    "%pip install -U kaleido"
   ]
  },
  {
   "cell_type": "code",
   "execution_count": 7,
   "metadata": {},
   "outputs": [
    {
     "data": {
      "text/plain": [
       "['state                             ',\n",
       " ' year',\n",
       " ' quarter',\n",
       " ' count ',\n",
       " ' amount']"
      ]
     },
     "execution_count": 7,
     "metadata": {},
     "output_type": "execute_result"
    }
   ],
   "source": [
    "df = pd.read_csv(\"cleaned_data\\\\aggregated_insurance.csv\")\n",
    "df.columns.tolist()"
   ]
  },
  {
   "cell_type": "code",
   "execution_count": 13,
   "metadata": {},
   "outputs": [
    {
     "data": {
      "text/plain": [
       "Index(['state', 'year', 'quarter', 'count', 'amount'], dtype='object')"
      ]
     },
     "execution_count": 13,
     "metadata": {},
     "output_type": "execute_result"
    }
   ],
   "source": [
    "df.columns = df.columns.str.strip().str.lower()\n",
    "df.columns"
   ]
  },
  {
   "cell_type": "code",
   "execution_count": 2,
   "metadata": {},
   "outputs": [
    {
     "data": {
      "application/vnd.plotly.v1+json": {
       "config": {
        "plotlyServerURL": "https://plot.ly"
       },
       "data": [
        {
         "hovertemplate": "state=%{x}<br>mean_count=%{y}<extra></extra>",
         "legendgroup": "",
         "line": {
          "color": "#636efa",
          "dash": "solid"
         },
         "marker": {
          "symbol": "circle"
         },
         "mode": "lines+markers",
         "name": "",
         "orientation": "v",
         "showlegend": false,
         "type": "scatter",
         "x": [
          "karnataka                         ",
          "maharashtra                       ",
          "tamil-nadu                        ",
          "uttar-pradesh                     ",
          "telangana                         ",
          "west-bengal                       ",
          "kerala                            ",
          "andhra-pradesh                    ",
          "delhi                             ",
          "rajasthan                         ",
          "haryana                           ",
          "gujarat                           ",
          "bihar                             ",
          "madhya-pradesh                    ",
          "odisha                            ",
          "assam                             ",
          "jharkhand                         ",
          "chhattisgarh                      ",
          "punjab                            ",
          "uttarakhand                       ",
          "jammu-&-kashmir                   ",
          "himachal-pradesh                  ",
          "goa                               ",
          "puducherry                        ",
          "tripura                           ",
          "chandigarh                        ",
          "dadra-&-nagar-haveli-&-daman-&-diu",
          "andaman-&-nicobar-islands         ",
          "meghalaya                         ",
          "arunachal-pradesh                 ",
          "sikkim                            ",
          "nagaland                          ",
          "manipur                           ",
          "mizoram                           ",
          "ladakh                            ",
          "lakshadweep                       "
         ],
         "xaxis": "x",
         "y": {
          "bdata": "eQ3lNdQm+UCivIbyKlT3QOU1lNcwO+9AUV5DeW1G7UB5DeU11PvmQOU1lNdwlOVA2FBeQ5ku5UBDeQ3lle7hQKK8hvLaxOBAr6G8hnJw4EAbymsoL33dQOU1lNeQ6txAh/IaymuU20CU11BeQwrZQHkN5TVUYtBAlNdQXkMEy0A2lNdQ3s/KQL2G8hpKe8NAymsoryGBwkAAAAAAAJK5QAAAAAAAHbBAQ3kN5TVoqUDlNZTXUJ6oQKK8hvIa+pZAeQ3lNZS3lEBDeQ3lNSiSQPMaymsor4ZAh/IaymtghUDKayivoTSBQMprKK+hzIBAr6G8hvIacEB5DeU1lDdvQL2G8hrKi2hAAAAAAACAaEBeQ3kN5fVlQK+hvIbyGjpA",
          "dtype": "f8"
         },
         "yaxis": "y"
        }
       ],
       "layout": {
        "legend": {
         "tracegroupgap": 0
        },
        "template": {
         "data": {
          "bar": [
           {
            "error_x": {
             "color": "#f2f5fa"
            },
            "error_y": {
             "color": "#f2f5fa"
            },
            "marker": {
             "line": {
              "color": "rgb(17,17,17)",
              "width": 0.5
             },
             "pattern": {
              "fillmode": "overlay",
              "size": 10,
              "solidity": 0.2
             }
            },
            "type": "bar"
           }
          ],
          "barpolar": [
           {
            "marker": {
             "line": {
              "color": "rgb(17,17,17)",
              "width": 0.5
             },
             "pattern": {
              "fillmode": "overlay",
              "size": 10,
              "solidity": 0.2
             }
            },
            "type": "barpolar"
           }
          ],
          "carpet": [
           {
            "aaxis": {
             "endlinecolor": "#A2B1C6",
             "gridcolor": "#506784",
             "linecolor": "#506784",
             "minorgridcolor": "#506784",
             "startlinecolor": "#A2B1C6"
            },
            "baxis": {
             "endlinecolor": "#A2B1C6",
             "gridcolor": "#506784",
             "linecolor": "#506784",
             "minorgridcolor": "#506784",
             "startlinecolor": "#A2B1C6"
            },
            "type": "carpet"
           }
          ],
          "choropleth": [
           {
            "colorbar": {
             "outlinewidth": 0,
             "ticks": ""
            },
            "type": "choropleth"
           }
          ],
          "contour": [
           {
            "colorbar": {
             "outlinewidth": 0,
             "ticks": ""
            },
            "colorscale": [
             [
              0,
              "#0d0887"
             ],
             [
              0.1111111111111111,
              "#46039f"
             ],
             [
              0.2222222222222222,
              "#7201a8"
             ],
             [
              0.3333333333333333,
              "#9c179e"
             ],
             [
              0.4444444444444444,
              "#bd3786"
             ],
             [
              0.5555555555555556,
              "#d8576b"
             ],
             [
              0.6666666666666666,
              "#ed7953"
             ],
             [
              0.7777777777777778,
              "#fb9f3a"
             ],
             [
              0.8888888888888888,
              "#fdca26"
             ],
             [
              1,
              "#f0f921"
             ]
            ],
            "type": "contour"
           }
          ],
          "contourcarpet": [
           {
            "colorbar": {
             "outlinewidth": 0,
             "ticks": ""
            },
            "type": "contourcarpet"
           }
          ],
          "heatmap": [
           {
            "colorbar": {
             "outlinewidth": 0,
             "ticks": ""
            },
            "colorscale": [
             [
              0,
              "#0d0887"
             ],
             [
              0.1111111111111111,
              "#46039f"
             ],
             [
              0.2222222222222222,
              "#7201a8"
             ],
             [
              0.3333333333333333,
              "#9c179e"
             ],
             [
              0.4444444444444444,
              "#bd3786"
             ],
             [
              0.5555555555555556,
              "#d8576b"
             ],
             [
              0.6666666666666666,
              "#ed7953"
             ],
             [
              0.7777777777777778,
              "#fb9f3a"
             ],
             [
              0.8888888888888888,
              "#fdca26"
             ],
             [
              1,
              "#f0f921"
             ]
            ],
            "type": "heatmap"
           }
          ],
          "histogram": [
           {
            "marker": {
             "pattern": {
              "fillmode": "overlay",
              "size": 10,
              "solidity": 0.2
             }
            },
            "type": "histogram"
           }
          ],
          "histogram2d": [
           {
            "colorbar": {
             "outlinewidth": 0,
             "ticks": ""
            },
            "colorscale": [
             [
              0,
              "#0d0887"
             ],
             [
              0.1111111111111111,
              "#46039f"
             ],
             [
              0.2222222222222222,
              "#7201a8"
             ],
             [
              0.3333333333333333,
              "#9c179e"
             ],
             [
              0.4444444444444444,
              "#bd3786"
             ],
             [
              0.5555555555555556,
              "#d8576b"
             ],
             [
              0.6666666666666666,
              "#ed7953"
             ],
             [
              0.7777777777777778,
              "#fb9f3a"
             ],
             [
              0.8888888888888888,
              "#fdca26"
             ],
             [
              1,
              "#f0f921"
             ]
            ],
            "type": "histogram2d"
           }
          ],
          "histogram2dcontour": [
           {
            "colorbar": {
             "outlinewidth": 0,
             "ticks": ""
            },
            "colorscale": [
             [
              0,
              "#0d0887"
             ],
             [
              0.1111111111111111,
              "#46039f"
             ],
             [
              0.2222222222222222,
              "#7201a8"
             ],
             [
              0.3333333333333333,
              "#9c179e"
             ],
             [
              0.4444444444444444,
              "#bd3786"
             ],
             [
              0.5555555555555556,
              "#d8576b"
             ],
             [
              0.6666666666666666,
              "#ed7953"
             ],
             [
              0.7777777777777778,
              "#fb9f3a"
             ],
             [
              0.8888888888888888,
              "#fdca26"
             ],
             [
              1,
              "#f0f921"
             ]
            ],
            "type": "histogram2dcontour"
           }
          ],
          "mesh3d": [
           {
            "colorbar": {
             "outlinewidth": 0,
             "ticks": ""
            },
            "type": "mesh3d"
           }
          ],
          "parcoords": [
           {
            "line": {
             "colorbar": {
              "outlinewidth": 0,
              "ticks": ""
             }
            },
            "type": "parcoords"
           }
          ],
          "pie": [
           {
            "automargin": true,
            "type": "pie"
           }
          ],
          "scatter": [
           {
            "marker": {
             "line": {
              "color": "#283442"
             }
            },
            "type": "scatter"
           }
          ],
          "scatter3d": [
           {
            "line": {
             "colorbar": {
              "outlinewidth": 0,
              "ticks": ""
             }
            },
            "marker": {
             "colorbar": {
              "outlinewidth": 0,
              "ticks": ""
             }
            },
            "type": "scatter3d"
           }
          ],
          "scattercarpet": [
           {
            "marker": {
             "colorbar": {
              "outlinewidth": 0,
              "ticks": ""
             }
            },
            "type": "scattercarpet"
           }
          ],
          "scattergeo": [
           {
            "marker": {
             "colorbar": {
              "outlinewidth": 0,
              "ticks": ""
             }
            },
            "type": "scattergeo"
           }
          ],
          "scattergl": [
           {
            "marker": {
             "line": {
              "color": "#283442"
             }
            },
            "type": "scattergl"
           }
          ],
          "scattermap": [
           {
            "marker": {
             "colorbar": {
              "outlinewidth": 0,
              "ticks": ""
             }
            },
            "type": "scattermap"
           }
          ],
          "scattermapbox": [
           {
            "marker": {
             "colorbar": {
              "outlinewidth": 0,
              "ticks": ""
             }
            },
            "type": "scattermapbox"
           }
          ],
          "scatterpolar": [
           {
            "marker": {
             "colorbar": {
              "outlinewidth": 0,
              "ticks": ""
             }
            },
            "type": "scatterpolar"
           }
          ],
          "scatterpolargl": [
           {
            "marker": {
             "colorbar": {
              "outlinewidth": 0,
              "ticks": ""
             }
            },
            "type": "scatterpolargl"
           }
          ],
          "scatterternary": [
           {
            "marker": {
             "colorbar": {
              "outlinewidth": 0,
              "ticks": ""
             }
            },
            "type": "scatterternary"
           }
          ],
          "surface": [
           {
            "colorbar": {
             "outlinewidth": 0,
             "ticks": ""
            },
            "colorscale": [
             [
              0,
              "#0d0887"
             ],
             [
              0.1111111111111111,
              "#46039f"
             ],
             [
              0.2222222222222222,
              "#7201a8"
             ],
             [
              0.3333333333333333,
              "#9c179e"
             ],
             [
              0.4444444444444444,
              "#bd3786"
             ],
             [
              0.5555555555555556,
              "#d8576b"
             ],
             [
              0.6666666666666666,
              "#ed7953"
             ],
             [
              0.7777777777777778,
              "#fb9f3a"
             ],
             [
              0.8888888888888888,
              "#fdca26"
             ],
             [
              1,
              "#f0f921"
             ]
            ],
            "type": "surface"
           }
          ],
          "table": [
           {
            "cells": {
             "fill": {
              "color": "#506784"
             },
             "line": {
              "color": "rgb(17,17,17)"
             }
            },
            "header": {
             "fill": {
              "color": "#2a3f5f"
             },
             "line": {
              "color": "rgb(17,17,17)"
             }
            },
            "type": "table"
           }
          ]
         },
         "layout": {
          "annotationdefaults": {
           "arrowcolor": "#f2f5fa",
           "arrowhead": 0,
           "arrowwidth": 1
          },
          "autotypenumbers": "strict",
          "coloraxis": {
           "colorbar": {
            "outlinewidth": 0,
            "ticks": ""
           }
          },
          "colorscale": {
           "diverging": [
            [
             0,
             "#8e0152"
            ],
            [
             0.1,
             "#c51b7d"
            ],
            [
             0.2,
             "#de77ae"
            ],
            [
             0.3,
             "#f1b6da"
            ],
            [
             0.4,
             "#fde0ef"
            ],
            [
             0.5,
             "#f7f7f7"
            ],
            [
             0.6,
             "#e6f5d0"
            ],
            [
             0.7,
             "#b8e186"
            ],
            [
             0.8,
             "#7fbc41"
            ],
            [
             0.9,
             "#4d9221"
            ],
            [
             1,
             "#276419"
            ]
           ],
           "sequential": [
            [
             0,
             "#0d0887"
            ],
            [
             0.1111111111111111,
             "#46039f"
            ],
            [
             0.2222222222222222,
             "#7201a8"
            ],
            [
             0.3333333333333333,
             "#9c179e"
            ],
            [
             0.4444444444444444,
             "#bd3786"
            ],
            [
             0.5555555555555556,
             "#d8576b"
            ],
            [
             0.6666666666666666,
             "#ed7953"
            ],
            [
             0.7777777777777778,
             "#fb9f3a"
            ],
            [
             0.8888888888888888,
             "#fdca26"
            ],
            [
             1,
             "#f0f921"
            ]
           ],
           "sequentialminus": [
            [
             0,
             "#0d0887"
            ],
            [
             0.1111111111111111,
             "#46039f"
            ],
            [
             0.2222222222222222,
             "#7201a8"
            ],
            [
             0.3333333333333333,
             "#9c179e"
            ],
            [
             0.4444444444444444,
             "#bd3786"
            ],
            [
             0.5555555555555556,
             "#d8576b"
            ],
            [
             0.6666666666666666,
             "#ed7953"
            ],
            [
             0.7777777777777778,
             "#fb9f3a"
            ],
            [
             0.8888888888888888,
             "#fdca26"
            ],
            [
             1,
             "#f0f921"
            ]
           ]
          },
          "colorway": [
           "#636efa",
           "#EF553B",
           "#00cc96",
           "#ab63fa",
           "#FFA15A",
           "#19d3f3",
           "#FF6692",
           "#B6E880",
           "#FF97FF",
           "#FECB52"
          ],
          "font": {
           "color": "#f2f5fa"
          },
          "geo": {
           "bgcolor": "rgb(17,17,17)",
           "lakecolor": "rgb(17,17,17)",
           "landcolor": "rgb(17,17,17)",
           "showlakes": true,
           "showland": true,
           "subunitcolor": "#506784"
          },
          "hoverlabel": {
           "align": "left"
          },
          "hovermode": "closest",
          "mapbox": {
           "style": "dark"
          },
          "paper_bgcolor": "rgb(17,17,17)",
          "plot_bgcolor": "rgb(17,17,17)",
          "polar": {
           "angularaxis": {
            "gridcolor": "#506784",
            "linecolor": "#506784",
            "ticks": ""
           },
           "bgcolor": "rgb(17,17,17)",
           "radialaxis": {
            "gridcolor": "#506784",
            "linecolor": "#506784",
            "ticks": ""
           }
          },
          "scene": {
           "xaxis": {
            "backgroundcolor": "rgb(17,17,17)",
            "gridcolor": "#506784",
            "gridwidth": 2,
            "linecolor": "#506784",
            "showbackground": true,
            "ticks": "",
            "zerolinecolor": "#C8D4E3"
           },
           "yaxis": {
            "backgroundcolor": "rgb(17,17,17)",
            "gridcolor": "#506784",
            "gridwidth": 2,
            "linecolor": "#506784",
            "showbackground": true,
            "ticks": "",
            "zerolinecolor": "#C8D4E3"
           },
           "zaxis": {
            "backgroundcolor": "rgb(17,17,17)",
            "gridcolor": "#506784",
            "gridwidth": 2,
            "linecolor": "#506784",
            "showbackground": true,
            "ticks": "",
            "zerolinecolor": "#C8D4E3"
           }
          },
          "shapedefaults": {
           "line": {
            "color": "#f2f5fa"
           }
          },
          "sliderdefaults": {
           "bgcolor": "#C8D4E3",
           "bordercolor": "rgb(17,17,17)",
           "borderwidth": 1,
           "tickwidth": 0
          },
          "ternary": {
           "aaxis": {
            "gridcolor": "#506784",
            "linecolor": "#506784",
            "ticks": ""
           },
           "baxis": {
            "gridcolor": "#506784",
            "linecolor": "#506784",
            "ticks": ""
           },
           "bgcolor": "rgb(17,17,17)",
           "caxis": {
            "gridcolor": "#506784",
            "linecolor": "#506784",
            "ticks": ""
           }
          },
          "title": {
           "x": 0.05
          },
          "updatemenudefaults": {
           "bgcolor": "#506784",
           "borderwidth": 0
          },
          "xaxis": {
           "automargin": true,
           "gridcolor": "#283442",
           "linecolor": "#506784",
           "ticks": "",
           "title": {
            "standoff": 15
           },
           "zerolinecolor": "#283442",
           "zerolinewidth": 2
          },
          "yaxis": {
           "automargin": true,
           "gridcolor": "#283442",
           "linecolor": "#506784",
           "ticks": "",
           "title": {
            "standoff": 15
           },
           "zerolinecolor": "#283442",
           "zerolinewidth": 2
          }
         }
        },
        "title": {
         "text": "📈 Mean Insurance Count by State"
        },
        "xaxis": {
         "anchor": "y",
         "domain": [
          0,
          1
         ],
         "tickangle": 70,
         "title": {
          "text": "State"
         }
        },
        "yaxis": {
         "anchor": "x",
         "domain": [
          0,
          1
         ],
         "title": {
          "text": "Mean Count"
         }
        }
       }
      }
     },
     "metadata": {},
     "output_type": "display_data"
    },
    {
     "data": {
      "application/vnd.plotly.v1+json": {
       "config": {
        "plotlyServerURL": "https://plot.ly"
       },
       "data": [
        {
         "hovertemplate": "state=%{x}<br>mean_amount=%{y}<extra></extra>",
         "legendgroup": "",
         "line": {
          "color": "#636efa",
          "dash": "solid"
         },
         "marker": {
          "symbol": "circle"
         },
         "mode": "lines+markers",
         "name": "",
         "orientation": "v",
         "showlegend": false,
         "type": "scatter",
         "x": [
          "karnataka                         ",
          "maharashtra                       ",
          "tamil-nadu                        ",
          "uttar-pradesh                     ",
          "telangana                         ",
          "west-bengal                       ",
          "kerala                            ",
          "andhra-pradesh                    ",
          "delhi                             ",
          "rajasthan                         ",
          "haryana                           ",
          "gujarat                           ",
          "bihar                             ",
          "madhya-pradesh                    ",
          "odisha                            ",
          "assam                             ",
          "jharkhand                         ",
          "chhattisgarh                      ",
          "punjab                            ",
          "uttarakhand                       ",
          "jammu-&-kashmir                   ",
          "himachal-pradesh                  ",
          "goa                               ",
          "puducherry                        ",
          "tripura                           ",
          "chandigarh                        ",
          "dadra-&-nagar-haveli-&-daman-&-diu",
          "andaman-&-nicobar-islands         ",
          "meghalaya                         ",
          "arunachal-pradesh                 ",
          "sikkim                            ",
          "nagaland                          ",
          "manipur                           ",
          "mizoram                           ",
          "ladakh                            ",
          "lakshadweep                       "
         ],
         "xaxis": "x",
         "y": {
          "bdata": "8xrK9QU2oUEbymtIQqedQcprKAvghJNB8xrK/6XWlUGivIa6xGONQRvKaxDRaYpBUV5DnSh8kEFRXkMRVWKEQdhQXiOFdoRBymsoD4oViEEbymtw2dqEQdhQXhslTYJBeQ3l3V/XgEGvobxO/NiBQa+hvKaU6HRBKK+hXNOrdEHKayg/QYBxQTaU15BkimtBNpTX0P5tb0GU11A+9iVkQb2G8hpY515B2FBeQ22MV0HlNZSXjs9QQb2G8hrBzz1BKK+hvC4ZO0HKayivULs6QTaU11Ay5ixBoryG8oojL0G9hvIaUFkwQTaU11AfzzJBlNdQXhN7IUHlNZTXHGodQSivobxO+BZBlNdQXkOMEUEN5TWUUxUZQcprKK+BCeBA",
          "dtype": "f8"
         },
         "yaxis": "y"
        }
       ],
       "layout": {
        "legend": {
         "tracegroupgap": 0
        },
        "template": {
         "data": {
          "bar": [
           {
            "error_x": {
             "color": "#f2f5fa"
            },
            "error_y": {
             "color": "#f2f5fa"
            },
            "marker": {
             "line": {
              "color": "rgb(17,17,17)",
              "width": 0.5
             },
             "pattern": {
              "fillmode": "overlay",
              "size": 10,
              "solidity": 0.2
             }
            },
            "type": "bar"
           }
          ],
          "barpolar": [
           {
            "marker": {
             "line": {
              "color": "rgb(17,17,17)",
              "width": 0.5
             },
             "pattern": {
              "fillmode": "overlay",
              "size": 10,
              "solidity": 0.2
             }
            },
            "type": "barpolar"
           }
          ],
          "carpet": [
           {
            "aaxis": {
             "endlinecolor": "#A2B1C6",
             "gridcolor": "#506784",
             "linecolor": "#506784",
             "minorgridcolor": "#506784",
             "startlinecolor": "#A2B1C6"
            },
            "baxis": {
             "endlinecolor": "#A2B1C6",
             "gridcolor": "#506784",
             "linecolor": "#506784",
             "minorgridcolor": "#506784",
             "startlinecolor": "#A2B1C6"
            },
            "type": "carpet"
           }
          ],
          "choropleth": [
           {
            "colorbar": {
             "outlinewidth": 0,
             "ticks": ""
            },
            "type": "choropleth"
           }
          ],
          "contour": [
           {
            "colorbar": {
             "outlinewidth": 0,
             "ticks": ""
            },
            "colorscale": [
             [
              0,
              "#0d0887"
             ],
             [
              0.1111111111111111,
              "#46039f"
             ],
             [
              0.2222222222222222,
              "#7201a8"
             ],
             [
              0.3333333333333333,
              "#9c179e"
             ],
             [
              0.4444444444444444,
              "#bd3786"
             ],
             [
              0.5555555555555556,
              "#d8576b"
             ],
             [
              0.6666666666666666,
              "#ed7953"
             ],
             [
              0.7777777777777778,
              "#fb9f3a"
             ],
             [
              0.8888888888888888,
              "#fdca26"
             ],
             [
              1,
              "#f0f921"
             ]
            ],
            "type": "contour"
           }
          ],
          "contourcarpet": [
           {
            "colorbar": {
             "outlinewidth": 0,
             "ticks": ""
            },
            "type": "contourcarpet"
           }
          ],
          "heatmap": [
           {
            "colorbar": {
             "outlinewidth": 0,
             "ticks": ""
            },
            "colorscale": [
             [
              0,
              "#0d0887"
             ],
             [
              0.1111111111111111,
              "#46039f"
             ],
             [
              0.2222222222222222,
              "#7201a8"
             ],
             [
              0.3333333333333333,
              "#9c179e"
             ],
             [
              0.4444444444444444,
              "#bd3786"
             ],
             [
              0.5555555555555556,
              "#d8576b"
             ],
             [
              0.6666666666666666,
              "#ed7953"
             ],
             [
              0.7777777777777778,
              "#fb9f3a"
             ],
             [
              0.8888888888888888,
              "#fdca26"
             ],
             [
              1,
              "#f0f921"
             ]
            ],
            "type": "heatmap"
           }
          ],
          "histogram": [
           {
            "marker": {
             "pattern": {
              "fillmode": "overlay",
              "size": 10,
              "solidity": 0.2
             }
            },
            "type": "histogram"
           }
          ],
          "histogram2d": [
           {
            "colorbar": {
             "outlinewidth": 0,
             "ticks": ""
            },
            "colorscale": [
             [
              0,
              "#0d0887"
             ],
             [
              0.1111111111111111,
              "#46039f"
             ],
             [
              0.2222222222222222,
              "#7201a8"
             ],
             [
              0.3333333333333333,
              "#9c179e"
             ],
             [
              0.4444444444444444,
              "#bd3786"
             ],
             [
              0.5555555555555556,
              "#d8576b"
             ],
             [
              0.6666666666666666,
              "#ed7953"
             ],
             [
              0.7777777777777778,
              "#fb9f3a"
             ],
             [
              0.8888888888888888,
              "#fdca26"
             ],
             [
              1,
              "#f0f921"
             ]
            ],
            "type": "histogram2d"
           }
          ],
          "histogram2dcontour": [
           {
            "colorbar": {
             "outlinewidth": 0,
             "ticks": ""
            },
            "colorscale": [
             [
              0,
              "#0d0887"
             ],
             [
              0.1111111111111111,
              "#46039f"
             ],
             [
              0.2222222222222222,
              "#7201a8"
             ],
             [
              0.3333333333333333,
              "#9c179e"
             ],
             [
              0.4444444444444444,
              "#bd3786"
             ],
             [
              0.5555555555555556,
              "#d8576b"
             ],
             [
              0.6666666666666666,
              "#ed7953"
             ],
             [
              0.7777777777777778,
              "#fb9f3a"
             ],
             [
              0.8888888888888888,
              "#fdca26"
             ],
             [
              1,
              "#f0f921"
             ]
            ],
            "type": "histogram2dcontour"
           }
          ],
          "mesh3d": [
           {
            "colorbar": {
             "outlinewidth": 0,
             "ticks": ""
            },
            "type": "mesh3d"
           }
          ],
          "parcoords": [
           {
            "line": {
             "colorbar": {
              "outlinewidth": 0,
              "ticks": ""
             }
            },
            "type": "parcoords"
           }
          ],
          "pie": [
           {
            "automargin": true,
            "type": "pie"
           }
          ],
          "scatter": [
           {
            "marker": {
             "line": {
              "color": "#283442"
             }
            },
            "type": "scatter"
           }
          ],
          "scatter3d": [
           {
            "line": {
             "colorbar": {
              "outlinewidth": 0,
              "ticks": ""
             }
            },
            "marker": {
             "colorbar": {
              "outlinewidth": 0,
              "ticks": ""
             }
            },
            "type": "scatter3d"
           }
          ],
          "scattercarpet": [
           {
            "marker": {
             "colorbar": {
              "outlinewidth": 0,
              "ticks": ""
             }
            },
            "type": "scattercarpet"
           }
          ],
          "scattergeo": [
           {
            "marker": {
             "colorbar": {
              "outlinewidth": 0,
              "ticks": ""
             }
            },
            "type": "scattergeo"
           }
          ],
          "scattergl": [
           {
            "marker": {
             "line": {
              "color": "#283442"
             }
            },
            "type": "scattergl"
           }
          ],
          "scattermap": [
           {
            "marker": {
             "colorbar": {
              "outlinewidth": 0,
              "ticks": ""
             }
            },
            "type": "scattermap"
           }
          ],
          "scattermapbox": [
           {
            "marker": {
             "colorbar": {
              "outlinewidth": 0,
              "ticks": ""
             }
            },
            "type": "scattermapbox"
           }
          ],
          "scatterpolar": [
           {
            "marker": {
             "colorbar": {
              "outlinewidth": 0,
              "ticks": ""
             }
            },
            "type": "scatterpolar"
           }
          ],
          "scatterpolargl": [
           {
            "marker": {
             "colorbar": {
              "outlinewidth": 0,
              "ticks": ""
             }
            },
            "type": "scatterpolargl"
           }
          ],
          "scatterternary": [
           {
            "marker": {
             "colorbar": {
              "outlinewidth": 0,
              "ticks": ""
             }
            },
            "type": "scatterternary"
           }
          ],
          "surface": [
           {
            "colorbar": {
             "outlinewidth": 0,
             "ticks": ""
            },
            "colorscale": [
             [
              0,
              "#0d0887"
             ],
             [
              0.1111111111111111,
              "#46039f"
             ],
             [
              0.2222222222222222,
              "#7201a8"
             ],
             [
              0.3333333333333333,
              "#9c179e"
             ],
             [
              0.4444444444444444,
              "#bd3786"
             ],
             [
              0.5555555555555556,
              "#d8576b"
             ],
             [
              0.6666666666666666,
              "#ed7953"
             ],
             [
              0.7777777777777778,
              "#fb9f3a"
             ],
             [
              0.8888888888888888,
              "#fdca26"
             ],
             [
              1,
              "#f0f921"
             ]
            ],
            "type": "surface"
           }
          ],
          "table": [
           {
            "cells": {
             "fill": {
              "color": "#506784"
             },
             "line": {
              "color": "rgb(17,17,17)"
             }
            },
            "header": {
             "fill": {
              "color": "#2a3f5f"
             },
             "line": {
              "color": "rgb(17,17,17)"
             }
            },
            "type": "table"
           }
          ]
         },
         "layout": {
          "annotationdefaults": {
           "arrowcolor": "#f2f5fa",
           "arrowhead": 0,
           "arrowwidth": 1
          },
          "autotypenumbers": "strict",
          "coloraxis": {
           "colorbar": {
            "outlinewidth": 0,
            "ticks": ""
           }
          },
          "colorscale": {
           "diverging": [
            [
             0,
             "#8e0152"
            ],
            [
             0.1,
             "#c51b7d"
            ],
            [
             0.2,
             "#de77ae"
            ],
            [
             0.3,
             "#f1b6da"
            ],
            [
             0.4,
             "#fde0ef"
            ],
            [
             0.5,
             "#f7f7f7"
            ],
            [
             0.6,
             "#e6f5d0"
            ],
            [
             0.7,
             "#b8e186"
            ],
            [
             0.8,
             "#7fbc41"
            ],
            [
             0.9,
             "#4d9221"
            ],
            [
             1,
             "#276419"
            ]
           ],
           "sequential": [
            [
             0,
             "#0d0887"
            ],
            [
             0.1111111111111111,
             "#46039f"
            ],
            [
             0.2222222222222222,
             "#7201a8"
            ],
            [
             0.3333333333333333,
             "#9c179e"
            ],
            [
             0.4444444444444444,
             "#bd3786"
            ],
            [
             0.5555555555555556,
             "#d8576b"
            ],
            [
             0.6666666666666666,
             "#ed7953"
            ],
            [
             0.7777777777777778,
             "#fb9f3a"
            ],
            [
             0.8888888888888888,
             "#fdca26"
            ],
            [
             1,
             "#f0f921"
            ]
           ],
           "sequentialminus": [
            [
             0,
             "#0d0887"
            ],
            [
             0.1111111111111111,
             "#46039f"
            ],
            [
             0.2222222222222222,
             "#7201a8"
            ],
            [
             0.3333333333333333,
             "#9c179e"
            ],
            [
             0.4444444444444444,
             "#bd3786"
            ],
            [
             0.5555555555555556,
             "#d8576b"
            ],
            [
             0.6666666666666666,
             "#ed7953"
            ],
            [
             0.7777777777777778,
             "#fb9f3a"
            ],
            [
             0.8888888888888888,
             "#fdca26"
            ],
            [
             1,
             "#f0f921"
            ]
           ]
          },
          "colorway": [
           "#636efa",
           "#EF553B",
           "#00cc96",
           "#ab63fa",
           "#FFA15A",
           "#19d3f3",
           "#FF6692",
           "#B6E880",
           "#FF97FF",
           "#FECB52"
          ],
          "font": {
           "color": "#f2f5fa"
          },
          "geo": {
           "bgcolor": "rgb(17,17,17)",
           "lakecolor": "rgb(17,17,17)",
           "landcolor": "rgb(17,17,17)",
           "showlakes": true,
           "showland": true,
           "subunitcolor": "#506784"
          },
          "hoverlabel": {
           "align": "left"
          },
          "hovermode": "closest",
          "mapbox": {
           "style": "dark"
          },
          "paper_bgcolor": "rgb(17,17,17)",
          "plot_bgcolor": "rgb(17,17,17)",
          "polar": {
           "angularaxis": {
            "gridcolor": "#506784",
            "linecolor": "#506784",
            "ticks": ""
           },
           "bgcolor": "rgb(17,17,17)",
           "radialaxis": {
            "gridcolor": "#506784",
            "linecolor": "#506784",
            "ticks": ""
           }
          },
          "scene": {
           "xaxis": {
            "backgroundcolor": "rgb(17,17,17)",
            "gridcolor": "#506784",
            "gridwidth": 2,
            "linecolor": "#506784",
            "showbackground": true,
            "ticks": "",
            "zerolinecolor": "#C8D4E3"
           },
           "yaxis": {
            "backgroundcolor": "rgb(17,17,17)",
            "gridcolor": "#506784",
            "gridwidth": 2,
            "linecolor": "#506784",
            "showbackground": true,
            "ticks": "",
            "zerolinecolor": "#C8D4E3"
           },
           "zaxis": {
            "backgroundcolor": "rgb(17,17,17)",
            "gridcolor": "#506784",
            "gridwidth": 2,
            "linecolor": "#506784",
            "showbackground": true,
            "ticks": "",
            "zerolinecolor": "#C8D4E3"
           }
          },
          "shapedefaults": {
           "line": {
            "color": "#f2f5fa"
           }
          },
          "sliderdefaults": {
           "bgcolor": "#C8D4E3",
           "bordercolor": "rgb(17,17,17)",
           "borderwidth": 1,
           "tickwidth": 0
          },
          "ternary": {
           "aaxis": {
            "gridcolor": "#506784",
            "linecolor": "#506784",
            "ticks": ""
           },
           "baxis": {
            "gridcolor": "#506784",
            "linecolor": "#506784",
            "ticks": ""
           },
           "bgcolor": "rgb(17,17,17)",
           "caxis": {
            "gridcolor": "#506784",
            "linecolor": "#506784",
            "ticks": ""
           }
          },
          "title": {
           "x": 0.05
          },
          "updatemenudefaults": {
           "bgcolor": "#506784",
           "borderwidth": 0
          },
          "xaxis": {
           "automargin": true,
           "gridcolor": "#283442",
           "linecolor": "#506784",
           "ticks": "",
           "title": {
            "standoff": 15
           },
           "zerolinecolor": "#283442",
           "zerolinewidth": 2
          },
          "yaxis": {
           "automargin": true,
           "gridcolor": "#283442",
           "linecolor": "#506784",
           "ticks": "",
           "title": {
            "standoff": 15
           },
           "zerolinecolor": "#283442",
           "zerolinewidth": 2
          }
         }
        },
        "title": {
         "text": "💰 Mean Insurance Amount by State"
        },
        "xaxis": {
         "anchor": "y",
         "domain": [
          0,
          1
         ],
         "tickangle": 70,
         "title": {
          "text": "State"
         }
        },
        "yaxis": {
         "anchor": "x",
         "domain": [
          0,
          1
         ],
         "title": {
          "text": "Mean Amount"
         }
        }
       }
      }
     },
     "metadata": {},
     "output_type": "display_data"
    }
   ],
   "source": [
    "import pandas as pd\n",
    "import plotly.express as px\n",
    "import os\n",
    "\n",
    "# Ensure output folder exists\n",
    "os.makedirs(\"outputs\", exist_ok=True)\n",
    "\n",
    "# Load and clean the data\n",
    "df = pd.read_csv(\"cleaned_data\\\\aggregated_insurance.csv\")\n",
    "df.columns = df.columns.str.strip().str.lower()\n",
    "\n",
    "# Group by state and calculate the MEAN of count and amount\n",
    "df_grouped = df.groupby(\"state\")[[\"count\", \"amount\"]].mean().reset_index()\n",
    "df_grouped.rename(columns={\"count\": \"mean_count\", \"amount\": \"mean_amount\"}, inplace=True)\n",
    "\n",
    "# Sort by mean_count for better visualization\n",
    "df_grouped = df_grouped.sort_values(\"mean_count\", ascending=False)\n",
    "\n",
    "# 📈 Line chart for mean count by state\n",
    "fig1 = px.line(df_grouped, x=\"state\", y=\"mean_count\", markers=True,\n",
    "               title=\"📈 Mean Insurance Count by State\",\n",
    "               template=\"plotly_dark\")\n",
    "fig1.update_layout(xaxis=dict(tickangle=70, title=\"State\"), yaxis=dict(title=\"Mean Count\"))\n",
    "\n",
    "# Save fig1\n",
    "fig1.write_image(\"outputs/mean_insurance_count_by_state.png\", width=1400, height=600)\n",
    "fig1.show()\n",
    "\n",
    "# 💸 Line chart for mean amount by state\n",
    "fig2 = px.line(df_grouped, x=\"state\", y=\"mean_amount\", markers=True,\n",
    "               title=\"💰 Mean Insurance Amount by State\",\n",
    "               template=\"plotly_dark\")\n",
    "fig2.update_layout(xaxis=dict(tickangle=70, title=\"State\"), yaxis=dict(title=\"Mean Amount\"))\n",
    "\n",
    "# Save fig2\n",
    "fig2.write_image(\"outputs/mean_insurance_amount_by_state.png\", width=1400, height=600)\n",
    "fig2.show()\n"
   ]
  },
  {
   "cell_type": "code",
   "execution_count": 3,
   "metadata": {},
   "outputs": [
    {
     "data": {
      "application/vnd.plotly.v1+json": {
       "config": {
        "plotlyServerURL": "https://plot.ly"
       },
       "data": [
        {
         "hovertemplate": "year=%{x}<br>mean_count=%{y}<extra></extra>",
         "legendgroup": "",
         "line": {
          "color": "#636efa",
          "dash": "solid"
         },
         "marker": {
          "symbol": "circle"
         },
         "mode": "lines+markers",
         "name": "",
         "orientation": "v",
         "showlegend": false,
         "type": "scatter",
         "x": {
          "bdata": "5AflB+YH5wfoBw==",
          "dtype": "i2"
         },
         "xaxis": "x",
         "y": {
          "bdata": "E9pLaK+CvEDHcRzHgXnFQOQ4juPI9NRAq6qqqnYI20CO4ziOKy/hQA==",
          "dtype": "f8"
         },
         "yaxis": "y"
        }
       ],
       "layout": {
        "legend": {
         "tracegroupgap": 0
        },
        "template": {
         "data": {
          "bar": [
           {
            "error_x": {
             "color": "#f2f5fa"
            },
            "error_y": {
             "color": "#f2f5fa"
            },
            "marker": {
             "line": {
              "color": "rgb(17,17,17)",
              "width": 0.5
             },
             "pattern": {
              "fillmode": "overlay",
              "size": 10,
              "solidity": 0.2
             }
            },
            "type": "bar"
           }
          ],
          "barpolar": [
           {
            "marker": {
             "line": {
              "color": "rgb(17,17,17)",
              "width": 0.5
             },
             "pattern": {
              "fillmode": "overlay",
              "size": 10,
              "solidity": 0.2
             }
            },
            "type": "barpolar"
           }
          ],
          "carpet": [
           {
            "aaxis": {
             "endlinecolor": "#A2B1C6",
             "gridcolor": "#506784",
             "linecolor": "#506784",
             "minorgridcolor": "#506784",
             "startlinecolor": "#A2B1C6"
            },
            "baxis": {
             "endlinecolor": "#A2B1C6",
             "gridcolor": "#506784",
             "linecolor": "#506784",
             "minorgridcolor": "#506784",
             "startlinecolor": "#A2B1C6"
            },
            "type": "carpet"
           }
          ],
          "choropleth": [
           {
            "colorbar": {
             "outlinewidth": 0,
             "ticks": ""
            },
            "type": "choropleth"
           }
          ],
          "contour": [
           {
            "colorbar": {
             "outlinewidth": 0,
             "ticks": ""
            },
            "colorscale": [
             [
              0,
              "#0d0887"
             ],
             [
              0.1111111111111111,
              "#46039f"
             ],
             [
              0.2222222222222222,
              "#7201a8"
             ],
             [
              0.3333333333333333,
              "#9c179e"
             ],
             [
              0.4444444444444444,
              "#bd3786"
             ],
             [
              0.5555555555555556,
              "#d8576b"
             ],
             [
              0.6666666666666666,
              "#ed7953"
             ],
             [
              0.7777777777777778,
              "#fb9f3a"
             ],
             [
              0.8888888888888888,
              "#fdca26"
             ],
             [
              1,
              "#f0f921"
             ]
            ],
            "type": "contour"
           }
          ],
          "contourcarpet": [
           {
            "colorbar": {
             "outlinewidth": 0,
             "ticks": ""
            },
            "type": "contourcarpet"
           }
          ],
          "heatmap": [
           {
            "colorbar": {
             "outlinewidth": 0,
             "ticks": ""
            },
            "colorscale": [
             [
              0,
              "#0d0887"
             ],
             [
              0.1111111111111111,
              "#46039f"
             ],
             [
              0.2222222222222222,
              "#7201a8"
             ],
             [
              0.3333333333333333,
              "#9c179e"
             ],
             [
              0.4444444444444444,
              "#bd3786"
             ],
             [
              0.5555555555555556,
              "#d8576b"
             ],
             [
              0.6666666666666666,
              "#ed7953"
             ],
             [
              0.7777777777777778,
              "#fb9f3a"
             ],
             [
              0.8888888888888888,
              "#fdca26"
             ],
             [
              1,
              "#f0f921"
             ]
            ],
            "type": "heatmap"
           }
          ],
          "histogram": [
           {
            "marker": {
             "pattern": {
              "fillmode": "overlay",
              "size": 10,
              "solidity": 0.2
             }
            },
            "type": "histogram"
           }
          ],
          "histogram2d": [
           {
            "colorbar": {
             "outlinewidth": 0,
             "ticks": ""
            },
            "colorscale": [
             [
              0,
              "#0d0887"
             ],
             [
              0.1111111111111111,
              "#46039f"
             ],
             [
              0.2222222222222222,
              "#7201a8"
             ],
             [
              0.3333333333333333,
              "#9c179e"
             ],
             [
              0.4444444444444444,
              "#bd3786"
             ],
             [
              0.5555555555555556,
              "#d8576b"
             ],
             [
              0.6666666666666666,
              "#ed7953"
             ],
             [
              0.7777777777777778,
              "#fb9f3a"
             ],
             [
              0.8888888888888888,
              "#fdca26"
             ],
             [
              1,
              "#f0f921"
             ]
            ],
            "type": "histogram2d"
           }
          ],
          "histogram2dcontour": [
           {
            "colorbar": {
             "outlinewidth": 0,
             "ticks": ""
            },
            "colorscale": [
             [
              0,
              "#0d0887"
             ],
             [
              0.1111111111111111,
              "#46039f"
             ],
             [
              0.2222222222222222,
              "#7201a8"
             ],
             [
              0.3333333333333333,
              "#9c179e"
             ],
             [
              0.4444444444444444,
              "#bd3786"
             ],
             [
              0.5555555555555556,
              "#d8576b"
             ],
             [
              0.6666666666666666,
              "#ed7953"
             ],
             [
              0.7777777777777778,
              "#fb9f3a"
             ],
             [
              0.8888888888888888,
              "#fdca26"
             ],
             [
              1,
              "#f0f921"
             ]
            ],
            "type": "histogram2dcontour"
           }
          ],
          "mesh3d": [
           {
            "colorbar": {
             "outlinewidth": 0,
             "ticks": ""
            },
            "type": "mesh3d"
           }
          ],
          "parcoords": [
           {
            "line": {
             "colorbar": {
              "outlinewidth": 0,
              "ticks": ""
             }
            },
            "type": "parcoords"
           }
          ],
          "pie": [
           {
            "automargin": true,
            "type": "pie"
           }
          ],
          "scatter": [
           {
            "marker": {
             "line": {
              "color": "#283442"
             }
            },
            "type": "scatter"
           }
          ],
          "scatter3d": [
           {
            "line": {
             "colorbar": {
              "outlinewidth": 0,
              "ticks": ""
             }
            },
            "marker": {
             "colorbar": {
              "outlinewidth": 0,
              "ticks": ""
             }
            },
            "type": "scatter3d"
           }
          ],
          "scattercarpet": [
           {
            "marker": {
             "colorbar": {
              "outlinewidth": 0,
              "ticks": ""
             }
            },
            "type": "scattercarpet"
           }
          ],
          "scattergeo": [
           {
            "marker": {
             "colorbar": {
              "outlinewidth": 0,
              "ticks": ""
             }
            },
            "type": "scattergeo"
           }
          ],
          "scattergl": [
           {
            "marker": {
             "line": {
              "color": "#283442"
             }
            },
            "type": "scattergl"
           }
          ],
          "scattermap": [
           {
            "marker": {
             "colorbar": {
              "outlinewidth": 0,
              "ticks": ""
             }
            },
            "type": "scattermap"
           }
          ],
          "scattermapbox": [
           {
            "marker": {
             "colorbar": {
              "outlinewidth": 0,
              "ticks": ""
             }
            },
            "type": "scattermapbox"
           }
          ],
          "scatterpolar": [
           {
            "marker": {
             "colorbar": {
              "outlinewidth": 0,
              "ticks": ""
             }
            },
            "type": "scatterpolar"
           }
          ],
          "scatterpolargl": [
           {
            "marker": {
             "colorbar": {
              "outlinewidth": 0,
              "ticks": ""
             }
            },
            "type": "scatterpolargl"
           }
          ],
          "scatterternary": [
           {
            "marker": {
             "colorbar": {
              "outlinewidth": 0,
              "ticks": ""
             }
            },
            "type": "scatterternary"
           }
          ],
          "surface": [
           {
            "colorbar": {
             "outlinewidth": 0,
             "ticks": ""
            },
            "colorscale": [
             [
              0,
              "#0d0887"
             ],
             [
              0.1111111111111111,
              "#46039f"
             ],
             [
              0.2222222222222222,
              "#7201a8"
             ],
             [
              0.3333333333333333,
              "#9c179e"
             ],
             [
              0.4444444444444444,
              "#bd3786"
             ],
             [
              0.5555555555555556,
              "#d8576b"
             ],
             [
              0.6666666666666666,
              "#ed7953"
             ],
             [
              0.7777777777777778,
              "#fb9f3a"
             ],
             [
              0.8888888888888888,
              "#fdca26"
             ],
             [
              1,
              "#f0f921"
             ]
            ],
            "type": "surface"
           }
          ],
          "table": [
           {
            "cells": {
             "fill": {
              "color": "#506784"
             },
             "line": {
              "color": "rgb(17,17,17)"
             }
            },
            "header": {
             "fill": {
              "color": "#2a3f5f"
             },
             "line": {
              "color": "rgb(17,17,17)"
             }
            },
            "type": "table"
           }
          ]
         },
         "layout": {
          "annotationdefaults": {
           "arrowcolor": "#f2f5fa",
           "arrowhead": 0,
           "arrowwidth": 1
          },
          "autotypenumbers": "strict",
          "coloraxis": {
           "colorbar": {
            "outlinewidth": 0,
            "ticks": ""
           }
          },
          "colorscale": {
           "diverging": [
            [
             0,
             "#8e0152"
            ],
            [
             0.1,
             "#c51b7d"
            ],
            [
             0.2,
             "#de77ae"
            ],
            [
             0.3,
             "#f1b6da"
            ],
            [
             0.4,
             "#fde0ef"
            ],
            [
             0.5,
             "#f7f7f7"
            ],
            [
             0.6,
             "#e6f5d0"
            ],
            [
             0.7,
             "#b8e186"
            ],
            [
             0.8,
             "#7fbc41"
            ],
            [
             0.9,
             "#4d9221"
            ],
            [
             1,
             "#276419"
            ]
           ],
           "sequential": [
            [
             0,
             "#0d0887"
            ],
            [
             0.1111111111111111,
             "#46039f"
            ],
            [
             0.2222222222222222,
             "#7201a8"
            ],
            [
             0.3333333333333333,
             "#9c179e"
            ],
            [
             0.4444444444444444,
             "#bd3786"
            ],
            [
             0.5555555555555556,
             "#d8576b"
            ],
            [
             0.6666666666666666,
             "#ed7953"
            ],
            [
             0.7777777777777778,
             "#fb9f3a"
            ],
            [
             0.8888888888888888,
             "#fdca26"
            ],
            [
             1,
             "#f0f921"
            ]
           ],
           "sequentialminus": [
            [
             0,
             "#0d0887"
            ],
            [
             0.1111111111111111,
             "#46039f"
            ],
            [
             0.2222222222222222,
             "#7201a8"
            ],
            [
             0.3333333333333333,
             "#9c179e"
            ],
            [
             0.4444444444444444,
             "#bd3786"
            ],
            [
             0.5555555555555556,
             "#d8576b"
            ],
            [
             0.6666666666666666,
             "#ed7953"
            ],
            [
             0.7777777777777778,
             "#fb9f3a"
            ],
            [
             0.8888888888888888,
             "#fdca26"
            ],
            [
             1,
             "#f0f921"
            ]
           ]
          },
          "colorway": [
           "#636efa",
           "#EF553B",
           "#00cc96",
           "#ab63fa",
           "#FFA15A",
           "#19d3f3",
           "#FF6692",
           "#B6E880",
           "#FF97FF",
           "#FECB52"
          ],
          "font": {
           "color": "#f2f5fa"
          },
          "geo": {
           "bgcolor": "rgb(17,17,17)",
           "lakecolor": "rgb(17,17,17)",
           "landcolor": "rgb(17,17,17)",
           "showlakes": true,
           "showland": true,
           "subunitcolor": "#506784"
          },
          "hoverlabel": {
           "align": "left"
          },
          "hovermode": "closest",
          "mapbox": {
           "style": "dark"
          },
          "paper_bgcolor": "rgb(17,17,17)",
          "plot_bgcolor": "rgb(17,17,17)",
          "polar": {
           "angularaxis": {
            "gridcolor": "#506784",
            "linecolor": "#506784",
            "ticks": ""
           },
           "bgcolor": "rgb(17,17,17)",
           "radialaxis": {
            "gridcolor": "#506784",
            "linecolor": "#506784",
            "ticks": ""
           }
          },
          "scene": {
           "xaxis": {
            "backgroundcolor": "rgb(17,17,17)",
            "gridcolor": "#506784",
            "gridwidth": 2,
            "linecolor": "#506784",
            "showbackground": true,
            "ticks": "",
            "zerolinecolor": "#C8D4E3"
           },
           "yaxis": {
            "backgroundcolor": "rgb(17,17,17)",
            "gridcolor": "#506784",
            "gridwidth": 2,
            "linecolor": "#506784",
            "showbackground": true,
            "ticks": "",
            "zerolinecolor": "#C8D4E3"
           },
           "zaxis": {
            "backgroundcolor": "rgb(17,17,17)",
            "gridcolor": "#506784",
            "gridwidth": 2,
            "linecolor": "#506784",
            "showbackground": true,
            "ticks": "",
            "zerolinecolor": "#C8D4E3"
           }
          },
          "shapedefaults": {
           "line": {
            "color": "#f2f5fa"
           }
          },
          "sliderdefaults": {
           "bgcolor": "#C8D4E3",
           "bordercolor": "rgb(17,17,17)",
           "borderwidth": 1,
           "tickwidth": 0
          },
          "ternary": {
           "aaxis": {
            "gridcolor": "#506784",
            "linecolor": "#506784",
            "ticks": ""
           },
           "baxis": {
            "gridcolor": "#506784",
            "linecolor": "#506784",
            "ticks": ""
           },
           "bgcolor": "rgb(17,17,17)",
           "caxis": {
            "gridcolor": "#506784",
            "linecolor": "#506784",
            "ticks": ""
           }
          },
          "title": {
           "x": 0.05
          },
          "updatemenudefaults": {
           "bgcolor": "#506784",
           "borderwidth": 0
          },
          "xaxis": {
           "automargin": true,
           "gridcolor": "#283442",
           "linecolor": "#506784",
           "ticks": "",
           "title": {
            "standoff": 15
           },
           "zerolinecolor": "#283442",
           "zerolinewidth": 2
          },
          "yaxis": {
           "automargin": true,
           "gridcolor": "#283442",
           "linecolor": "#506784",
           "ticks": "",
           "title": {
            "standoff": 15
           },
           "zerolinecolor": "#283442",
           "zerolinewidth": 2
          }
         }
        },
        "title": {
         "text": "📈 Mean Insurance Count by Year"
        },
        "xaxis": {
         "anchor": "y",
         "domain": [
          0,
          1
         ],
         "dtick": 1,
         "title": {
          "text": "Year"
         }
        },
        "yaxis": {
         "anchor": "x",
         "domain": [
          0,
          1
         ],
         "title": {
          "text": "Mean Count"
         }
        }
       }
      }
     },
     "metadata": {},
     "output_type": "display_data"
    },
    {
     "data": {
      "application/vnd.plotly.v1+json": {
       "config": {
        "plotlyServerURL": "https://plot.ly"
       },
       "data": [
        {
         "hovertemplate": "year=%{x}<br>mean_amount=%{y}<extra></extra>",
         "legendgroup": "",
         "line": {
          "color": "#636efa",
          "dash": "solid"
         },
         "marker": {
          "symbol": "circle"
         },
         "mode": "lines+markers",
         "name": "",
         "orientation": "v",
         "showlegend": false,
         "type": "scatter",
         "x": {
          "bdata": "5AflB+YH5wfoBw==",
          "dtype": "i2"
         },
         "xaxis": "x",
         "y": {
          "bdata": "TGgvQZbIREFVVVXhcttjQRzHccufEnxBVVVVoj8OhEEcx3E1lz+KQQ==",
          "dtype": "f8"
         },
         "yaxis": "y"
        }
       ],
       "layout": {
        "legend": {
         "tracegroupgap": 0
        },
        "template": {
         "data": {
          "bar": [
           {
            "error_x": {
             "color": "#f2f5fa"
            },
            "error_y": {
             "color": "#f2f5fa"
            },
            "marker": {
             "line": {
              "color": "rgb(17,17,17)",
              "width": 0.5
             },
             "pattern": {
              "fillmode": "overlay",
              "size": 10,
              "solidity": 0.2
             }
            },
            "type": "bar"
           }
          ],
          "barpolar": [
           {
            "marker": {
             "line": {
              "color": "rgb(17,17,17)",
              "width": 0.5
             },
             "pattern": {
              "fillmode": "overlay",
              "size": 10,
              "solidity": 0.2
             }
            },
            "type": "barpolar"
           }
          ],
          "carpet": [
           {
            "aaxis": {
             "endlinecolor": "#A2B1C6",
             "gridcolor": "#506784",
             "linecolor": "#506784",
             "minorgridcolor": "#506784",
             "startlinecolor": "#A2B1C6"
            },
            "baxis": {
             "endlinecolor": "#A2B1C6",
             "gridcolor": "#506784",
             "linecolor": "#506784",
             "minorgridcolor": "#506784",
             "startlinecolor": "#A2B1C6"
            },
            "type": "carpet"
           }
          ],
          "choropleth": [
           {
            "colorbar": {
             "outlinewidth": 0,
             "ticks": ""
            },
            "type": "choropleth"
           }
          ],
          "contour": [
           {
            "colorbar": {
             "outlinewidth": 0,
             "ticks": ""
            },
            "colorscale": [
             [
              0,
              "#0d0887"
             ],
             [
              0.1111111111111111,
              "#46039f"
             ],
             [
              0.2222222222222222,
              "#7201a8"
             ],
             [
              0.3333333333333333,
              "#9c179e"
             ],
             [
              0.4444444444444444,
              "#bd3786"
             ],
             [
              0.5555555555555556,
              "#d8576b"
             ],
             [
              0.6666666666666666,
              "#ed7953"
             ],
             [
              0.7777777777777778,
              "#fb9f3a"
             ],
             [
              0.8888888888888888,
              "#fdca26"
             ],
             [
              1,
              "#f0f921"
             ]
            ],
            "type": "contour"
           }
          ],
          "contourcarpet": [
           {
            "colorbar": {
             "outlinewidth": 0,
             "ticks": ""
            },
            "type": "contourcarpet"
           }
          ],
          "heatmap": [
           {
            "colorbar": {
             "outlinewidth": 0,
             "ticks": ""
            },
            "colorscale": [
             [
              0,
              "#0d0887"
             ],
             [
              0.1111111111111111,
              "#46039f"
             ],
             [
              0.2222222222222222,
              "#7201a8"
             ],
             [
              0.3333333333333333,
              "#9c179e"
             ],
             [
              0.4444444444444444,
              "#bd3786"
             ],
             [
              0.5555555555555556,
              "#d8576b"
             ],
             [
              0.6666666666666666,
              "#ed7953"
             ],
             [
              0.7777777777777778,
              "#fb9f3a"
             ],
             [
              0.8888888888888888,
              "#fdca26"
             ],
             [
              1,
              "#f0f921"
             ]
            ],
            "type": "heatmap"
           }
          ],
          "histogram": [
           {
            "marker": {
             "pattern": {
              "fillmode": "overlay",
              "size": 10,
              "solidity": 0.2
             }
            },
            "type": "histogram"
           }
          ],
          "histogram2d": [
           {
            "colorbar": {
             "outlinewidth": 0,
             "ticks": ""
            },
            "colorscale": [
             [
              0,
              "#0d0887"
             ],
             [
              0.1111111111111111,
              "#46039f"
             ],
             [
              0.2222222222222222,
              "#7201a8"
             ],
             [
              0.3333333333333333,
              "#9c179e"
             ],
             [
              0.4444444444444444,
              "#bd3786"
             ],
             [
              0.5555555555555556,
              "#d8576b"
             ],
             [
              0.6666666666666666,
              "#ed7953"
             ],
             [
              0.7777777777777778,
              "#fb9f3a"
             ],
             [
              0.8888888888888888,
              "#fdca26"
             ],
             [
              1,
              "#f0f921"
             ]
            ],
            "type": "histogram2d"
           }
          ],
          "histogram2dcontour": [
           {
            "colorbar": {
             "outlinewidth": 0,
             "ticks": ""
            },
            "colorscale": [
             [
              0,
              "#0d0887"
             ],
             [
              0.1111111111111111,
              "#46039f"
             ],
             [
              0.2222222222222222,
              "#7201a8"
             ],
             [
              0.3333333333333333,
              "#9c179e"
             ],
             [
              0.4444444444444444,
              "#bd3786"
             ],
             [
              0.5555555555555556,
              "#d8576b"
             ],
             [
              0.6666666666666666,
              "#ed7953"
             ],
             [
              0.7777777777777778,
              "#fb9f3a"
             ],
             [
              0.8888888888888888,
              "#fdca26"
             ],
             [
              1,
              "#f0f921"
             ]
            ],
            "type": "histogram2dcontour"
           }
          ],
          "mesh3d": [
           {
            "colorbar": {
             "outlinewidth": 0,
             "ticks": ""
            },
            "type": "mesh3d"
           }
          ],
          "parcoords": [
           {
            "line": {
             "colorbar": {
              "outlinewidth": 0,
              "ticks": ""
             }
            },
            "type": "parcoords"
           }
          ],
          "pie": [
           {
            "automargin": true,
            "type": "pie"
           }
          ],
          "scatter": [
           {
            "marker": {
             "line": {
              "color": "#283442"
             }
            },
            "type": "scatter"
           }
          ],
          "scatter3d": [
           {
            "line": {
             "colorbar": {
              "outlinewidth": 0,
              "ticks": ""
             }
            },
            "marker": {
             "colorbar": {
              "outlinewidth": 0,
              "ticks": ""
             }
            },
            "type": "scatter3d"
           }
          ],
          "scattercarpet": [
           {
            "marker": {
             "colorbar": {
              "outlinewidth": 0,
              "ticks": ""
             }
            },
            "type": "scattercarpet"
           }
          ],
          "scattergeo": [
           {
            "marker": {
             "colorbar": {
              "outlinewidth": 0,
              "ticks": ""
             }
            },
            "type": "scattergeo"
           }
          ],
          "scattergl": [
           {
            "marker": {
             "line": {
              "color": "#283442"
             }
            },
            "type": "scattergl"
           }
          ],
          "scattermap": [
           {
            "marker": {
             "colorbar": {
              "outlinewidth": 0,
              "ticks": ""
             }
            },
            "type": "scattermap"
           }
          ],
          "scattermapbox": [
           {
            "marker": {
             "colorbar": {
              "outlinewidth": 0,
              "ticks": ""
             }
            },
            "type": "scattermapbox"
           }
          ],
          "scatterpolar": [
           {
            "marker": {
             "colorbar": {
              "outlinewidth": 0,
              "ticks": ""
             }
            },
            "type": "scatterpolar"
           }
          ],
          "scatterpolargl": [
           {
            "marker": {
             "colorbar": {
              "outlinewidth": 0,
              "ticks": ""
             }
            },
            "type": "scatterpolargl"
           }
          ],
          "scatterternary": [
           {
            "marker": {
             "colorbar": {
              "outlinewidth": 0,
              "ticks": ""
             }
            },
            "type": "scatterternary"
           }
          ],
          "surface": [
           {
            "colorbar": {
             "outlinewidth": 0,
             "ticks": ""
            },
            "colorscale": [
             [
              0,
              "#0d0887"
             ],
             [
              0.1111111111111111,
              "#46039f"
             ],
             [
              0.2222222222222222,
              "#7201a8"
             ],
             [
              0.3333333333333333,
              "#9c179e"
             ],
             [
              0.4444444444444444,
              "#bd3786"
             ],
             [
              0.5555555555555556,
              "#d8576b"
             ],
             [
              0.6666666666666666,
              "#ed7953"
             ],
             [
              0.7777777777777778,
              "#fb9f3a"
             ],
             [
              0.8888888888888888,
              "#fdca26"
             ],
             [
              1,
              "#f0f921"
             ]
            ],
            "type": "surface"
           }
          ],
          "table": [
           {
            "cells": {
             "fill": {
              "color": "#506784"
             },
             "line": {
              "color": "rgb(17,17,17)"
             }
            },
            "header": {
             "fill": {
              "color": "#2a3f5f"
             },
             "line": {
              "color": "rgb(17,17,17)"
             }
            },
            "type": "table"
           }
          ]
         },
         "layout": {
          "annotationdefaults": {
           "arrowcolor": "#f2f5fa",
           "arrowhead": 0,
           "arrowwidth": 1
          },
          "autotypenumbers": "strict",
          "coloraxis": {
           "colorbar": {
            "outlinewidth": 0,
            "ticks": ""
           }
          },
          "colorscale": {
           "diverging": [
            [
             0,
             "#8e0152"
            ],
            [
             0.1,
             "#c51b7d"
            ],
            [
             0.2,
             "#de77ae"
            ],
            [
             0.3,
             "#f1b6da"
            ],
            [
             0.4,
             "#fde0ef"
            ],
            [
             0.5,
             "#f7f7f7"
            ],
            [
             0.6,
             "#e6f5d0"
            ],
            [
             0.7,
             "#b8e186"
            ],
            [
             0.8,
             "#7fbc41"
            ],
            [
             0.9,
             "#4d9221"
            ],
            [
             1,
             "#276419"
            ]
           ],
           "sequential": [
            [
             0,
             "#0d0887"
            ],
            [
             0.1111111111111111,
             "#46039f"
            ],
            [
             0.2222222222222222,
             "#7201a8"
            ],
            [
             0.3333333333333333,
             "#9c179e"
            ],
            [
             0.4444444444444444,
             "#bd3786"
            ],
            [
             0.5555555555555556,
             "#d8576b"
            ],
            [
             0.6666666666666666,
             "#ed7953"
            ],
            [
             0.7777777777777778,
             "#fb9f3a"
            ],
            [
             0.8888888888888888,
             "#fdca26"
            ],
            [
             1,
             "#f0f921"
            ]
           ],
           "sequentialminus": [
            [
             0,
             "#0d0887"
            ],
            [
             0.1111111111111111,
             "#46039f"
            ],
            [
             0.2222222222222222,
             "#7201a8"
            ],
            [
             0.3333333333333333,
             "#9c179e"
            ],
            [
             0.4444444444444444,
             "#bd3786"
            ],
            [
             0.5555555555555556,
             "#d8576b"
            ],
            [
             0.6666666666666666,
             "#ed7953"
            ],
            [
             0.7777777777777778,
             "#fb9f3a"
            ],
            [
             0.8888888888888888,
             "#fdca26"
            ],
            [
             1,
             "#f0f921"
            ]
           ]
          },
          "colorway": [
           "#636efa",
           "#EF553B",
           "#00cc96",
           "#ab63fa",
           "#FFA15A",
           "#19d3f3",
           "#FF6692",
           "#B6E880",
           "#FF97FF",
           "#FECB52"
          ],
          "font": {
           "color": "#f2f5fa"
          },
          "geo": {
           "bgcolor": "rgb(17,17,17)",
           "lakecolor": "rgb(17,17,17)",
           "landcolor": "rgb(17,17,17)",
           "showlakes": true,
           "showland": true,
           "subunitcolor": "#506784"
          },
          "hoverlabel": {
           "align": "left"
          },
          "hovermode": "closest",
          "mapbox": {
           "style": "dark"
          },
          "paper_bgcolor": "rgb(17,17,17)",
          "plot_bgcolor": "rgb(17,17,17)",
          "polar": {
           "angularaxis": {
            "gridcolor": "#506784",
            "linecolor": "#506784",
            "ticks": ""
           },
           "bgcolor": "rgb(17,17,17)",
           "radialaxis": {
            "gridcolor": "#506784",
            "linecolor": "#506784",
            "ticks": ""
           }
          },
          "scene": {
           "xaxis": {
            "backgroundcolor": "rgb(17,17,17)",
            "gridcolor": "#506784",
            "gridwidth": 2,
            "linecolor": "#506784",
            "showbackground": true,
            "ticks": "",
            "zerolinecolor": "#C8D4E3"
           },
           "yaxis": {
            "backgroundcolor": "rgb(17,17,17)",
            "gridcolor": "#506784",
            "gridwidth": 2,
            "linecolor": "#506784",
            "showbackground": true,
            "ticks": "",
            "zerolinecolor": "#C8D4E3"
           },
           "zaxis": {
            "backgroundcolor": "rgb(17,17,17)",
            "gridcolor": "#506784",
            "gridwidth": 2,
            "linecolor": "#506784",
            "showbackground": true,
            "ticks": "",
            "zerolinecolor": "#C8D4E3"
           }
          },
          "shapedefaults": {
           "line": {
            "color": "#f2f5fa"
           }
          },
          "sliderdefaults": {
           "bgcolor": "#C8D4E3",
           "bordercolor": "rgb(17,17,17)",
           "borderwidth": 1,
           "tickwidth": 0
          },
          "ternary": {
           "aaxis": {
            "gridcolor": "#506784",
            "linecolor": "#506784",
            "ticks": ""
           },
           "baxis": {
            "gridcolor": "#506784",
            "linecolor": "#506784",
            "ticks": ""
           },
           "bgcolor": "rgb(17,17,17)",
           "caxis": {
            "gridcolor": "#506784",
            "linecolor": "#506784",
            "ticks": ""
           }
          },
          "title": {
           "x": 0.05
          },
          "updatemenudefaults": {
           "bgcolor": "#506784",
           "borderwidth": 0
          },
          "xaxis": {
           "automargin": true,
           "gridcolor": "#283442",
           "linecolor": "#506784",
           "ticks": "",
           "title": {
            "standoff": 15
           },
           "zerolinecolor": "#283442",
           "zerolinewidth": 2
          },
          "yaxis": {
           "automargin": true,
           "gridcolor": "#283442",
           "linecolor": "#506784",
           "ticks": "",
           "title": {
            "standoff": 15
           },
           "zerolinecolor": "#283442",
           "zerolinewidth": 2
          }
         }
        },
        "title": {
         "text": "💰 Mean Insurance Amount by Year"
        },
        "xaxis": {
         "anchor": "y",
         "domain": [
          0,
          1
         ],
         "dtick": 1,
         "title": {
          "text": "Year"
         }
        },
        "yaxis": {
         "anchor": "x",
         "domain": [
          0,
          1
         ],
         "title": {
          "text": "Mean Amount"
         }
        }
       }
      }
     },
     "metadata": {},
     "output_type": "display_data"
    }
   ],
   "source": [
    "import pandas as pd\n",
    "import plotly.express as px\n",
    "import os\n",
    "\n",
    "# Ensure output folder exists\n",
    "os.makedirs(\"outputs\", exist_ok=True)\n",
    "\n",
    "# Load and clean the data\n",
    "df = pd.read_csv(\"cleaned_data\\\\aggregated_insurance.csv\")\n",
    "df.columns = df.columns.str.strip().str.lower()\n",
    "\n",
    "# Group by year and calculate the MEAN of count and amount\n",
    "df_grouped = df.groupby(\"year\")[[\"count\", \"amount\"]].mean().reset_index()\n",
    "df_grouped.rename(columns={\"count\": \"mean_count\", \"amount\": \"mean_amount\"}, inplace=True)\n",
    "df_grouped = df_grouped.sort_values(\"year\")  # Ensure years are sorted chronologically\n",
    "\n",
    "# 📈 Line chart for mean count by year\n",
    "fig1 = px.line(df_grouped, x=\"year\", y=\"mean_count\", markers=True,\n",
    "               title=\"📈 Mean Insurance Count by Year\",\n",
    "               template=\"plotly_dark\")\n",
    "fig1.update_layout(xaxis=dict(title=\"Year\", dtick=1), yaxis=dict(title=\"Mean Count\"))\n",
    "\n",
    "# Save fig1\n",
    "fig1.write_image(\"outputs/mean_insurance_count_by_year.png\", width=1000, height=500)\n",
    "fig1.show()\n",
    "\n",
    "# 💰 Line chart for mean amount by year\n",
    "fig2 = px.line(df_grouped, x=\"year\", y=\"mean_amount\", markers=True,\n",
    "               title=\"💰 Mean Insurance Amount by Year\",\n",
    "               template=\"plotly_dark\")\n",
    "fig2.update_layout(xaxis=dict(title=\"Year\", dtick=1), yaxis=dict(title=\"Mean Amount\"))\n",
    "\n",
    "# Save fig2\n",
    "fig2.write_image(\"outputs/mean_insurance_amount_by_year.png\", width=1000, height=500)\n",
    "fig2.show()\n"
   ]
  },
  {
   "cell_type": "code",
   "execution_count": 4,
   "metadata": {},
   "outputs": [
    {
     "data": {
      "application/vnd.plotly.v1+json": {
       "config": {
        "plotlyServerURL": "https://plot.ly"
       },
       "data": [
        {
         "hovertemplate": "year=2018<br>name=%{x}<br>amount=%{y}<extra></extra>",
         "legendgroup": "2018",
         "line": {
          "color": "#636efa",
          "dash": "solid"
         },
         "marker": {
          "symbol": "circle"
         },
         "mode": "lines+markers",
         "name": "2018",
         "orientation": "v",
         "showlegend": true,
         "type": "scatter",
         "x": [
          "Financial Services",
          "Merchant payments",
          "Others",
          "Peer-to-peer payments",
          "Recharge & bill payments"
         ],
         "xaxis": "x",
         "y": {
          "bdata": "cT26awv260GPQoRR/V8qQgrX54D4jRJChWsp/DTadEJIIc1wjo45Qg==",
          "dtype": "f8"
         },
         "yaxis": "y"
        },
        {
         "hovertemplate": "year=2019<br>name=%{x}<br>amount=%{y}<extra></extra>",
         "legendgroup": "2019",
         "line": {
          "color": "#EF553B",
          "dash": "solid"
         },
         "marker": {
          "symbol": "circle"
         },
         "mode": "lines+markers",
         "name": "2019",
         "orientation": "v",
         "showlegend": true,
         "type": "scatter",
         "x": [
          "Financial Services",
          "Merchant payments",
          "Others",
          "Peer-to-peer payments",
          "Recharge & bill payments"
         ],
         "xaxis": "x",
         "y": {
          "bdata": "AAAQ2kpE4UHssfbl7/JXQj0KuF8FUxZCCkikq833k0KFayaDbWJUQg==",
          "dtype": "f8"
         },
         "yaxis": "y"
        },
        {
         "hovertemplate": "year=2020<br>name=%{x}<br>amount=%{y}<extra></extra>",
         "legendgroup": "2020",
         "line": {
          "color": "#00cc96",
          "dash": "solid"
         },
         "marker": {
          "symbol": "circle"
         },
         "mode": "lines+markers",
         "name": "2020",
         "orientation": "v",
         "showlegend": true,
         "type": "scatter",
         "x": [
          "Financial Services",
          "Merchant payments",
          "Others",
          "Peer-to-peer payments",
          "Recharge & bill payments"
         ],
         "xaxis": "x",
         "y": {
          "bdata": "16PMyf+B/0Fce/ElHoh2QgrXAydPewpCYZTqKsBrpkLNtF0R+KdlQg==",
          "dtype": "f8"
         },
         "yaxis": "y"
        },
        {
         "hovertemplate": "year=2021<br>name=%{x}<br>amount=%{y}<extra></extra>",
         "legendgroup": "2021",
         "line": {
          "color": "#ab63fa",
          "dash": "solid"
         },
         "marker": {
          "symbol": "circle"
         },
         "mode": "lines+markers",
         "name": "2021",
         "orientation": "v",
         "showlegend": true,
         "type": "scatter",
         "x": [
          "Financial Services",
          "Merchant payments",
          "Others",
          "Peer-to-peer payments",
          "Recharge & bill payments"
         ],
         "xaxis": "x",
         "y": {
          "bdata": "PQqVr/xaDkLXVjBCzyyTQj0KFz7tXhlCc1gCyppvuUI9fpHuFytzQg==",
          "dtype": "f8"
         },
         "yaxis": "y"
        },
        {
         "hovertemplate": "year=2022<br>name=%{x}<br>amount=%{y}<extra></extra>",
         "legendgroup": "2022",
         "line": {
          "color": "#FFA15A",
          "dash": "solid"
         },
         "marker": {
          "symbol": "circle"
         },
         "mode": "lines+markers",
         "name": "2022",
         "orientation": "v",
         "showlegend": true,
         "type": "scatter",
         "x": [
          "Financial Services",
          "Merchant payments",
          "Others",
          "Peer-to-peer payments",
          "Recharge & bill payments"
         ],
         "xaxis": "x",
         "y": {
          "bdata": "AADjJP1mEUKzXyPuW7qlQoXrbCHRNhtCAZU+vhvCxkKaW6ZU+DSAQg==",
          "dtype": "f8"
         },
         "yaxis": "y"
        },
        {
         "hovertemplate": "year=2023<br>name=%{x}<br>amount=%{y}<extra></extra>",
         "legendgroup": "2023",
         "line": {
          "color": "#19d3f3",
          "dash": "solid"
         },
         "marker": {
          "symbol": "circle"
         },
         "mode": "lines+markers",
         "name": "2023",
         "orientation": "v",
         "showlegend": true,
         "type": "scatter",
         "x": [
          "Financial Services",
          "Merchant payments",
          "Others",
          "Peer-to-peer payments",
          "Recharge & bill payments"
         ],
         "xaxis": "x",
         "y": {
          "bdata": "AACg+M98HEIARW0XTH2wQgAAoJ40aBlCANi0s2990EIA4B6LloCLQg==",
          "dtype": "f8"
         },
         "yaxis": "y"
        },
        {
         "hovertemplate": "year=2024<br>name=%{x}<br>amount=%{y}<extra></extra>",
         "legendgroup": "2024",
         "line": {
          "color": "#FF6692",
          "dash": "solid"
         },
         "marker": {
          "symbol": "circle"
         },
         "mode": "lines+markers",
         "name": "2024",
         "orientation": "v",
         "showlegend": true,
         "type": "scatter",
         "x": [
          "Financial Services",
          "Merchant payments",
          "Others",
          "Peer-to-peer payments",
          "Recharge & bill payments"
         ],
         "xaxis": "x",
         "y": {
          "bdata": "AABoumnVLEIAbvyp9HG5QgAAHP0mMx5CwF0eKi3/1UIACBSOwn+RQg==",
          "dtype": "f8"
         },
         "yaxis": "y"
        }
       ],
       "layout": {
        "height": 600,
        "legend": {
         "title": {
          "text": "Year"
         },
         "tracegroupgap": 0
        },
        "template": {
         "data": {
          "bar": [
           {
            "error_x": {
             "color": "#f2f5fa"
            },
            "error_y": {
             "color": "#f2f5fa"
            },
            "marker": {
             "line": {
              "color": "rgb(17,17,17)",
              "width": 0.5
             },
             "pattern": {
              "fillmode": "overlay",
              "size": 10,
              "solidity": 0.2
             }
            },
            "type": "bar"
           }
          ],
          "barpolar": [
           {
            "marker": {
             "line": {
              "color": "rgb(17,17,17)",
              "width": 0.5
             },
             "pattern": {
              "fillmode": "overlay",
              "size": 10,
              "solidity": 0.2
             }
            },
            "type": "barpolar"
           }
          ],
          "carpet": [
           {
            "aaxis": {
             "endlinecolor": "#A2B1C6",
             "gridcolor": "#506784",
             "linecolor": "#506784",
             "minorgridcolor": "#506784",
             "startlinecolor": "#A2B1C6"
            },
            "baxis": {
             "endlinecolor": "#A2B1C6",
             "gridcolor": "#506784",
             "linecolor": "#506784",
             "minorgridcolor": "#506784",
             "startlinecolor": "#A2B1C6"
            },
            "type": "carpet"
           }
          ],
          "choropleth": [
           {
            "colorbar": {
             "outlinewidth": 0,
             "ticks": ""
            },
            "type": "choropleth"
           }
          ],
          "contour": [
           {
            "colorbar": {
             "outlinewidth": 0,
             "ticks": ""
            },
            "colorscale": [
             [
              0,
              "#0d0887"
             ],
             [
              0.1111111111111111,
              "#46039f"
             ],
             [
              0.2222222222222222,
              "#7201a8"
             ],
             [
              0.3333333333333333,
              "#9c179e"
             ],
             [
              0.4444444444444444,
              "#bd3786"
             ],
             [
              0.5555555555555556,
              "#d8576b"
             ],
             [
              0.6666666666666666,
              "#ed7953"
             ],
             [
              0.7777777777777778,
              "#fb9f3a"
             ],
             [
              0.8888888888888888,
              "#fdca26"
             ],
             [
              1,
              "#f0f921"
             ]
            ],
            "type": "contour"
           }
          ],
          "contourcarpet": [
           {
            "colorbar": {
             "outlinewidth": 0,
             "ticks": ""
            },
            "type": "contourcarpet"
           }
          ],
          "heatmap": [
           {
            "colorbar": {
             "outlinewidth": 0,
             "ticks": ""
            },
            "colorscale": [
             [
              0,
              "#0d0887"
             ],
             [
              0.1111111111111111,
              "#46039f"
             ],
             [
              0.2222222222222222,
              "#7201a8"
             ],
             [
              0.3333333333333333,
              "#9c179e"
             ],
             [
              0.4444444444444444,
              "#bd3786"
             ],
             [
              0.5555555555555556,
              "#d8576b"
             ],
             [
              0.6666666666666666,
              "#ed7953"
             ],
             [
              0.7777777777777778,
              "#fb9f3a"
             ],
             [
              0.8888888888888888,
              "#fdca26"
             ],
             [
              1,
              "#f0f921"
             ]
            ],
            "type": "heatmap"
           }
          ],
          "histogram": [
           {
            "marker": {
             "pattern": {
              "fillmode": "overlay",
              "size": 10,
              "solidity": 0.2
             }
            },
            "type": "histogram"
           }
          ],
          "histogram2d": [
           {
            "colorbar": {
             "outlinewidth": 0,
             "ticks": ""
            },
            "colorscale": [
             [
              0,
              "#0d0887"
             ],
             [
              0.1111111111111111,
              "#46039f"
             ],
             [
              0.2222222222222222,
              "#7201a8"
             ],
             [
              0.3333333333333333,
              "#9c179e"
             ],
             [
              0.4444444444444444,
              "#bd3786"
             ],
             [
              0.5555555555555556,
              "#d8576b"
             ],
             [
              0.6666666666666666,
              "#ed7953"
             ],
             [
              0.7777777777777778,
              "#fb9f3a"
             ],
             [
              0.8888888888888888,
              "#fdca26"
             ],
             [
              1,
              "#f0f921"
             ]
            ],
            "type": "histogram2d"
           }
          ],
          "histogram2dcontour": [
           {
            "colorbar": {
             "outlinewidth": 0,
             "ticks": ""
            },
            "colorscale": [
             [
              0,
              "#0d0887"
             ],
             [
              0.1111111111111111,
              "#46039f"
             ],
             [
              0.2222222222222222,
              "#7201a8"
             ],
             [
              0.3333333333333333,
              "#9c179e"
             ],
             [
              0.4444444444444444,
              "#bd3786"
             ],
             [
              0.5555555555555556,
              "#d8576b"
             ],
             [
              0.6666666666666666,
              "#ed7953"
             ],
             [
              0.7777777777777778,
              "#fb9f3a"
             ],
             [
              0.8888888888888888,
              "#fdca26"
             ],
             [
              1,
              "#f0f921"
             ]
            ],
            "type": "histogram2dcontour"
           }
          ],
          "mesh3d": [
           {
            "colorbar": {
             "outlinewidth": 0,
             "ticks": ""
            },
            "type": "mesh3d"
           }
          ],
          "parcoords": [
           {
            "line": {
             "colorbar": {
              "outlinewidth": 0,
              "ticks": ""
             }
            },
            "type": "parcoords"
           }
          ],
          "pie": [
           {
            "automargin": true,
            "type": "pie"
           }
          ],
          "scatter": [
           {
            "marker": {
             "line": {
              "color": "#283442"
             }
            },
            "type": "scatter"
           }
          ],
          "scatter3d": [
           {
            "line": {
             "colorbar": {
              "outlinewidth": 0,
              "ticks": ""
             }
            },
            "marker": {
             "colorbar": {
              "outlinewidth": 0,
              "ticks": ""
             }
            },
            "type": "scatter3d"
           }
          ],
          "scattercarpet": [
           {
            "marker": {
             "colorbar": {
              "outlinewidth": 0,
              "ticks": ""
             }
            },
            "type": "scattercarpet"
           }
          ],
          "scattergeo": [
           {
            "marker": {
             "colorbar": {
              "outlinewidth": 0,
              "ticks": ""
             }
            },
            "type": "scattergeo"
           }
          ],
          "scattergl": [
           {
            "marker": {
             "line": {
              "color": "#283442"
             }
            },
            "type": "scattergl"
           }
          ],
          "scattermap": [
           {
            "marker": {
             "colorbar": {
              "outlinewidth": 0,
              "ticks": ""
             }
            },
            "type": "scattermap"
           }
          ],
          "scattermapbox": [
           {
            "marker": {
             "colorbar": {
              "outlinewidth": 0,
              "ticks": ""
             }
            },
            "type": "scattermapbox"
           }
          ],
          "scatterpolar": [
           {
            "marker": {
             "colorbar": {
              "outlinewidth": 0,
              "ticks": ""
             }
            },
            "type": "scatterpolar"
           }
          ],
          "scatterpolargl": [
           {
            "marker": {
             "colorbar": {
              "outlinewidth": 0,
              "ticks": ""
             }
            },
            "type": "scatterpolargl"
           }
          ],
          "scatterternary": [
           {
            "marker": {
             "colorbar": {
              "outlinewidth": 0,
              "ticks": ""
             }
            },
            "type": "scatterternary"
           }
          ],
          "surface": [
           {
            "colorbar": {
             "outlinewidth": 0,
             "ticks": ""
            },
            "colorscale": [
             [
              0,
              "#0d0887"
             ],
             [
              0.1111111111111111,
              "#46039f"
             ],
             [
              0.2222222222222222,
              "#7201a8"
             ],
             [
              0.3333333333333333,
              "#9c179e"
             ],
             [
              0.4444444444444444,
              "#bd3786"
             ],
             [
              0.5555555555555556,
              "#d8576b"
             ],
             [
              0.6666666666666666,
              "#ed7953"
             ],
             [
              0.7777777777777778,
              "#fb9f3a"
             ],
             [
              0.8888888888888888,
              "#fdca26"
             ],
             [
              1,
              "#f0f921"
             ]
            ],
            "type": "surface"
           }
          ],
          "table": [
           {
            "cells": {
             "fill": {
              "color": "#506784"
             },
             "line": {
              "color": "rgb(17,17,17)"
             }
            },
            "header": {
             "fill": {
              "color": "#2a3f5f"
             },
             "line": {
              "color": "rgb(17,17,17)"
             }
            },
            "type": "table"
           }
          ]
         },
         "layout": {
          "annotationdefaults": {
           "arrowcolor": "#f2f5fa",
           "arrowhead": 0,
           "arrowwidth": 1
          },
          "autotypenumbers": "strict",
          "coloraxis": {
           "colorbar": {
            "outlinewidth": 0,
            "ticks": ""
           }
          },
          "colorscale": {
           "diverging": [
            [
             0,
             "#8e0152"
            ],
            [
             0.1,
             "#c51b7d"
            ],
            [
             0.2,
             "#de77ae"
            ],
            [
             0.3,
             "#f1b6da"
            ],
            [
             0.4,
             "#fde0ef"
            ],
            [
             0.5,
             "#f7f7f7"
            ],
            [
             0.6,
             "#e6f5d0"
            ],
            [
             0.7,
             "#b8e186"
            ],
            [
             0.8,
             "#7fbc41"
            ],
            [
             0.9,
             "#4d9221"
            ],
            [
             1,
             "#276419"
            ]
           ],
           "sequential": [
            [
             0,
             "#0d0887"
            ],
            [
             0.1111111111111111,
             "#46039f"
            ],
            [
             0.2222222222222222,
             "#7201a8"
            ],
            [
             0.3333333333333333,
             "#9c179e"
            ],
            [
             0.4444444444444444,
             "#bd3786"
            ],
            [
             0.5555555555555556,
             "#d8576b"
            ],
            [
             0.6666666666666666,
             "#ed7953"
            ],
            [
             0.7777777777777778,
             "#fb9f3a"
            ],
            [
             0.8888888888888888,
             "#fdca26"
            ],
            [
             1,
             "#f0f921"
            ]
           ],
           "sequentialminus": [
            [
             0,
             "#0d0887"
            ],
            [
             0.1111111111111111,
             "#46039f"
            ],
            [
             0.2222222222222222,
             "#7201a8"
            ],
            [
             0.3333333333333333,
             "#9c179e"
            ],
            [
             0.4444444444444444,
             "#bd3786"
            ],
            [
             0.5555555555555556,
             "#d8576b"
            ],
            [
             0.6666666666666666,
             "#ed7953"
            ],
            [
             0.7777777777777778,
             "#fb9f3a"
            ],
            [
             0.8888888888888888,
             "#fdca26"
            ],
            [
             1,
             "#f0f921"
            ]
           ]
          },
          "colorway": [
           "#636efa",
           "#EF553B",
           "#00cc96",
           "#ab63fa",
           "#FFA15A",
           "#19d3f3",
           "#FF6692",
           "#B6E880",
           "#FF97FF",
           "#FECB52"
          ],
          "font": {
           "color": "#f2f5fa"
          },
          "geo": {
           "bgcolor": "rgb(17,17,17)",
           "lakecolor": "rgb(17,17,17)",
           "landcolor": "rgb(17,17,17)",
           "showlakes": true,
           "showland": true,
           "subunitcolor": "#506784"
          },
          "hoverlabel": {
           "align": "left"
          },
          "hovermode": "closest",
          "mapbox": {
           "style": "dark"
          },
          "paper_bgcolor": "rgb(17,17,17)",
          "plot_bgcolor": "rgb(17,17,17)",
          "polar": {
           "angularaxis": {
            "gridcolor": "#506784",
            "linecolor": "#506784",
            "ticks": ""
           },
           "bgcolor": "rgb(17,17,17)",
           "radialaxis": {
            "gridcolor": "#506784",
            "linecolor": "#506784",
            "ticks": ""
           }
          },
          "scene": {
           "xaxis": {
            "backgroundcolor": "rgb(17,17,17)",
            "gridcolor": "#506784",
            "gridwidth": 2,
            "linecolor": "#506784",
            "showbackground": true,
            "ticks": "",
            "zerolinecolor": "#C8D4E3"
           },
           "yaxis": {
            "backgroundcolor": "rgb(17,17,17)",
            "gridcolor": "#506784",
            "gridwidth": 2,
            "linecolor": "#506784",
            "showbackground": true,
            "ticks": "",
            "zerolinecolor": "#C8D4E3"
           },
           "zaxis": {
            "backgroundcolor": "rgb(17,17,17)",
            "gridcolor": "#506784",
            "gridwidth": 2,
            "linecolor": "#506784",
            "showbackground": true,
            "ticks": "",
            "zerolinecolor": "#C8D4E3"
           }
          },
          "shapedefaults": {
           "line": {
            "color": "#f2f5fa"
           }
          },
          "sliderdefaults": {
           "bgcolor": "#C8D4E3",
           "bordercolor": "rgb(17,17,17)",
           "borderwidth": 1,
           "tickwidth": 0
          },
          "ternary": {
           "aaxis": {
            "gridcolor": "#506784",
            "linecolor": "#506784",
            "ticks": ""
           },
           "baxis": {
            "gridcolor": "#506784",
            "linecolor": "#506784",
            "ticks": ""
           },
           "bgcolor": "rgb(17,17,17)",
           "caxis": {
            "gridcolor": "#506784",
            "linecolor": "#506784",
            "ticks": ""
           }
          },
          "title": {
           "x": 0.05
          },
          "updatemenudefaults": {
           "bgcolor": "#506784",
           "borderwidth": 0
          },
          "xaxis": {
           "automargin": true,
           "gridcolor": "#283442",
           "linecolor": "#506784",
           "ticks": "",
           "title": {
            "standoff": 15
           },
           "zerolinecolor": "#283442",
           "zerolinewidth": 2
          },
          "yaxis": {
           "automargin": true,
           "gridcolor": "#283442",
           "linecolor": "#506784",
           "ticks": "",
           "title": {
            "standoff": 15
           },
           "zerolinecolor": "#283442",
           "zerolinewidth": 2
          }
         }
        },
        "title": {
         "text": "💰 Total Transaction Amount by Type (Year-wise)"
        },
        "width": 1100,
        "xaxis": {
         "anchor": "y",
         "domain": [
          0,
          1
         ],
         "tickangle": 45,
         "title": {
          "text": "Transaction Type"
         }
        },
        "yaxis": {
         "anchor": "x",
         "domain": [
          0,
          1
         ],
         "title": {
          "text": "Total Amount"
         }
        }
       }
      }
     },
     "metadata": {},
     "output_type": "display_data"
    }
   ],
   "source": [
    "import pandas as pd\n",
    "import plotly.express as px\n",
    "\n",
    "# Load your dataset\n",
    "df = pd.read_csv(\"cleaned_data/aggregated_transaction.csv\")  # Update path if needed\n",
    "\n",
    "# 🧼 Clean columns\n",
    "df.columns = df.columns.str.strip().str.lower()\n",
    "\n",
    "# 🧠 Group by year + name and sum the amount\n",
    "df_grouped = df.groupby([\"year\", \"name\"])[\"amount\"].sum().reset_index()\n",
    "\n",
    "# 📈 Line plot with one line per year, x-axis = name (transaction type)\n",
    "fig = px.line(\n",
    "    df_grouped,\n",
    "    x=\"name\",\n",
    "    y=\"amount\",\n",
    "    color=\"year\",                # One line per year\n",
    "    markers=True,\n",
    "    title=\"💰 Total Transaction Amount by Type (Year-wise)\",\n",
    "    template=\"plotly_dark\"\n",
    ")\n",
    "\n",
    "fig.update_layout(\n",
    "    xaxis=dict(title=\"Transaction Type\", tickangle=45),\n",
    "    yaxis=dict(title=\"Total Amount\"),\n",
    "    legend_title=\"Year\",\n",
    "    width=1100,\n",
    "    height=600\n",
    ")\n",
    "\n",
    "# Show plot\n",
    "fig.show()\n",
    "\n",
    "# Optional: Save to PNG (requires kaleido)\n",
    "fig.write_image(\"outputs/transaction_amount_by_type_per_year.png\")\n"
   ]
  },
  {
   "cell_type": "code",
   "execution_count": null,
   "metadata": {},
   "outputs": [],
   "source": []
  },
  {
   "cell_type": "code",
   "execution_count": null,
   "metadata": {},
   "outputs": [],
   "source": []
  },
  {
   "cell_type": "code",
   "execution_count": null,
   "metadata": {},
   "outputs": [],
   "source": []
  }
 ],
 "metadata": {
  "kernelspec": {
   "display_name": ".venv",
   "language": "python",
   "name": "python3"
  },
  "language_info": {
   "codemirror_mode": {
    "name": "ipython",
    "version": 3
   },
   "file_extension": ".py",
   "mimetype": "text/x-python",
   "name": "python",
   "nbconvert_exporter": "python",
   "pygments_lexer": "ipython3",
   "version": "3.11.4"
  }
 },
 "nbformat": 4,
 "nbformat_minor": 2
}
